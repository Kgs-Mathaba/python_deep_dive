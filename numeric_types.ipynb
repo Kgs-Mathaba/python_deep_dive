{
  "nbformat": 4,
  "nbformat_minor": 0,
  "metadata": {
    "colab": {
      "provenance": [],
      "authorship_tag": "ABX9TyNf6rXzkVaA2HvnzWOB+s46",
      "include_colab_link": true
    },
    "kernelspec": {
      "name": "python3",
      "display_name": "Python 3"
    },
    "language_info": {
      "name": "python"
    }
  },
  "cells": [
    {
      "cell_type": "markdown",
      "metadata": {
        "id": "view-in-github",
        "colab_type": "text"
      },
      "source": [
        "<a href=\"https://colab.research.google.com/github/Kgs-Mathaba/python_deep_dive/blob/main/numeric_types.ipynb\" target=\"_parent\"><img src=\"https://colab.research.google.com/assets/colab-badge.svg\" alt=\"Open In Colab\"/></a>"
      ]
    },
    {
      "cell_type": "code",
      "execution_count": 1,
      "metadata": {
        "colab": {
          "base_uri": "https://localhost:8080/"
        },
        "id": "OrCw2jrefPuS",
        "outputId": "cda7fc58-b492-4d16-98ab-c16414602c31"
      },
      "outputs": [
        {
          "output_type": "stream",
          "name": "stdout",
          "text": [
            "<class 'int'>\n"
          ]
        }
      ],
      "source": [
        "print(type(100))"
      ]
    },
    {
      "cell_type": "code",
      "source": [
        "import sys"
      ],
      "metadata": {
        "id": "2c1i1baXiJUb"
      },
      "execution_count": 2,
      "outputs": []
    },
    {
      "cell_type": "code",
      "source": [
        "sys.getsizeof(0)"
      ],
      "metadata": {
        "colab": {
          "base_uri": "https://localhost:8080/"
        },
        "id": "6DXhiRGniKoi",
        "outputId": "8793d406-3bf9-4f09-d072-5f2ec4ef98d7"
      },
      "execution_count": 3,
      "outputs": [
        {
          "output_type": "execute_result",
          "data": {
            "text/plain": [
              "24"
            ]
          },
          "metadata": {},
          "execution_count": 3
        }
      ]
    },
    {
      "cell_type": "code",
      "source": [
        "sys.getsizeof(1)"
      ],
      "metadata": {
        "colab": {
          "base_uri": "https://localhost:8080/"
        },
        "id": "g5IljrXxiPNJ",
        "outputId": "177ea515-a559-4485-9a01-ab91d7c57c74"
      },
      "execution_count": 4,
      "outputs": [
        {
          "output_type": "execute_result",
          "data": {
            "text/plain": [
              "28"
            ]
          },
          "metadata": {},
          "execution_count": 4
        }
      ]
    },
    {
      "cell_type": "code",
      "source": [
        "sys.getsizeof(2**1000)"
      ],
      "metadata": {
        "colab": {
          "base_uri": "https://localhost:8080/"
        },
        "id": "J_xl5nSliaR8",
        "outputId": "b85f91b5-7d3f-4b20-e287-76fc3603b707"
      },
      "execution_count": 5,
      "outputs": [
        {
          "output_type": "execute_result",
          "data": {
            "text/plain": [
              "160"
            ]
          },
          "metadata": {},
          "execution_count": 5
        }
      ]
    },
    {
      "cell_type": "code",
      "source": [
        "print(2**1000)"
      ],
      "metadata": {
        "colab": {
          "base_uri": "https://localhost:8080/"
        },
        "id": "0go8c1MUifev",
        "outputId": "d78e2504-7362-4d62-c05f-ef8f23d0fdf8"
      },
      "execution_count": 6,
      "outputs": [
        {
          "output_type": "stream",
          "name": "stdout",
          "text": [
            "10715086071862673209484250490600018105614048117055336074437503883703510511249361224931983788156958581275946729175531468251871452856923140435984577574698574803934567774824230985421074605062371141877954182153046474983581941267398767559165543946077062914571196477686542167660429831652624386837205668069376\n"
          ]
        }
      ]
    },
    {
      "cell_type": "code",
      "source": [
        "import time"
      ],
      "metadata": {
        "id": "acZY1DLLiqel"
      },
      "execution_count": 7,
      "outputs": []
    },
    {
      "cell_type": "code",
      "source": [
        "def calc(a: int):\n",
        "    for i in range(10000000):\n",
        "        a * 2"
      ],
      "metadata": {
        "id": "iBCZhGuOixYt"
      },
      "execution_count": 8,
      "outputs": []
    },
    {
      "cell_type": "code",
      "source": [
        "start = time.perf_counter()\n",
        "calc(10)\n",
        "end = time.perf_counter()\n",
        "print(end - start)"
      ],
      "metadata": {
        "colab": {
          "base_uri": "https://localhost:8080/"
        },
        "id": "oPW51O3Ui8hw",
        "outputId": "f36b6b33-339b-4ce4-e46f-91e0e248fc26"
      },
      "execution_count": 9,
      "outputs": [
        {
          "output_type": "stream",
          "name": "stdout",
          "text": [
            "1.2016720419999842\n"
          ]
        }
      ]
    },
    {
      "cell_type": "code",
      "source": [
        "start = time.perf_counter()\n",
        "calc(2**100)\n",
        "end = time.perf_counter()\n",
        "print(end - start)"
      ],
      "metadata": {
        "colab": {
          "base_uri": "https://localhost:8080/"
        },
        "id": "NFbRXun6jJY1",
        "outputId": "598933de-772d-47d1-adad-c3652b580cd1"
      },
      "execution_count": 10,
      "outputs": [
        {
          "output_type": "stream",
          "name": "stdout",
          "text": [
            "1.5572957100000053\n"
          ]
        }
      ]
    },
    {
      "cell_type": "code",
      "source": [
        "start = time.perf_counter()\n",
        "calc(2**1000)\n",
        "end = time.perf_counter()\n",
        "print(end - start)"
      ],
      "metadata": {
        "colab": {
          "base_uri": "https://localhost:8080/"
        },
        "id": "LdwPooIujTrF",
        "outputId": "e4c51c15-4540-4e74-b105-06fbecbaffae"
      },
      "execution_count": 11,
      "outputs": [
        {
          "output_type": "stream",
          "name": "stdout",
          "text": [
            "2.6731144729999983\n"
          ]
        }
      ]
    },
    {
      "cell_type": "code",
      "source": [
        "start = time.perf_counter()\n",
        "calc(2**10000)\n",
        "end = time.perf_counter()\n",
        "print(end - start)"
      ],
      "metadata": {
        "colab": {
          "base_uri": "https://localhost:8080/"
        },
        "id": "jdbpZ1aUjaKk",
        "outputId": "ff1d03b3-5633-4046-c34e-59770fa98c44"
      },
      "execution_count": 12,
      "outputs": [
        {
          "output_type": "stream",
          "name": "stdout",
          "text": [
            "4.910909857000007\n"
          ]
        }
      ]
    },
    {
      "cell_type": "code",
      "source": [
        "type(1+1)"
      ],
      "metadata": {
        "id": "cioDNXdWjf1O",
        "colab": {
          "base_uri": "https://localhost:8080/"
        },
        "outputId": "3df58a70-93ee-4423-d24f-a6d94b199548"
      },
      "execution_count": 13,
      "outputs": [
        {
          "output_type": "execute_result",
          "data": {
            "text/plain": [
              "int"
            ]
          },
          "metadata": {},
          "execution_count": 13
        }
      ]
    },
    {
      "cell_type": "code",
      "source": [
        "type(4-10)"
      ],
      "metadata": {
        "colab": {
          "base_uri": "https://localhost:8080/"
        },
        "id": "awV2ouuKtbPd",
        "outputId": "02db2bbc-8125-41c9-83e8-b848a1e65937"
      },
      "execution_count": 14,
      "outputs": [
        {
          "output_type": "execute_result",
          "data": {
            "text/plain": [
              "int"
            ]
          },
          "metadata": {},
          "execution_count": 14
        }
      ]
    },
    {
      "cell_type": "code",
      "source": [
        "type(2/3)"
      ],
      "metadata": {
        "colab": {
          "base_uri": "https://localhost:8080/"
        },
        "id": "gcwFOg-Htd_P",
        "outputId": "9d58abe8-c6bc-4270-961a-a7ce70ccab48"
      },
      "execution_count": 15,
      "outputs": [
        {
          "output_type": "execute_result",
          "data": {
            "text/plain": [
              "float"
            ]
          },
          "metadata": {},
          "execution_count": 15
        }
      ]
    },
    {
      "cell_type": "code",
      "source": [
        "type(4/2)"
      ],
      "metadata": {
        "colab": {
          "base_uri": "https://localhost:8080/"
        },
        "id": "4mWgRbpQtgK1",
        "outputId": "4f48e78f-8a5d-4bcd-a0eb-98d6b66e2b83"
      },
      "execution_count": 16,
      "outputs": [
        {
          "output_type": "execute_result",
          "data": {
            "text/plain": [
              "float"
            ]
          },
          "metadata": {},
          "execution_count": 16
        }
      ]
    },
    {
      "cell_type": "code",
      "source": [
        "type(3/1)"
      ],
      "metadata": {
        "colab": {
          "base_uri": "https://localhost:8080/"
        },
        "id": "e0YYtEidtiBR",
        "outputId": "1fb49fb7-caf1-49e0-cc64-8a03fbe00e8e"
      },
      "execution_count": 17,
      "outputs": [
        {
          "output_type": "execute_result",
          "data": {
            "text/plain": [
              "float"
            ]
          },
          "metadata": {},
          "execution_count": 17
        }
      ]
    },
    {
      "cell_type": "code",
      "source": [
        "import math"
      ],
      "metadata": {
        "id": "1JXRyL4ttkm4"
      },
      "execution_count": 18,
      "outputs": []
    },
    {
      "cell_type": "code",
      "source": [
        "math.floor(3.15)"
      ],
      "metadata": {
        "colab": {
          "base_uri": "https://localhost:8080/"
        },
        "id": "GVsGrnilu2gP",
        "outputId": "26260f15-9ee6-4d05-89e5-9d0d689809f3"
      },
      "execution_count": 19,
      "outputs": [
        {
          "output_type": "execute_result",
          "data": {
            "text/plain": [
              "3"
            ]
          },
          "metadata": {},
          "execution_count": 19
        }
      ]
    },
    {
      "cell_type": "code",
      "source": [
        "math.floor(3.9999)"
      ],
      "metadata": {
        "colab": {
          "base_uri": "https://localhost:8080/"
        },
        "id": "1cUBed7Au5wY",
        "outputId": "29e86cee-4ab7-4dc8-ffa3-4b9eedfade86"
      },
      "execution_count": 20,
      "outputs": [
        {
          "output_type": "execute_result",
          "data": {
            "text/plain": [
              "3"
            ]
          },
          "metadata": {},
          "execution_count": 20
        }
      ]
    },
    {
      "cell_type": "code",
      "source": [
        "math.floor(-3.9)"
      ],
      "metadata": {
        "colab": {
          "base_uri": "https://localhost:8080/"
        },
        "id": "_6Hvm38Uu85e",
        "outputId": "7bdb75c5-54f5-4ff7-b0f3-b38ba599f690"
      },
      "execution_count": 21,
      "outputs": [
        {
          "output_type": "execute_result",
          "data": {
            "text/plain": [
              "-4"
            ]
          },
          "metadata": {},
          "execution_count": 21
        }
      ]
    },
    {
      "cell_type": "code",
      "source": [
        "math.floor(-3.00000001)"
      ],
      "metadata": {
        "colab": {
          "base_uri": "https://localhost:8080/"
        },
        "id": "ceO9ctZsvAAh",
        "outputId": "69a84ed3-cd45-4432-fc47-bd0c6967a247"
      },
      "execution_count": 22,
      "outputs": [
        {
          "output_type": "execute_result",
          "data": {
            "text/plain": [
              "-4"
            ]
          },
          "metadata": {},
          "execution_count": 22
        }
      ]
    },
    {
      "cell_type": "code",
      "source": [
        "math.floor(-3.0000000000000000000001)"
      ],
      "metadata": {
        "colab": {
          "base_uri": "https://localhost:8080/"
        },
        "id": "2y8fzmbevD96",
        "outputId": "50d332de-8620-4e76-e6e0-e2585c5a837f"
      },
      "execution_count": 23,
      "outputs": [
        {
          "output_type": "execute_result",
          "data": {
            "text/plain": [
              "-3"
            ]
          },
          "metadata": {},
          "execution_count": 23
        }
      ]
    },
    {
      "cell_type": "code",
      "source": [
        "a = 33\n",
        "b = 16\n",
        "print(a/b)\n",
        "print(a//b)\n",
        "print(math.floor(a/b))"
      ],
      "metadata": {
        "colab": {
          "base_uri": "https://localhost:8080/"
        },
        "id": "uNVvQnw3vUCO",
        "outputId": "171b3a96-1a9d-4999-e31a-ef7532768609"
      },
      "execution_count": 24,
      "outputs": [
        {
          "output_type": "stream",
          "name": "stdout",
          "text": [
            "2.0625\n",
            "2\n",
            "2\n"
          ]
        }
      ]
    },
    {
      "cell_type": "code",
      "source": [
        "a = -33\n",
        "b = 16\n",
        "print(a/b)\n",
        "print(a//b)\n",
        "print(math.floor(a/b))"
      ],
      "metadata": {
        "colab": {
          "base_uri": "https://localhost:8080/"
        },
        "id": "qY1XfLUzvhAQ",
        "outputId": "af7fc8a9-778d-4c1c-98e1-306719d90bb2"
      },
      "execution_count": 25,
      "outputs": [
        {
          "output_type": "stream",
          "name": "stdout",
          "text": [
            "-2.0625\n",
            "-3\n",
            "-3\n"
          ]
        }
      ]
    },
    {
      "cell_type": "code",
      "source": [
        "a = -33\n",
        "b = 16\n",
        "print(a/b)\n",
        "print(a//b)\n",
        "print(math.floor(a/b))\n",
        "print(math.trunc(a/b))"
      ],
      "metadata": {
        "colab": {
          "base_uri": "https://localhost:8080/"
        },
        "id": "Rt7unHKIvr7g",
        "outputId": "66df4676-7946-4479-d9b6-0f3264dc4892"
      },
      "execution_count": 26,
      "outputs": [
        {
          "output_type": "stream",
          "name": "stdout",
          "text": [
            "-2.0625\n",
            "-3\n",
            "-3\n",
            "-2\n"
          ]
        }
      ]
    },
    {
      "cell_type": "code",
      "source": [
        "a = b*(a//b) + (a%b)"
      ],
      "metadata": {
        "id": "EQtAnoBqvzrO"
      },
      "execution_count": 27,
      "outputs": []
    },
    {
      "cell_type": "code",
      "source": [
        "a = 13\n",
        "b = 4\n",
        "print('{}/{} = {}'.format(a, b, a/b))\n",
        "print('{}//{} = {}'.format(a, b, a//b))\n",
        "print('{}%{} = {}'.format(a, b, a%b))\n",
        "print(a == b * (a//b) + (a%b))"
      ],
      "metadata": {
        "colab": {
          "base_uri": "https://localhost:8080/"
        },
        "id": "ALUHlPquwCVi",
        "outputId": "1ee6772d-009c-434d-bb99-7f0630e18c03"
      },
      "execution_count": 28,
      "outputs": [
        {
          "output_type": "stream",
          "name": "stdout",
          "text": [
            "13/4 = 3.25\n",
            "13//4 = 3\n",
            "13%4 = 1\n",
            "True\n"
          ]
        }
      ]
    },
    {
      "cell_type": "code",
      "source": [
        "a = -13\n",
        "b = 4\n",
        "print('{}/{} = {}'.format(a, b, a/b))\n",
        "print('{}//{} = {}'.format(a, b, a//b))\n",
        "print('{}%{} = {}'.format(a, b, a%b))\n",
        "print(a == b * (a//b) + (a%b))"
      ],
      "metadata": {
        "colab": {
          "base_uri": "https://localhost:8080/"
        },
        "id": "KBjF1Gmnwb5G",
        "outputId": "5a9d7bdf-b2b2-48ff-a097-f1f8ac7eb8cb"
      },
      "execution_count": 29,
      "outputs": [
        {
          "output_type": "stream",
          "name": "stdout",
          "text": [
            "-13/4 = -3.25\n",
            "-13//4 = -4\n",
            "-13%4 = 3\n",
            "True\n"
          ]
        }
      ]
    },
    {
      "cell_type": "code",
      "source": [
        "a = 13\n",
        "b = -4\n",
        "print('{}/{} = {}'.format(a, b, a/b))\n",
        "print('{}//{} = {}'.format(a, b, a//b))\n",
        "print('{}%{} = {}'.format(a, b, a%b))\n",
        "print(a == b * (a//b) + (a%b))"
      ],
      "metadata": {
        "colab": {
          "base_uri": "https://localhost:8080/"
        },
        "id": "Ye4xm8Dfwgo2",
        "outputId": "1854789a-c236-4171-aea8-518ef4ad5a2c"
      },
      "execution_count": 30,
      "outputs": [
        {
          "output_type": "stream",
          "name": "stdout",
          "text": [
            "13/-4 = -3.25\n",
            "13//-4 = -4\n",
            "13%-4 = -3\n",
            "True\n"
          ]
        }
      ]
    },
    {
      "cell_type": "code",
      "source": [
        "a = -13\n",
        "b = -4\n",
        "print('{}/{} = {}'.format(a, b, a/b))\n",
        "print('{}//{} = {}'.format(a, b, a//b))\n",
        "print('{}%{} = {}'.format(a, b, a%b))\n",
        "print(a == b * (a//b) + (a%b))"
      ],
      "metadata": {
        "colab": {
          "base_uri": "https://localhost:8080/"
        },
        "id": "JNs8LxWPw1sY",
        "outputId": "8e26a1c8-bdcb-4335-cd61-61b50d71d2cc"
      },
      "execution_count": 31,
      "outputs": [
        {
          "output_type": "stream",
          "name": "stdout",
          "text": [
            "-13/-4 = 3.25\n",
            "-13//-4 = 3\n",
            "-13%-4 = -1\n",
            "True\n"
          ]
        }
      ]
    },
    {
      "cell_type": "code",
      "source": [
        "type(10)"
      ],
      "metadata": {
        "colab": {
          "base_uri": "https://localhost:8080/"
        },
        "id": "zhQi0gSgw4ZW",
        "outputId": "52518057-967c-44a9-a410-8672ff3d4ddc"
      },
      "execution_count": 32,
      "outputs": [
        {
          "output_type": "execute_result",
          "data": {
            "text/plain": [
              "int"
            ]
          },
          "metadata": {},
          "execution_count": 32
        }
      ]
    },
    {
      "cell_type": "code",
      "source": [
        "help(int)"
      ],
      "metadata": {
        "colab": {
          "base_uri": "https://localhost:8080/"
        },
        "id": "k7voOVz9nTVd",
        "outputId": "c8a35bf5-9a54-429d-8690-f020f3f01134"
      },
      "execution_count": 33,
      "outputs": [
        {
          "output_type": "stream",
          "name": "stdout",
          "text": [
            "Help on class int in module builtins:\n",
            "\n",
            "class int(object)\n",
            " |  int([x]) -> integer\n",
            " |  int(x, base=10) -> integer\n",
            " |  \n",
            " |  Convert a number or string to an integer, or return 0 if no arguments\n",
            " |  are given.  If x is a number, return x.__int__().  For floating point\n",
            " |  numbers, this truncates towards zero.\n",
            " |  \n",
            " |  If x is not a number or if base is given, then x must be a string,\n",
            " |  bytes, or bytearray instance representing an integer literal in the\n",
            " |  given base.  The literal can be preceded by '+' or '-' and be surrounded\n",
            " |  by whitespace.  The base defaults to 10.  Valid bases are 0 and 2-36.\n",
            " |  Base 0 means to interpret the base from the string as an integer literal.\n",
            " |  >>> int('0b100', base=0)\n",
            " |  4\n",
            " |  \n",
            " |  Built-in subclasses:\n",
            " |      bool\n",
            " |  \n",
            " |  Methods defined here:\n",
            " |  \n",
            " |  __abs__(self, /)\n",
            " |      abs(self)\n",
            " |  \n",
            " |  __add__(self, value, /)\n",
            " |      Return self+value.\n",
            " |  \n",
            " |  __and__(self, value, /)\n",
            " |      Return self&value.\n",
            " |  \n",
            " |  __bool__(self, /)\n",
            " |      self != 0\n",
            " |  \n",
            " |  __ceil__(...)\n",
            " |      Ceiling of an Integral returns itself.\n",
            " |  \n",
            " |  __divmod__(self, value, /)\n",
            " |      Return divmod(self, value).\n",
            " |  \n",
            " |  __eq__(self, value, /)\n",
            " |      Return self==value.\n",
            " |  \n",
            " |  __float__(self, /)\n",
            " |      float(self)\n",
            " |  \n",
            " |  __floor__(...)\n",
            " |      Flooring an Integral returns itself.\n",
            " |  \n",
            " |  __floordiv__(self, value, /)\n",
            " |      Return self//value.\n",
            " |  \n",
            " |  __format__(self, format_spec, /)\n",
            " |      Default object formatter.\n",
            " |  \n",
            " |  __ge__(self, value, /)\n",
            " |      Return self>=value.\n",
            " |  \n",
            " |  __getattribute__(self, name, /)\n",
            " |      Return getattr(self, name).\n",
            " |  \n",
            " |  __getnewargs__(self, /)\n",
            " |  \n",
            " |  __gt__(self, value, /)\n",
            " |      Return self>value.\n",
            " |  \n",
            " |  __hash__(self, /)\n",
            " |      Return hash(self).\n",
            " |  \n",
            " |  __index__(self, /)\n",
            " |      Return self converted to an integer, if self is suitable for use as an index into a list.\n",
            " |  \n",
            " |  __int__(self, /)\n",
            " |      int(self)\n",
            " |  \n",
            " |  __invert__(self, /)\n",
            " |      ~self\n",
            " |  \n",
            " |  __le__(self, value, /)\n",
            " |      Return self<=value.\n",
            " |  \n",
            " |  __lshift__(self, value, /)\n",
            " |      Return self<<value.\n",
            " |  \n",
            " |  __lt__(self, value, /)\n",
            " |      Return self<value.\n",
            " |  \n",
            " |  __mod__(self, value, /)\n",
            " |      Return self%value.\n",
            " |  \n",
            " |  __mul__(self, value, /)\n",
            " |      Return self*value.\n",
            " |  \n",
            " |  __ne__(self, value, /)\n",
            " |      Return self!=value.\n",
            " |  \n",
            " |  __neg__(self, /)\n",
            " |      -self\n",
            " |  \n",
            " |  __or__(self, value, /)\n",
            " |      Return self|value.\n",
            " |  \n",
            " |  __pos__(self, /)\n",
            " |      +self\n",
            " |  \n",
            " |  __pow__(self, value, mod=None, /)\n",
            " |      Return pow(self, value, mod).\n",
            " |  \n",
            " |  __radd__(self, value, /)\n",
            " |      Return value+self.\n",
            " |  \n",
            " |  __rand__(self, value, /)\n",
            " |      Return value&self.\n",
            " |  \n",
            " |  __rdivmod__(self, value, /)\n",
            " |      Return divmod(value, self).\n",
            " |  \n",
            " |  __repr__(self, /)\n",
            " |      Return repr(self).\n",
            " |  \n",
            " |  __rfloordiv__(self, value, /)\n",
            " |      Return value//self.\n",
            " |  \n",
            " |  __rlshift__(self, value, /)\n",
            " |      Return value<<self.\n",
            " |  \n",
            " |  __rmod__(self, value, /)\n",
            " |      Return value%self.\n",
            " |  \n",
            " |  __rmul__(self, value, /)\n",
            " |      Return value*self.\n",
            " |  \n",
            " |  __ror__(self, value, /)\n",
            " |      Return value|self.\n",
            " |  \n",
            " |  __round__(...)\n",
            " |      Rounding an Integral returns itself.\n",
            " |      Rounding with an ndigits argument also returns an integer.\n",
            " |  \n",
            " |  __rpow__(self, value, mod=None, /)\n",
            " |      Return pow(value, self, mod).\n",
            " |  \n",
            " |  __rrshift__(self, value, /)\n",
            " |      Return value>>self.\n",
            " |  \n",
            " |  __rshift__(self, value, /)\n",
            " |      Return self>>value.\n",
            " |  \n",
            " |  __rsub__(self, value, /)\n",
            " |      Return value-self.\n",
            " |  \n",
            " |  __rtruediv__(self, value, /)\n",
            " |      Return value/self.\n",
            " |  \n",
            " |  __rxor__(self, value, /)\n",
            " |      Return value^self.\n",
            " |  \n",
            " |  __sizeof__(self, /)\n",
            " |      Returns size in memory, in bytes.\n",
            " |  \n",
            " |  __sub__(self, value, /)\n",
            " |      Return self-value.\n",
            " |  \n",
            " |  __truediv__(self, value, /)\n",
            " |      Return self/value.\n",
            " |  \n",
            " |  __trunc__(...)\n",
            " |      Truncating an Integral returns itself.\n",
            " |  \n",
            " |  __xor__(self, value, /)\n",
            " |      Return self^value.\n",
            " |  \n",
            " |  as_integer_ratio(self, /)\n",
            " |      Return integer ratio.\n",
            " |      \n",
            " |      Return a pair of integers, whose ratio is exactly equal to the original int\n",
            " |      and with a positive denominator.\n",
            " |      \n",
            " |      >>> (10).as_integer_ratio()\n",
            " |      (10, 1)\n",
            " |      >>> (-10).as_integer_ratio()\n",
            " |      (-10, 1)\n",
            " |      >>> (0).as_integer_ratio()\n",
            " |      (0, 1)\n",
            " |  \n",
            " |  bit_length(self, /)\n",
            " |      Number of bits necessary to represent self in binary.\n",
            " |      \n",
            " |      >>> bin(37)\n",
            " |      '0b100101'\n",
            " |      >>> (37).bit_length()\n",
            " |      6\n",
            " |  \n",
            " |  conjugate(...)\n",
            " |      Returns self, the complex conjugate of any int.\n",
            " |  \n",
            " |  to_bytes(self, /, length, byteorder, *, signed=False)\n",
            " |      Return an array of bytes representing an integer.\n",
            " |      \n",
            " |      length\n",
            " |        Length of bytes object to use.  An OverflowError is raised if the\n",
            " |        integer is not representable with the given number of bytes.\n",
            " |      byteorder\n",
            " |        The byte order used to represent the integer.  If byteorder is 'big',\n",
            " |        the most significant byte is at the beginning of the byte array.  If\n",
            " |        byteorder is 'little', the most significant byte is at the end of the\n",
            " |        byte array.  To request the native byte order of the host system, use\n",
            " |        `sys.byteorder' as the byte order value.\n",
            " |      signed\n",
            " |        Determines whether two's complement is used to represent the integer.\n",
            " |        If signed is False and a negative integer is given, an OverflowError\n",
            " |        is raised.\n",
            " |  \n",
            " |  ----------------------------------------------------------------------\n",
            " |  Class methods defined here:\n",
            " |  \n",
            " |  from_bytes(bytes, byteorder, *, signed=False) from builtins.type\n",
            " |      Return the integer represented by the given array of bytes.\n",
            " |      \n",
            " |      bytes\n",
            " |        Holds the array of bytes to convert.  The argument must either\n",
            " |        support the buffer protocol or be an iterable object producing bytes.\n",
            " |        Bytes and bytearray are examples of built-in objects that support the\n",
            " |        buffer protocol.\n",
            " |      byteorder\n",
            " |        The byte order used to represent the integer.  If byteorder is 'big',\n",
            " |        the most significant byte is at the beginning of the byte array.  If\n",
            " |        byteorder is 'little', the most significant byte is at the end of the\n",
            " |        byte array.  To request the native byte order of the host system, use\n",
            " |        `sys.byteorder' as the byte order value.\n",
            " |      signed\n",
            " |        Indicates whether two's complement is used to represent the integer.\n",
            " |  \n",
            " |  ----------------------------------------------------------------------\n",
            " |  Static methods defined here:\n",
            " |  \n",
            " |  __new__(*args, **kwargs) from builtins.type\n",
            " |      Create and return a new object.  See help(type) for accurate signature.\n",
            " |  \n",
            " |  ----------------------------------------------------------------------\n",
            " |  Data descriptors defined here:\n",
            " |  \n",
            " |  denominator\n",
            " |      the denominator of a rational number in lowest terms\n",
            " |  \n",
            " |  imag\n",
            " |      the imaginary part of a complex number\n",
            " |  \n",
            " |  numerator\n",
            " |      the numerator of a rational number in lowest terms\n",
            " |  \n",
            " |  real\n",
            " |      the real part of a complex number\n",
            "\n"
          ]
        }
      ]
    },
    {
      "cell_type": "code",
      "source": [
        "int(True)"
      ],
      "metadata": {
        "colab": {
          "base_uri": "https://localhost:8080/"
        },
        "id": "rbOdcR0lnVCO",
        "outputId": "30ffae3d-e035-4d82-a1dc-667226e41d58"
      },
      "execution_count": 34,
      "outputs": [
        {
          "output_type": "execute_result",
          "data": {
            "text/plain": [
              "1"
            ]
          },
          "metadata": {},
          "execution_count": 34
        }
      ]
    },
    {
      "cell_type": "code",
      "source": [
        "import fractions"
      ],
      "metadata": {
        "id": "gVEBpR01nfuW"
      },
      "execution_count": 35,
      "outputs": []
    },
    {
      "cell_type": "code",
      "source": [
        "a = fractions.Fraction(22, 7)"
      ],
      "metadata": {
        "id": "dJ-E4G4BnlD5"
      },
      "execution_count": 36,
      "outputs": []
    },
    {
      "cell_type": "code",
      "source": [
        "print(a)"
      ],
      "metadata": {
        "colab": {
          "base_uri": "https://localhost:8080/"
        },
        "id": "mun9uTptnofi",
        "outputId": "e3c862df-95d3-4076-bc5a-3bcbf856023e"
      },
      "execution_count": 37,
      "outputs": [
        {
          "output_type": "stream",
          "name": "stdout",
          "text": [
            "22/7\n"
          ]
        }
      ]
    },
    {
      "cell_type": "code",
      "source": [
        "float(a)"
      ],
      "metadata": {
        "colab": {
          "base_uri": "https://localhost:8080/"
        },
        "id": "fAG_dUoWnqiV",
        "outputId": "1e86d619-6706-4451-bb9f-90bea9bea213"
      },
      "execution_count": 38,
      "outputs": [
        {
          "output_type": "execute_result",
          "data": {
            "text/plain": [
              "3.142857142857143"
            ]
          },
          "metadata": {},
          "execution_count": 38
        }
      ]
    },
    {
      "cell_type": "code",
      "source": [
        "int(a)"
      ],
      "metadata": {
        "colab": {
          "base_uri": "https://localhost:8080/"
        },
        "id": "tU-XgQ-NnsUt",
        "outputId": "bbf87ae9-5dba-4f03-b6be-d1fcfc8da26f"
      },
      "execution_count": 39,
      "outputs": [
        {
          "output_type": "execute_result",
          "data": {
            "text/plain": [
              "3"
            ]
          },
          "metadata": {},
          "execution_count": 39
        }
      ]
    },
    {
      "cell_type": "code",
      "source": [
        "int(12345)"
      ],
      "metadata": {
        "colab": {
          "base_uri": "https://localhost:8080/"
        },
        "id": "tgwFdbfKntEd",
        "outputId": "8c71b63b-f7d5-43df-f9af-27facf270941"
      },
      "execution_count": 40,
      "outputs": [
        {
          "output_type": "execute_result",
          "data": {
            "text/plain": [
              "12345"
            ]
          },
          "metadata": {},
          "execution_count": 40
        }
      ]
    },
    {
      "cell_type": "code",
      "source": [
        " int('101', base=2)"
      ],
      "metadata": {
        "colab": {
          "base_uri": "https://localhost:8080/"
        },
        "id": "duj2PotvoCLO",
        "outputId": "95bb6704-4920-4583-965a-8a33088ce42e"
      },
      "execution_count": 41,
      "outputs": [
        {
          "output_type": "execute_result",
          "data": {
            "text/plain": [
              "5"
            ]
          },
          "metadata": {},
          "execution_count": 41
        }
      ]
    },
    {
      "cell_type": "code",
      "source": [
        "int('FF', base=16)"
      ],
      "metadata": {
        "colab": {
          "base_uri": "https://localhost:8080/"
        },
        "id": "RzootmDQph-f",
        "outputId": "d961fb0d-2915-4298-946d-be23e8fd1c1b"
      },
      "execution_count": 42,
      "outputs": [
        {
          "output_type": "execute_result",
          "data": {
            "text/plain": [
              "255"
            ]
          },
          "metadata": {},
          "execution_count": 42
        }
      ]
    },
    {
      "cell_type": "code",
      "source": [
        "int('ff', base=16)"
      ],
      "metadata": {
        "colab": {
          "base_uri": "https://localhost:8080/"
        },
        "id": "WbhljT_wpmRd",
        "outputId": "d0dd1dbd-a94b-4949-a0d6-998eb27bc6d5"
      },
      "execution_count": 43,
      "outputs": [
        {
          "output_type": "execute_result",
          "data": {
            "text/plain": [
              "255"
            ]
          },
          "metadata": {},
          "execution_count": 43
        }
      ]
    },
    {
      "cell_type": "code",
      "source": [
        "int('A', base=11)"
      ],
      "metadata": {
        "colab": {
          "base_uri": "https://localhost:8080/"
        },
        "id": "luUdPPGTpsf7",
        "outputId": "3f9b4a1e-10b0-41c6-ff52-1d63317c0de9"
      },
      "execution_count": 44,
      "outputs": [
        {
          "output_type": "execute_result",
          "data": {
            "text/plain": [
              "10"
            ]
          },
          "metadata": {},
          "execution_count": 44
        }
      ]
    },
    {
      "cell_type": "code",
      "source": [
        "bin(10)"
      ],
      "metadata": {
        "colab": {
          "base_uri": "https://localhost:8080/",
          "height": 35
        },
        "id": "BTU3oi3HpykK",
        "outputId": "3910ee4e-8892-4b89-aeef-e70debdf8c13"
      },
      "execution_count": 45,
      "outputs": [
        {
          "output_type": "execute_result",
          "data": {
            "text/plain": [
              "'0b1010'"
            ],
            "application/vnd.google.colaboratory.intrinsic+json": {
              "type": "string"
            }
          },
          "metadata": {},
          "execution_count": 45
        }
      ]
    },
    {
      "cell_type": "code",
      "source": [
        "bin(5)"
      ],
      "metadata": {
        "colab": {
          "base_uri": "https://localhost:8080/",
          "height": 35
        },
        "id": "CtQNAYthp0iw",
        "outputId": "17339a14-b833-4fe4-8215-e35aa3fde6c1"
      },
      "execution_count": 46,
      "outputs": [
        {
          "output_type": "execute_result",
          "data": {
            "text/plain": [
              "'0b101'"
            ],
            "application/vnd.google.colaboratory.intrinsic+json": {
              "type": "string"
            }
          },
          "metadata": {},
          "execution_count": 46
        }
      ]
    },
    {
      "cell_type": "code",
      "source": [
        "oct(10)"
      ],
      "metadata": {
        "colab": {
          "base_uri": "https://localhost:8080/",
          "height": 35
        },
        "id": "a4sSId0fp2Ce",
        "outputId": "51b608bd-85fb-4591-bb66-6774c223c753"
      },
      "execution_count": 47,
      "outputs": [
        {
          "output_type": "execute_result",
          "data": {
            "text/plain": [
              "'0o12'"
            ],
            "application/vnd.google.colaboratory.intrinsic+json": {
              "type": "string"
            }
          },
          "metadata": {},
          "execution_count": 47
        }
      ]
    },
    {
      "cell_type": "code",
      "source": [
        "oct(1000)"
      ],
      "metadata": {
        "colab": {
          "base_uri": "https://localhost:8080/",
          "height": 35
        },
        "id": "2SxKtAhhp4go",
        "outputId": "8b6cb56a-9e93-4079-b82e-96a34a07fe59"
      },
      "execution_count": 48,
      "outputs": [
        {
          "output_type": "execute_result",
          "data": {
            "text/plain": [
              "'0o1750'"
            ],
            "application/vnd.google.colaboratory.intrinsic+json": {
              "type": "string"
            }
          },
          "metadata": {},
          "execution_count": 48
        }
      ]
    },
    {
      "cell_type": "code",
      "source": [
        "hex(255)"
      ],
      "metadata": {
        "colab": {
          "base_uri": "https://localhost:8080/",
          "height": 35
        },
        "id": "zt4U29wrp6K9",
        "outputId": "0310b52a-fbc1-4d2e-da0f-34cf5a6e30d1"
      },
      "execution_count": 49,
      "outputs": [
        {
          "output_type": "execute_result",
          "data": {
            "text/plain": [
              "'0xff'"
            ],
            "application/vnd.google.colaboratory.intrinsic+json": {
              "type": "string"
            }
          },
          "metadata": {},
          "execution_count": 49
        }
      ]
    },
    {
      "cell_type": "code",
      "source": [
        "hex(1985)"
      ],
      "metadata": {
        "colab": {
          "base_uri": "https://localhost:8080/",
          "height": 35
        },
        "id": "EhV9SjAjp8FL",
        "outputId": "ef33aa79-12da-40ab-f085-00c582457045"
      },
      "execution_count": 50,
      "outputs": [
        {
          "output_type": "execute_result",
          "data": {
            "text/plain": [
              "'0x7c1'"
            ],
            "application/vnd.google.colaboratory.intrinsic+json": {
              "type": "string"
            }
          },
          "metadata": {},
          "execution_count": 50
        }
      ]
    },
    {
      "cell_type": "code",
      "source": [
        "a = int('101', 2)"
      ],
      "metadata": {
        "id": "kUl8lipjp-uU"
      },
      "execution_count": 51,
      "outputs": []
    },
    {
      "cell_type": "code",
      "source": [
        "b = 0b101"
      ],
      "metadata": {
        "id": "-urDVi_EqEC-"
      },
      "execution_count": 52,
      "outputs": []
    },
    {
      "cell_type": "code",
      "source": [
        "b"
      ],
      "metadata": {
        "colab": {
          "base_uri": "https://localhost:8080/"
        },
        "id": "Z2TPViBHqGld",
        "outputId": "562e5ff9-3d41-4d34-977b-d120bd2e51f3"
      },
      "execution_count": 53,
      "outputs": [
        {
          "output_type": "execute_result",
          "data": {
            "text/plain": [
              "5"
            ]
          },
          "metadata": {},
          "execution_count": 53
        }
      ]
    },
    {
      "cell_type": "code",
      "source": [
        "def from_base10(n, b):\n",
        "    if b < 2:\n",
        "        raise ValueError('Base b must be >= 2')\n",
        "    if n < 0:\n",
        "        raise ValueError('Number n must be >= 0')\n",
        "    if n == 0:\n",
        "        return [0]\n",
        "    digits = []\n",
        "    while n > 0:\n",
        "        n, m = divmod(n, b)\n",
        "        digits.insert(0, m)\n",
        "    return digits"
      ],
      "metadata": {
        "id": "mNRfGxnbqKSI"
      },
      "execution_count": 54,
      "outputs": []
    },
    {
      "cell_type": "code",
      "source": [
        "from_base10(10, 2)"
      ],
      "metadata": {
        "colab": {
          "base_uri": "https://localhost:8080/"
        },
        "id": "DdSIJ1tUrKmK",
        "outputId": "12aef130-ccf6-4872-f380-85e084dfc8b2"
      },
      "execution_count": 55,
      "outputs": [
        {
          "output_type": "execute_result",
          "data": {
            "text/plain": [
              "[1, 0, 1, 0]"
            ]
          },
          "metadata": {},
          "execution_count": 55
        }
      ]
    },
    {
      "cell_type": "code",
      "source": [
        "from_base10(255, 16)"
      ],
      "metadata": {
        "colab": {
          "base_uri": "https://localhost:8080/"
        },
        "id": "FG5-9WiWrNYp",
        "outputId": "68526c7e-2150-47e6-ee32-ac5108477bc1"
      },
      "execution_count": 56,
      "outputs": [
        {
          "output_type": "execute_result",
          "data": {
            "text/plain": [
              "[15, 15]"
            ]
          },
          "metadata": {},
          "execution_count": 56
        }
      ]
    },
    {
      "cell_type": "code",
      "source": [
        "def encode(digits, digit_map):\n",
        "    if max(digits) >= len(digit_map):\n",
        "        raise ValueError('digit_map is not long enough to encode the digits')\n",
        "    #encoding = ''\n",
        "    #for d in digits:\n",
        "    #    encoding += digit_map[d]\n",
        "    encoding = ''.join([digit_map[d] for d in digits])\n",
        "    return encoding"
      ],
      "metadata": {
        "id": "o3Aao29erQ2K"
      },
      "execution_count": 57,
      "outputs": []
    },
    {
      "cell_type": "code",
      "source": [
        "encode([15, 15], '0123456789ABCDEF')"
      ],
      "metadata": {
        "colab": {
          "base_uri": "https://localhost:8080/",
          "height": 35
        },
        "id": "X5HloCPmrX9z",
        "outputId": "b0678422-4a58-48c8-d854-91232b385103"
      },
      "execution_count": 58,
      "outputs": [
        {
          "output_type": "execute_result",
          "data": {
            "text/plain": [
              "'FF'"
            ],
            "application/vnd.google.colaboratory.intrinsic+json": {
              "type": "string"
            }
          },
          "metadata": {},
          "execution_count": 58
        }
      ]
    },
    {
      "cell_type": "code",
      "source": [
        "def rebase_from10(number, base):\n",
        "    digit_map = '0123456789ABCDEFGHIJKLMNOPQRSTUVWXYZ'\n",
        "    if base < 2 or base > 36:\n",
        "        raise ValueError('Invalid baseL 2 <= base <= 36')\n",
        "    sign = -1 if number < 0 else 1\n",
        "    number *= sign\n",
        "\n",
        "    digits = from_base10(number, base)\n",
        "    encoding = encode(digits, digit_map)\n",
        "    if sign == -1:\n",
        "        encoding = '-' + encoding\n",
        "    return encoding"
      ],
      "metadata": {
        "id": "9z7O_N7erX4B"
      },
      "execution_count": 59,
      "outputs": []
    },
    {
      "cell_type": "code",
      "source": [
        "a = rebase_from10(10, 2)"
      ],
      "metadata": {
        "id": "BhMOsG8wrX0t"
      },
      "execution_count": 60,
      "outputs": []
    },
    {
      "cell_type": "code",
      "source": [
        "print(a)"
      ],
      "metadata": {
        "colab": {
          "base_uri": "https://localhost:8080/"
        },
        "id": "vQ2qFl5NrXxL",
        "outputId": "6abf83fc-f561-4f6c-dfc3-3c008fbbae60"
      },
      "execution_count": 61,
      "outputs": [
        {
          "output_type": "stream",
          "name": "stdout",
          "text": [
            "1010\n"
          ]
        }
      ]
    },
    {
      "cell_type": "code",
      "source": [
        "print(int(a, base=2))"
      ],
      "metadata": {
        "colab": {
          "base_uri": "https://localhost:8080/"
        },
        "id": "fDDSWaOdrXuC",
        "outputId": "152935a6-a96d-4bad-b211-62eec4d08705"
      },
      "execution_count": 62,
      "outputs": [
        {
          "output_type": "stream",
          "name": "stdout",
          "text": [
            "10\n"
          ]
        }
      ]
    },
    {
      "cell_type": "code",
      "source": [
        "d = rebase_from10(3573, 11)\n",
        "print(d)\n",
        "print(int(d, base=11))"
      ],
      "metadata": {
        "colab": {
          "base_uri": "https://localhost:8080/"
        },
        "id": "bLz2wSWlrXj9",
        "outputId": "4ddb4855-2252-4372-e749-573a5dabe60a"
      },
      "execution_count": 63,
      "outputs": [
        {
          "output_type": "stream",
          "name": "stdout",
          "text": [
            "2759\n",
            "3573\n"
          ]
        }
      ]
    },
    {
      "cell_type": "code",
      "source": [
        "d = rebase_from10(3573, 17)\n",
        "print(d)\n",
        "print(int(d, base=17))"
      ],
      "metadata": {
        "colab": {
          "base_uri": "https://localhost:8080/"
        },
        "id": "MgDecUPnujgQ",
        "outputId": "1e72db74-7879-45d0-fef4-fcc324eee7d9"
      },
      "execution_count": 64,
      "outputs": [
        {
          "output_type": "stream",
          "name": "stdout",
          "text": [
            "C63\n",
            "3573\n"
          ]
        }
      ]
    },
    {
      "cell_type": "code",
      "source": [
        "d = rebase_from10(-3573, 17)\n",
        "print(d)\n",
        "print(int(d, base=17))"
      ],
      "metadata": {
        "colab": {
          "base_uri": "https://localhost:8080/"
        },
        "id": "eZknorVyuqff",
        "outputId": "a468e0f4-fcca-4765-dc4c-cde465a01f0c"
      },
      "execution_count": 65,
      "outputs": [
        {
          "output_type": "stream",
          "name": "stdout",
          "text": [
            "-C63\n",
            "-3573\n"
          ]
        }
      ]
    },
    {
      "cell_type": "code",
      "source": [
        "from fractions import Fraction as frac"
      ],
      "metadata": {
        "id": "UpqKtFDnuuOJ"
      },
      "execution_count": 66,
      "outputs": []
    },
    {
      "cell_type": "code",
      "source": [
        "frac(22/7)"
      ],
      "metadata": {
        "colab": {
          "base_uri": "https://localhost:8080/"
        },
        "id": "6nuxhMZz0-tD",
        "outputId": "79fcd56f-6269-43aa-fa57-75ad58284f9e"
      },
      "execution_count": 67,
      "outputs": [
        {
          "output_type": "execute_result",
          "data": {
            "text/plain": [
              "Fraction(7077085128725065, 2251799813685248)"
            ]
          },
          "metadata": {},
          "execution_count": 67
        }
      ]
    },
    {
      "cell_type": "code",
      "source": [
        "help(frac)"
      ],
      "metadata": {
        "colab": {
          "base_uri": "https://localhost:8080/"
        },
        "id": "LcImVBrW1DLa",
        "outputId": "341091a7-334c-4fad-a458-219e1c479cf0"
      },
      "execution_count": 68,
      "outputs": [
        {
          "output_type": "stream",
          "name": "stdout",
          "text": [
            "Help on class Fraction in module fractions:\n",
            "\n",
            "class Fraction(numbers.Rational)\n",
            " |  Fraction(numerator=0, denominator=None, *, _normalize=True)\n",
            " |  \n",
            " |  This class implements rational numbers.\n",
            " |  \n",
            " |  In the two-argument form of the constructor, Fraction(8, 6) will\n",
            " |  produce a rational number equivalent to 4/3. Both arguments must\n",
            " |  be Rational. The numerator defaults to 0 and the denominator\n",
            " |  defaults to 1 so that Fraction(3) == 3 and Fraction() == 0.\n",
            " |  \n",
            " |  Fractions can also be constructed from:\n",
            " |  \n",
            " |    - numeric strings similar to those accepted by the\n",
            " |      float constructor (for example, '-2.3' or '1e10')\n",
            " |  \n",
            " |    - strings of the form '123/456'\n",
            " |  \n",
            " |    - float and Decimal instances\n",
            " |  \n",
            " |    - other Rational instances (including integers)\n",
            " |  \n",
            " |  Method resolution order:\n",
            " |      Fraction\n",
            " |      numbers.Rational\n",
            " |      numbers.Real\n",
            " |      numbers.Complex\n",
            " |      numbers.Number\n",
            " |      builtins.object\n",
            " |  \n",
            " |  Methods defined here:\n",
            " |  \n",
            " |  __abs__(a)\n",
            " |      abs(a)\n",
            " |  \n",
            " |  __add__(a, b)\n",
            " |      a + b\n",
            " |  \n",
            " |  __bool__(a)\n",
            " |      a != 0\n",
            " |  \n",
            " |  __ceil__(a)\n",
            " |      math.ceil(a)\n",
            " |  \n",
            " |  __copy__(self)\n",
            " |  \n",
            " |  __deepcopy__(self, memo)\n",
            " |  \n",
            " |  __divmod__(a, b)\n",
            " |      (a // b, a % b)\n",
            " |  \n",
            " |  __eq__(a, b)\n",
            " |      a == b\n",
            " |  \n",
            " |  __floor__(a)\n",
            " |      math.floor(a)\n",
            " |  \n",
            " |  __floordiv__(a, b)\n",
            " |      a // b\n",
            " |  \n",
            " |  __ge__(a, b)\n",
            " |      a >= b\n",
            " |  \n",
            " |  __gt__(a, b)\n",
            " |      a > b\n",
            " |  \n",
            " |  __hash__(self)\n",
            " |      hash(self)\n",
            " |  \n",
            " |  __le__(a, b)\n",
            " |      a <= b\n",
            " |  \n",
            " |  __lt__(a, b)\n",
            " |      a < b\n",
            " |  \n",
            " |  __mod__(a, b)\n",
            " |      a % b\n",
            " |  \n",
            " |  __mul__(a, b)\n",
            " |      a * b\n",
            " |  \n",
            " |  __neg__(a)\n",
            " |      -a\n",
            " |  \n",
            " |  __pos__(a)\n",
            " |      +a: Coerces a subclass instance to Fraction\n",
            " |  \n",
            " |  __pow__(a, b)\n",
            " |      a ** b\n",
            " |      \n",
            " |      If b is not an integer, the result will be a float or complex\n",
            " |      since roots are generally irrational. If b is an integer, the\n",
            " |      result will be rational.\n",
            " |  \n",
            " |  __radd__(b, a)\n",
            " |      a + b\n",
            " |  \n",
            " |  __rdivmod__(b, a)\n",
            " |      (a // b, a % b)\n",
            " |  \n",
            " |  __reduce__(self)\n",
            " |      Helper for pickle.\n",
            " |  \n",
            " |  __repr__(self)\n",
            " |      repr(self)\n",
            " |  \n",
            " |  __rfloordiv__(b, a)\n",
            " |      a // b\n",
            " |  \n",
            " |  __rmod__(b, a)\n",
            " |      a % b\n",
            " |  \n",
            " |  __rmul__(b, a)\n",
            " |      a * b\n",
            " |  \n",
            " |  __round__(self, ndigits=None)\n",
            " |      round(self, ndigits)\n",
            " |      \n",
            " |      Rounds half toward even.\n",
            " |  \n",
            " |  __rpow__(b, a)\n",
            " |      a ** b\n",
            " |  \n",
            " |  __rsub__(b, a)\n",
            " |      a - b\n",
            " |  \n",
            " |  __rtruediv__(b, a)\n",
            " |      a / b\n",
            " |  \n",
            " |  __str__(self)\n",
            " |      str(self)\n",
            " |  \n",
            " |  __sub__(a, b)\n",
            " |      a - b\n",
            " |  \n",
            " |  __truediv__(a, b)\n",
            " |      a / b\n",
            " |  \n",
            " |  __trunc__(a)\n",
            " |      trunc(a)\n",
            " |  \n",
            " |  as_integer_ratio(self)\n",
            " |      Return the integer ratio as a tuple.\n",
            " |      \n",
            " |      Return a tuple of two integers, whose ratio is equal to the\n",
            " |      Fraction and with a positive denominator.\n",
            " |  \n",
            " |  limit_denominator(self, max_denominator=1000000)\n",
            " |      Closest Fraction to self with denominator at most max_denominator.\n",
            " |      \n",
            " |      >>> Fraction('3.141592653589793').limit_denominator(10)\n",
            " |      Fraction(22, 7)\n",
            " |      >>> Fraction('3.141592653589793').limit_denominator(100)\n",
            " |      Fraction(311, 99)\n",
            " |      >>> Fraction(4321, 8765).limit_denominator(10000)\n",
            " |      Fraction(4321, 8765)\n",
            " |  \n",
            " |  ----------------------------------------------------------------------\n",
            " |  Class methods defined here:\n",
            " |  \n",
            " |  from_decimal(dec) from abc.ABCMeta\n",
            " |      Converts a finite Decimal instance to a rational number, exactly.\n",
            " |  \n",
            " |  from_float(f) from abc.ABCMeta\n",
            " |      Converts a finite float to a rational number, exactly.\n",
            " |      \n",
            " |      Beware that Fraction.from_float(0.3) != Fraction(3, 10).\n",
            " |  \n",
            " |  ----------------------------------------------------------------------\n",
            " |  Static methods defined here:\n",
            " |  \n",
            " |  __new__(cls, numerator=0, denominator=None, *, _normalize=True)\n",
            " |      Constructs a Rational.\n",
            " |      \n",
            " |      Takes a string like '3/2' or '1.5', another Rational instance, a\n",
            " |      numerator/denominator pair, or a float.\n",
            " |      \n",
            " |      Examples\n",
            " |      --------\n",
            " |      \n",
            " |      >>> Fraction(10, -8)\n",
            " |      Fraction(-5, 4)\n",
            " |      >>> Fraction(Fraction(1, 7), 5)\n",
            " |      Fraction(1, 35)\n",
            " |      >>> Fraction(Fraction(1, 7), Fraction(2, 3))\n",
            " |      Fraction(3, 14)\n",
            " |      >>> Fraction('314')\n",
            " |      Fraction(314, 1)\n",
            " |      >>> Fraction('-35/4')\n",
            " |      Fraction(-35, 4)\n",
            " |      >>> Fraction('3.1415') # conversion from numeric string\n",
            " |      Fraction(6283, 2000)\n",
            " |      >>> Fraction('-47e-2') # string may include a decimal exponent\n",
            " |      Fraction(-47, 100)\n",
            " |      >>> Fraction(1.47)  # direct construction from float (exact conversion)\n",
            " |      Fraction(6620291452234629, 4503599627370496)\n",
            " |      >>> Fraction(2.25)\n",
            " |      Fraction(9, 4)\n",
            " |      >>> Fraction(Decimal('1.47'))\n",
            " |      Fraction(147, 100)\n",
            " |  \n",
            " |  ----------------------------------------------------------------------\n",
            " |  Readonly properties defined here:\n",
            " |  \n",
            " |  denominator\n",
            " |  \n",
            " |  numerator\n",
            " |  \n",
            " |  ----------------------------------------------------------------------\n",
            " |  Data and other attributes defined here:\n",
            " |  \n",
            " |  __abstractmethods__ = frozenset()\n",
            " |  \n",
            " |  ----------------------------------------------------------------------\n",
            " |  Methods inherited from numbers.Rational:\n",
            " |  \n",
            " |  __float__(self)\n",
            " |      float(self) = self.numerator / self.denominator\n",
            " |      \n",
            " |      It's important that this conversion use the integer's \"true\"\n",
            " |      division rather than casting one side to float before dividing\n",
            " |      so that ratios of huge integers convert without overflowing.\n",
            " |  \n",
            " |  ----------------------------------------------------------------------\n",
            " |  Methods inherited from numbers.Real:\n",
            " |  \n",
            " |  __complex__(self)\n",
            " |      complex(self) == complex(float(self), 0)\n",
            " |  \n",
            " |  conjugate(self)\n",
            " |      Conjugate is a no-op for Reals.\n",
            " |  \n",
            " |  ----------------------------------------------------------------------\n",
            " |  Readonly properties inherited from numbers.Real:\n",
            " |  \n",
            " |  imag\n",
            " |      Real numbers have no imaginary component.\n",
            " |  \n",
            " |  real\n",
            " |      Real numbers are their real component.\n",
            "\n"
          ]
        }
      ]
    },
    {
      "cell_type": "code",
      "source": [
        "frac(1)"
      ],
      "metadata": {
        "colab": {
          "base_uri": "https://localhost:8080/"
        },
        "id": "Yl44FkTk1Gkk",
        "outputId": "72e11409-780b-46a9-f7f3-ed76a7b9b2b3"
      },
      "execution_count": 69,
      "outputs": [
        {
          "output_type": "execute_result",
          "data": {
            "text/plain": [
              "Fraction(1, 1)"
            ]
          },
          "metadata": {},
          "execution_count": 69
        }
      ]
    },
    {
      "cell_type": "code",
      "source": [
        "frac(denominator=1, numerator=2)"
      ],
      "metadata": {
        "colab": {
          "base_uri": "https://localhost:8080/"
        },
        "id": "hJb2L4fb1bQy",
        "outputId": "56d09b6a-03a2-4a04-bf43-e92b8b9690bb"
      },
      "execution_count": 70,
      "outputs": [
        {
          "output_type": "execute_result",
          "data": {
            "text/plain": [
              "Fraction(2, 1)"
            ]
          },
          "metadata": {},
          "execution_count": 70
        }
      ]
    },
    {
      "cell_type": "code",
      "source": [
        "frac(9/3)"
      ],
      "metadata": {
        "colab": {
          "base_uri": "https://localhost:8080/"
        },
        "id": "X-MmKcA01fUl",
        "outputId": "d8671ea1-d57c-4957-c8f9-8c7f0b58ff18"
      },
      "execution_count": 71,
      "outputs": [
        {
          "output_type": "execute_result",
          "data": {
            "text/plain": [
              "Fraction(3, 1)"
            ]
          },
          "metadata": {},
          "execution_count": 71
        }
      ]
    },
    {
      "cell_type": "code",
      "source": [
        "frac(0.125)"
      ],
      "metadata": {
        "colab": {
          "base_uri": "https://localhost:8080/"
        },
        "id": "3ks4ZiqL1jpg",
        "outputId": "f193a914-2d68-4815-b733-fe2b11450636"
      },
      "execution_count": 72,
      "outputs": [
        {
          "output_type": "execute_result",
          "data": {
            "text/plain": [
              "Fraction(1, 8)"
            ]
          },
          "metadata": {},
          "execution_count": 72
        }
      ]
    },
    {
      "cell_type": "code",
      "source": [
        "frac('0.125')"
      ],
      "metadata": {
        "colab": {
          "base_uri": "https://localhost:8080/"
        },
        "id": "pPkTdYBc1nR8",
        "outputId": "25808cd5-f2fb-47e2-bef6-d28648b39ab9"
      },
      "execution_count": 73,
      "outputs": [
        {
          "output_type": "execute_result",
          "data": {
            "text/plain": [
              "Fraction(1, 8)"
            ]
          },
          "metadata": {},
          "execution_count": 73
        }
      ]
    },
    {
      "cell_type": "code",
      "source": [
        "frac('22/7')"
      ],
      "metadata": {
        "colab": {
          "base_uri": "https://localhost:8080/"
        },
        "id": "O0toJ-tO1rmf",
        "outputId": "40029ed7-8eab-42da-906c-7d32b37d50a0"
      },
      "execution_count": 74,
      "outputs": [
        {
          "output_type": "execute_result",
          "data": {
            "text/plain": [
              "Fraction(22, 7)"
            ]
          },
          "metadata": {},
          "execution_count": 74
        }
      ]
    },
    {
      "cell_type": "code",
      "source": [
        "x = frac(2, 3)\n",
        "y = frac(3, 4)"
      ],
      "metadata": {
        "id": "3Acvev4v1tfl"
      },
      "execution_count": 75,
      "outputs": []
    },
    {
      "cell_type": "code",
      "source": [
        "x + y"
      ],
      "metadata": {
        "colab": {
          "base_uri": "https://localhost:8080/"
        },
        "id": "kdK5Qc0Z1zNm",
        "outputId": "2fa9cd8d-29cc-46d0-a8a6-e29377751b38"
      },
      "execution_count": 76,
      "outputs": [
        {
          "output_type": "execute_result",
          "data": {
            "text/plain": [
              "Fraction(17, 12)"
            ]
          },
          "metadata": {},
          "execution_count": 76
        }
      ]
    },
    {
      "cell_type": "code",
      "source": [
        "frac(8, 16)"
      ],
      "metadata": {
        "colab": {
          "base_uri": "https://localhost:8080/"
        },
        "id": "22RKrxJD10hM",
        "outputId": "06453b9e-cad1-4c69-e493-a59cbcf42fa4"
      },
      "execution_count": 77,
      "outputs": [
        {
          "output_type": "execute_result",
          "data": {
            "text/plain": [
              "Fraction(1, 2)"
            ]
          },
          "metadata": {},
          "execution_count": 77
        }
      ]
    },
    {
      "cell_type": "code",
      "source": [
        "frac('1.5')"
      ],
      "metadata": {
        "colab": {
          "base_uri": "https://localhost:8080/"
        },
        "id": "FwLGF3tQ2B8l",
        "outputId": "062b5888-7989-4a01-a659-d38f4030c05f"
      },
      "execution_count": 78,
      "outputs": [
        {
          "output_type": "execute_result",
          "data": {
            "text/plain": [
              "Fraction(3, 2)"
            ]
          },
          "metadata": {},
          "execution_count": 78
        }
      ]
    },
    {
      "cell_type": "code",
      "source": [
        "frac(1, -4)"
      ],
      "metadata": {
        "colab": {
          "base_uri": "https://localhost:8080/"
        },
        "id": "IT8zn-GI2FTa",
        "outputId": "8297986b-e9a9-45ab-c286-32070182652e"
      },
      "execution_count": 79,
      "outputs": [
        {
          "output_type": "execute_result",
          "data": {
            "text/plain": [
              "Fraction(-1, 4)"
            ]
          },
          "metadata": {},
          "execution_count": 79
        }
      ]
    },
    {
      "cell_type": "code",
      "source": [
        "x = frac(1, -4)\n",
        "x.numerator, x.denominator"
      ],
      "metadata": {
        "colab": {
          "base_uri": "https://localhost:8080/"
        },
        "id": "co-T7b8r2HbX",
        "outputId": "df049599-7e6a-418b-b389-42aefe5be711"
      },
      "execution_count": 80,
      "outputs": [
        {
          "output_type": "execute_result",
          "data": {
            "text/plain": [
              "(-1, 4)"
            ]
          },
          "metadata": {},
          "execution_count": 80
        }
      ]
    },
    {
      "cell_type": "code",
      "source": [
        "import math"
      ],
      "metadata": {
        "id": "QjQR1D1A2OtX"
      },
      "execution_count": 81,
      "outputs": []
    },
    {
      "cell_type": "code",
      "source": [
        "x = frac(math.pi)"
      ],
      "metadata": {
        "id": "3-EEKrlV2XJN"
      },
      "execution_count": 82,
      "outputs": []
    },
    {
      "cell_type": "code",
      "source": [
        "x"
      ],
      "metadata": {
        "colab": {
          "base_uri": "https://localhost:8080/"
        },
        "id": "_o4Fq1Gd2ZQx",
        "outputId": "3b9d82e5-e2fb-41fb-bce3-d66234c15dad"
      },
      "execution_count": 83,
      "outputs": [
        {
          "output_type": "execute_result",
          "data": {
            "text/plain": [
              "Fraction(884279719003555, 281474976710656)"
            ]
          },
          "metadata": {},
          "execution_count": 83
        }
      ]
    },
    {
      "cell_type": "code",
      "source": [
        "float(x)"
      ],
      "metadata": {
        "colab": {
          "base_uri": "https://localhost:8080/"
        },
        "id": "OIYcaI1-2aQD",
        "outputId": "e628d5e5-fed1-4ec1-b25d-7c2d81cc9a84"
      },
      "execution_count": 84,
      "outputs": [
        {
          "output_type": "execute_result",
          "data": {
            "text/plain": [
              "3.141592653589793"
            ]
          },
          "metadata": {},
          "execution_count": 84
        }
      ]
    },
    {
      "cell_type": "code",
      "source": [
        "math.pi"
      ],
      "metadata": {
        "colab": {
          "base_uri": "https://localhost:8080/"
        },
        "id": "nOpwelq-2b_Y",
        "outputId": "15582dc5-738c-415d-846a-19fe3abae5e0"
      },
      "execution_count": 85,
      "outputs": [
        {
          "output_type": "execute_result",
          "data": {
            "text/plain": [
              "3.141592653589793"
            ]
          },
          "metadata": {},
          "execution_count": 85
        }
      ]
    },
    {
      "cell_type": "code",
      "source": [
        "y = frac(math.sqrt(2))"
      ],
      "metadata": {
        "id": "8VJvBZj-2eqe"
      },
      "execution_count": 86,
      "outputs": []
    },
    {
      "cell_type": "code",
      "source": [
        "float(y)"
      ],
      "metadata": {
        "colab": {
          "base_uri": "https://localhost:8080/"
        },
        "id": "SP-27EJn2i1R",
        "outputId": "38244e65-ebce-4722-831b-4f38d890b895"
      },
      "execution_count": 87,
      "outputs": [
        {
          "output_type": "execute_result",
          "data": {
            "text/plain": [
              "1.4142135623730951"
            ]
          },
          "metadata": {},
          "execution_count": 87
        }
      ]
    },
    {
      "cell_type": "code",
      "source": [
        "a = 0.125"
      ],
      "metadata": {
        "id": "1uR0wt2E2m9W"
      },
      "execution_count": 88,
      "outputs": []
    },
    {
      "cell_type": "code",
      "source": [
        "print(a)"
      ],
      "metadata": {
        "colab": {
          "base_uri": "https://localhost:8080/"
        },
        "id": "l6qBo07V2ul_",
        "outputId": "9e3e6bb4-02b6-4c52-94fe-cbd76db0e005"
      },
      "execution_count": 89,
      "outputs": [
        {
          "output_type": "stream",
          "name": "stdout",
          "text": [
            "0.125\n"
          ]
        }
      ]
    },
    {
      "cell_type": "code",
      "source": [
        "b = 0.3"
      ],
      "metadata": {
        "id": "EXet0cYQ2wL8"
      },
      "execution_count": 90,
      "outputs": []
    },
    {
      "cell_type": "code",
      "source": [
        "frac(a)"
      ],
      "metadata": {
        "colab": {
          "base_uri": "https://localhost:8080/"
        },
        "id": "KzU_XuGE2xsD",
        "outputId": "9e129f0c-3fcc-46e3-fbda-b60d21e1bf95"
      },
      "execution_count": 91,
      "outputs": [
        {
          "output_type": "execute_result",
          "data": {
            "text/plain": [
              "Fraction(1, 8)"
            ]
          },
          "metadata": {},
          "execution_count": 91
        }
      ]
    },
    {
      "cell_type": "code",
      "source": [
        "frac(b)"
      ],
      "metadata": {
        "colab": {
          "base_uri": "https://localhost:8080/"
        },
        "id": "HPUAOEyQ2y5z",
        "outputId": "951614ea-309d-4674-9d9a-36d66f7e3c14"
      },
      "execution_count": 92,
      "outputs": [
        {
          "output_type": "execute_result",
          "data": {
            "text/plain": [
              "Fraction(5404319552844595, 18014398509481984)"
            ]
          },
          "metadata": {},
          "execution_count": 92
        }
      ]
    },
    {
      "cell_type": "code",
      "source": [
        "format(b, '0.5f')"
      ],
      "metadata": {
        "colab": {
          "base_uri": "https://localhost:8080/",
          "height": 35
        },
        "id": "oGtDzUwL20xt",
        "outputId": "c03c4aa4-90f5-4227-8842-351cb225b3ea"
      },
      "execution_count": 93,
      "outputs": [
        {
          "output_type": "execute_result",
          "data": {
            "text/plain": [
              "'0.30000'"
            ],
            "application/vnd.google.colaboratory.intrinsic+json": {
              "type": "string"
            }
          },
          "metadata": {},
          "execution_count": 93
        }
      ]
    },
    {
      "cell_type": "code",
      "source": [
        "format(b, '0.15f')"
      ],
      "metadata": {
        "colab": {
          "base_uri": "https://localhost:8080/",
          "height": 35
        },
        "id": "cuk4KSpN3B4w",
        "outputId": "afc8111b-b6b2-4631-9e1b-3b2bbd4070d5"
      },
      "execution_count": 94,
      "outputs": [
        {
          "output_type": "execute_result",
          "data": {
            "text/plain": [
              "'0.300000000000000'"
            ],
            "application/vnd.google.colaboratory.intrinsic+json": {
              "type": "string"
            }
          },
          "metadata": {},
          "execution_count": 94
        }
      ]
    },
    {
      "cell_type": "code",
      "source": [
        "format(b, '0.25f')"
      ],
      "metadata": {
        "colab": {
          "base_uri": "https://localhost:8080/",
          "height": 35
        },
        "id": "J67dqFiK3Fue",
        "outputId": "ae639e3f-edff-4a12-a558-5f22a4ab7ffe"
      },
      "execution_count": 95,
      "outputs": [
        {
          "output_type": "execute_result",
          "data": {
            "text/plain": [
              "'0.2999999999999999888977698'"
            ],
            "application/vnd.google.colaboratory.intrinsic+json": {
              "type": "string"
            }
          },
          "metadata": {},
          "execution_count": 95
        }
      ]
    },
    {
      "cell_type": "code",
      "source": [
        "x = frac(0.3)"
      ],
      "metadata": {
        "id": "lNfUIWUW3IDS"
      },
      "execution_count": 96,
      "outputs": []
    },
    {
      "cell_type": "code",
      "source": [
        "x.limit_denominator(10)"
      ],
      "metadata": {
        "colab": {
          "base_uri": "https://localhost:8080/"
        },
        "id": "N1XhnSSh3WTa",
        "outputId": "a182d881-1d59-449a-d03c-422edffb8f4e"
      },
      "execution_count": 97,
      "outputs": [
        {
          "output_type": "execute_result",
          "data": {
            "text/plain": [
              "Fraction(3, 10)"
            ]
          },
          "metadata": {},
          "execution_count": 97
        }
      ]
    },
    {
      "cell_type": "code",
      "source": [
        "x = frac(math.pi)"
      ],
      "metadata": {
        "id": "BWNj7inI3ZCC"
      },
      "execution_count": 98,
      "outputs": []
    },
    {
      "cell_type": "code",
      "source": [
        "x"
      ],
      "metadata": {
        "colab": {
          "base_uri": "https://localhost:8080/"
        },
        "id": "vN1Qkl3v3dsf",
        "outputId": "fc7de271-360c-4a04-c2bf-592b22e447dc"
      },
      "execution_count": 99,
      "outputs": [
        {
          "output_type": "execute_result",
          "data": {
            "text/plain": [
              "Fraction(884279719003555, 281474976710656)"
            ]
          },
          "metadata": {},
          "execution_count": 99
        }
      ]
    },
    {
      "cell_type": "code",
      "source": [
        "x.limit_denominator(10)"
      ],
      "metadata": {
        "colab": {
          "base_uri": "https://localhost:8080/"
        },
        "id": "nx1xlqtb3eRc",
        "outputId": "78b06b5d-4c0c-40fc-e7e8-7270342e790a"
      },
      "execution_count": 100,
      "outputs": [
        {
          "output_type": "execute_result",
          "data": {
            "text/plain": [
              "Fraction(22, 7)"
            ]
          },
          "metadata": {},
          "execution_count": 100
        }
      ]
    },
    {
      "cell_type": "code",
      "source": [
        "x.limit_denominator(1000)"
      ],
      "metadata": {
        "colab": {
          "base_uri": "https://localhost:8080/"
        },
        "id": "X0X4dC6H3iuW",
        "outputId": "3bfe3dba-a5e3-4ef8-e756-bee880b29fb2"
      },
      "execution_count": 101,
      "outputs": [
        {
          "output_type": "execute_result",
          "data": {
            "text/plain": [
              "Fraction(355, 113)"
            ]
          },
          "metadata": {},
          "execution_count": 101
        }
      ]
    },
    {
      "cell_type": "code",
      "source": [
        "b=0.1"
      ],
      "metadata": {
        "id": "VhgCw5nl3m9C"
      },
      "execution_count": 102,
      "outputs": []
    },
    {
      "cell_type": "code",
      "source": [
        "b"
      ],
      "metadata": {
        "colab": {
          "base_uri": "https://localhost:8080/"
        },
        "id": "Ps2qiYwYGqjO",
        "outputId": "43f554dd-85d5-4303-dddc-dd433ac571cf"
      },
      "execution_count": 103,
      "outputs": [
        {
          "output_type": "execute_result",
          "data": {
            "text/plain": [
              "0.1"
            ]
          },
          "metadata": {},
          "execution_count": 103
        }
      ]
    },
    {
      "cell_type": "code",
      "source": [
        "help(float)"
      ],
      "metadata": {
        "colab": {
          "base_uri": "https://localhost:8080/"
        },
        "id": "5QCmTN3UGr6H",
        "outputId": "9ed3a9a4-0c99-47ed-cb24-c83a9ab9dd72"
      },
      "execution_count": 104,
      "outputs": [
        {
          "output_type": "stream",
          "name": "stdout",
          "text": [
            "Help on class float in module builtins:\n",
            "\n",
            "class float(object)\n",
            " |  float(x=0, /)\n",
            " |  \n",
            " |  Convert a string or number to a floating point number, if possible.\n",
            " |  \n",
            " |  Methods defined here:\n",
            " |  \n",
            " |  __abs__(self, /)\n",
            " |      abs(self)\n",
            " |  \n",
            " |  __add__(self, value, /)\n",
            " |      Return self+value.\n",
            " |  \n",
            " |  __bool__(self, /)\n",
            " |      self != 0\n",
            " |  \n",
            " |  __divmod__(self, value, /)\n",
            " |      Return divmod(self, value).\n",
            " |  \n",
            " |  __eq__(self, value, /)\n",
            " |      Return self==value.\n",
            " |  \n",
            " |  __float__(self, /)\n",
            " |      float(self)\n",
            " |  \n",
            " |  __floordiv__(self, value, /)\n",
            " |      Return self//value.\n",
            " |  \n",
            " |  __format__(self, format_spec, /)\n",
            " |      Formats the float according to format_spec.\n",
            " |  \n",
            " |  __ge__(self, value, /)\n",
            " |      Return self>=value.\n",
            " |  \n",
            " |  __getattribute__(self, name, /)\n",
            " |      Return getattr(self, name).\n",
            " |  \n",
            " |  __getnewargs__(self, /)\n",
            " |  \n",
            " |  __gt__(self, value, /)\n",
            " |      Return self>value.\n",
            " |  \n",
            " |  __hash__(self, /)\n",
            " |      Return hash(self).\n",
            " |  \n",
            " |  __int__(self, /)\n",
            " |      int(self)\n",
            " |  \n",
            " |  __le__(self, value, /)\n",
            " |      Return self<=value.\n",
            " |  \n",
            " |  __lt__(self, value, /)\n",
            " |      Return self<value.\n",
            " |  \n",
            " |  __mod__(self, value, /)\n",
            " |      Return self%value.\n",
            " |  \n",
            " |  __mul__(self, value, /)\n",
            " |      Return self*value.\n",
            " |  \n",
            " |  __ne__(self, value, /)\n",
            " |      Return self!=value.\n",
            " |  \n",
            " |  __neg__(self, /)\n",
            " |      -self\n",
            " |  \n",
            " |  __pos__(self, /)\n",
            " |      +self\n",
            " |  \n",
            " |  __pow__(self, value, mod=None, /)\n",
            " |      Return pow(self, value, mod).\n",
            " |  \n",
            " |  __radd__(self, value, /)\n",
            " |      Return value+self.\n",
            " |  \n",
            " |  __rdivmod__(self, value, /)\n",
            " |      Return divmod(value, self).\n",
            " |  \n",
            " |  __repr__(self, /)\n",
            " |      Return repr(self).\n",
            " |  \n",
            " |  __rfloordiv__(self, value, /)\n",
            " |      Return value//self.\n",
            " |  \n",
            " |  __rmod__(self, value, /)\n",
            " |      Return value%self.\n",
            " |  \n",
            " |  __rmul__(self, value, /)\n",
            " |      Return value*self.\n",
            " |  \n",
            " |  __round__(self, ndigits=None, /)\n",
            " |      Return the Integral closest to x, rounding half toward even.\n",
            " |      \n",
            " |      When an argument is passed, work like built-in round(x, ndigits).\n",
            " |  \n",
            " |  __rpow__(self, value, mod=None, /)\n",
            " |      Return pow(value, self, mod).\n",
            " |  \n",
            " |  __rsub__(self, value, /)\n",
            " |      Return value-self.\n",
            " |  \n",
            " |  __rtruediv__(self, value, /)\n",
            " |      Return value/self.\n",
            " |  \n",
            " |  __sub__(self, value, /)\n",
            " |      Return self-value.\n",
            " |  \n",
            " |  __truediv__(self, value, /)\n",
            " |      Return self/value.\n",
            " |  \n",
            " |  __trunc__(self, /)\n",
            " |      Return the Integral closest to x between 0 and x.\n",
            " |  \n",
            " |  as_integer_ratio(self, /)\n",
            " |      Return integer ratio.\n",
            " |      \n",
            " |      Return a pair of integers, whose ratio is exactly equal to the original float\n",
            " |      and with a positive denominator.\n",
            " |      \n",
            " |      Raise OverflowError on infinities and a ValueError on NaNs.\n",
            " |      \n",
            " |      >>> (10.0).as_integer_ratio()\n",
            " |      (10, 1)\n",
            " |      >>> (0.0).as_integer_ratio()\n",
            " |      (0, 1)\n",
            " |      >>> (-.25).as_integer_ratio()\n",
            " |      (-1, 4)\n",
            " |  \n",
            " |  conjugate(self, /)\n",
            " |      Return self, the complex conjugate of any float.\n",
            " |  \n",
            " |  hex(self, /)\n",
            " |      Return a hexadecimal representation of a floating-point number.\n",
            " |      \n",
            " |      >>> (-0.1).hex()\n",
            " |      '-0x1.999999999999ap-4'\n",
            " |      >>> 3.14159.hex()\n",
            " |      '0x1.921f9f01b866ep+1'\n",
            " |  \n",
            " |  is_integer(self, /)\n",
            " |      Return True if the float is an integer.\n",
            " |  \n",
            " |  ----------------------------------------------------------------------\n",
            " |  Class methods defined here:\n",
            " |  \n",
            " |  __getformat__(typestr, /) from builtins.type\n",
            " |      You probably don't want to use this function.\n",
            " |      \n",
            " |        typestr\n",
            " |          Must be 'double' or 'float'.\n",
            " |      \n",
            " |      It exists mainly to be used in Python's test suite.\n",
            " |      \n",
            " |      This function returns whichever of 'unknown', 'IEEE, big-endian' or 'IEEE,\n",
            " |      little-endian' best describes the format of floating point numbers used by the\n",
            " |      C type named by typestr.\n",
            " |  \n",
            " |  __set_format__(typestr, fmt, /) from builtins.type\n",
            " |      You probably don't want to use this function.\n",
            " |      \n",
            " |        typestr\n",
            " |          Must be 'double' or 'float'.\n",
            " |        fmt\n",
            " |          Must be one of 'unknown', 'IEEE, big-endian' or 'IEEE, little-endian',\n",
            " |          and in addition can only be one of the latter two if it appears to\n",
            " |          match the underlying C reality.\n",
            " |      \n",
            " |      It exists mainly to be used in Python's test suite.\n",
            " |      \n",
            " |      Override the automatic determination of C-level floating point type.\n",
            " |      This affects how floats are converted to and from binary strings.\n",
            " |  \n",
            " |  fromhex(string, /) from builtins.type\n",
            " |      Create a floating-point number from a hexadecimal string.\n",
            " |      \n",
            " |      >>> float.fromhex('0x1.ffffp10')\n",
            " |      2047.984375\n",
            " |      >>> float.fromhex('-0x1p-1074')\n",
            " |      -5e-324\n",
            " |  \n",
            " |  ----------------------------------------------------------------------\n",
            " |  Static methods defined here:\n",
            " |  \n",
            " |  __new__(*args, **kwargs) from builtins.type\n",
            " |      Create and return a new object.  See help(type) for accurate signature.\n",
            " |  \n",
            " |  ----------------------------------------------------------------------\n",
            " |  Data descriptors defined here:\n",
            " |  \n",
            " |  imag\n",
            " |      the imaginary part of a complex number\n",
            " |  \n",
            " |  real\n",
            " |      the real part of a complex number\n",
            "\n"
          ]
        }
      ]
    },
    {
      "cell_type": "code",
      "source": [
        "float(10)"
      ],
      "metadata": {
        "colab": {
          "base_uri": "https://localhost:8080/"
        },
        "id": "r-JWiL8EG1zP",
        "outputId": "55516166-a883-49df-c1d6-f7aef567e960"
      },
      "execution_count": 105,
      "outputs": [
        {
          "output_type": "execute_result",
          "data": {
            "text/plain": [
              "10.0"
            ]
          },
          "metadata": {},
          "execution_count": 105
        }
      ]
    },
    {
      "cell_type": "code",
      "source": [
        "float(frac('22/7'))"
      ],
      "metadata": {
        "colab": {
          "base_uri": "https://localhost:8080/"
        },
        "id": "TteZmIUtG7dV",
        "outputId": "56a1819e-d4ce-49ba-8cd5-d1554396c6ed"
      },
      "execution_count": 106,
      "outputs": [
        {
          "output_type": "execute_result",
          "data": {
            "text/plain": [
              "3.142857142857143"
            ]
          },
          "metadata": {},
          "execution_count": 106
        }
      ]
    },
    {
      "cell_type": "code",
      "source": [
        "print(0.1)"
      ],
      "metadata": {
        "colab": {
          "base_uri": "https://localhost:8080/"
        },
        "id": "VhJaW3a8G_Ge",
        "outputId": "2be12c2b-81c7-446a-bd15-ee3d3d80da15"
      },
      "execution_count": 107,
      "outputs": [
        {
          "output_type": "stream",
          "name": "stdout",
          "text": [
            "0.1\n"
          ]
        }
      ]
    },
    {
      "cell_type": "code",
      "source": [
        "format(0.1, '.15f')"
      ],
      "metadata": {
        "colab": {
          "base_uri": "https://localhost:8080/",
          "height": 35
        },
        "id": "I0TGiJsMHR8_",
        "outputId": "cc0baf8e-e964-492f-c89e-4c5dc2579849"
      },
      "execution_count": 108,
      "outputs": [
        {
          "output_type": "execute_result",
          "data": {
            "text/plain": [
              "'0.100000000000000'"
            ],
            "application/vnd.google.colaboratory.intrinsic+json": {
              "type": "string"
            }
          },
          "metadata": {},
          "execution_count": 108
        }
      ]
    },
    {
      "cell_type": "code",
      "source": [
        "format(0.1, '.25f')"
      ],
      "metadata": {
        "colab": {
          "base_uri": "https://localhost:8080/",
          "height": 35
        },
        "id": "nWBnQNBVHaZA",
        "outputId": "6e1c98ee-ead1-4c70-ff0c-643218f4f40e"
      },
      "execution_count": 109,
      "outputs": [
        {
          "output_type": "execute_result",
          "data": {
            "text/plain": [
              "'0.1000000000000000055511151'"
            ],
            "application/vnd.google.colaboratory.intrinsic+json": {
              "type": "string"
            }
          },
          "metadata": {},
          "execution_count": 109
        }
      ]
    },
    {
      "cell_type": "code",
      "source": [
        "format(0.125, '.25f')"
      ],
      "metadata": {
        "colab": {
          "base_uri": "https://localhost:8080/",
          "height": 35
        },
        "id": "s2E9vTVoHfBB",
        "outputId": "2ba88862-d0fe-41d0-9c56-74321ffab11d"
      },
      "execution_count": 110,
      "outputs": [
        {
          "output_type": "execute_result",
          "data": {
            "text/plain": [
              "'0.1250000000000000000000000'"
            ],
            "application/vnd.google.colaboratory.intrinsic+json": {
              "type": "string"
            }
          },
          "metadata": {},
          "execution_count": 110
        }
      ]
    },
    {
      "cell_type": "code",
      "source": [
        "a = 0.1 + 0.1 + 0.1"
      ],
      "metadata": {
        "id": "OsVacBnLHlBO"
      },
      "execution_count": 111,
      "outputs": []
    },
    {
      "cell_type": "code",
      "source": [
        "b = 0.3"
      ],
      "metadata": {
        "id": "WrduWWfQHk-Z"
      },
      "execution_count": 112,
      "outputs": []
    },
    {
      "cell_type": "code",
      "source": [
        "format(a, '.25f')"
      ],
      "metadata": {
        "colab": {
          "base_uri": "https://localhost:8080/",
          "height": 35
        },
        "id": "w-MUr1gbHk7C",
        "outputId": "40be198f-6d97-46ec-a96e-51534b653902"
      },
      "execution_count": 113,
      "outputs": [
        {
          "output_type": "execute_result",
          "data": {
            "text/plain": [
              "'0.3000000000000000444089210'"
            ],
            "application/vnd.google.colaboratory.intrinsic+json": {
              "type": "string"
            }
          },
          "metadata": {},
          "execution_count": 113
        }
      ]
    },
    {
      "cell_type": "code",
      "source": [
        "format(b, '.25f')"
      ],
      "metadata": {
        "colab": {
          "base_uri": "https://localhost:8080/",
          "height": 35
        },
        "id": "xb7FJmeqHk3J",
        "outputId": "2931d522-0a62-42e1-eef1-4ef70bb82fbd"
      },
      "execution_count": 114,
      "outputs": [
        {
          "output_type": "execute_result",
          "data": {
            "text/plain": [
              "'0.2999999999999999888977698'"
            ],
            "application/vnd.google.colaboratory.intrinsic+json": {
              "type": "string"
            }
          },
          "metadata": {},
          "execution_count": 114
        }
      ]
    },
    {
      "cell_type": "code",
      "source": [
        "x = 0.1"
      ],
      "metadata": {
        "id": "FR_HxphOHkzy"
      },
      "execution_count": 115,
      "outputs": []
    },
    {
      "cell_type": "code",
      "source": [
        "format(x, '.25f')"
      ],
      "metadata": {
        "colab": {
          "base_uri": "https://localhost:8080/",
          "height": 35
        },
        "id": "hxrt7hF8HkwR",
        "outputId": "7011f930-0ccd-4c85-ad9e-5017e543c73b"
      },
      "execution_count": 116,
      "outputs": [
        {
          "output_type": "execute_result",
          "data": {
            "text/plain": [
              "'0.1000000000000000055511151'"
            ],
            "application/vnd.google.colaboratory.intrinsic+json": {
              "type": "string"
            }
          },
          "metadata": {},
          "execution_count": 116
        }
      ]
    },
    {
      "cell_type": "code",
      "source": [
        "x = 0.125 + 0.125 + 0.125"
      ],
      "metadata": {
        "id": "_Jc5rrcCHknu"
      },
      "execution_count": 117,
      "outputs": []
    },
    {
      "cell_type": "code",
      "source": [
        "y = 0.375"
      ],
      "metadata": {
        "id": "3dndvhXjHkg6"
      },
      "execution_count": 118,
      "outputs": []
    },
    {
      "cell_type": "code",
      "source": [
        "x == y"
      ],
      "metadata": {
        "colab": {
          "base_uri": "https://localhost:8080/"
        },
        "id": "UgjougiE93Mg",
        "outputId": "5efe483b-cfcc-4f70-ae97-50e02b97b6d1"
      },
      "execution_count": 119,
      "outputs": [
        {
          "output_type": "execute_result",
          "data": {
            "text/plain": [
              "True"
            ]
          },
          "metadata": {},
          "execution_count": 119
        }
      ]
    },
    {
      "cell_type": "code",
      "source": [
        "x = 0.1 + 0.1 + 0.1\n",
        "y = 0.3"
      ],
      "metadata": {
        "id": "mSpm_dqA94KA"
      },
      "execution_count": 120,
      "outputs": []
    },
    {
      "cell_type": "code",
      "source": [
        "x == y"
      ],
      "metadata": {
        "colab": {
          "base_uri": "https://localhost:8080/"
        },
        "id": "mujW_VOG-Ahb",
        "outputId": "f983a03a-5b26-4c1b-92eb-cf27e70779f2"
      },
      "execution_count": 121,
      "outputs": [
        {
          "output_type": "execute_result",
          "data": {
            "text/plain": [
              "False"
            ]
          },
          "metadata": {},
          "execution_count": 121
        }
      ]
    },
    {
      "cell_type": "code",
      "source": [
        "round(x, 3) == round(y, 3)"
      ],
      "metadata": {
        "colab": {
          "base_uri": "https://localhost:8080/"
        },
        "id": "wjZVWHxN-CAC",
        "outputId": "78a1833b-a972-430a-c5f6-f06f9073b1b2"
      },
      "execution_count": 122,
      "outputs": [
        {
          "output_type": "execute_result",
          "data": {
            "text/plain": [
              "True"
            ]
          },
          "metadata": {},
          "execution_count": 122
        }
      ]
    },
    {
      "cell_type": "code",
      "source": [
        "format(x, '.25f')"
      ],
      "metadata": {
        "colab": {
          "base_uri": "https://localhost:8080/",
          "height": 35
        },
        "id": "hJf4l_kw-JmR",
        "outputId": "2cefcabc-35da-48b5-9477-8b16c79a4459"
      },
      "execution_count": 123,
      "outputs": [
        {
          "output_type": "execute_result",
          "data": {
            "text/plain": [
              "'0.3000000000000000444089210'"
            ],
            "application/vnd.google.colaboratory.intrinsic+json": {
              "type": "string"
            }
          },
          "metadata": {},
          "execution_count": 123
        }
      ]
    },
    {
      "cell_type": "code",
      "source": [
        "format(y, '.25f')"
      ],
      "metadata": {
        "colab": {
          "base_uri": "https://localhost:8080/",
          "height": 35
        },
        "id": "EIbpUtWg-MNR",
        "outputId": "c95fa134-5e07-4d06-8eda-abb1e930405e"
      },
      "execution_count": 124,
      "outputs": [
        {
          "output_type": "execute_result",
          "data": {
            "text/plain": [
              "'0.2999999999999999888977698'"
            ],
            "application/vnd.google.colaboratory.intrinsic+json": {
              "type": "string"
            }
          },
          "metadata": {},
          "execution_count": 124
        }
      ]
    },
    {
      "cell_type": "code",
      "source": [
        "x = 10000.01\n",
        "y = 10000.02"
      ],
      "metadata": {
        "id": "pCr7asMv-OsK"
      },
      "execution_count": 125,
      "outputs": []
    },
    {
      "cell_type": "code",
      "source": [
        "delta = x  - y"
      ],
      "metadata": {
        "id": "MgRyu_Hy-jTO"
      },
      "execution_count": 126,
      "outputs": []
    },
    {
      "cell_type": "code",
      "source": [
        "delta"
      ],
      "metadata": {
        "colab": {
          "base_uri": "https://localhost:8080/"
        },
        "id": "kkIaeVDY-l08",
        "outputId": "834c8fa3-ed2e-4927-8086-9ccc5b1edbae"
      },
      "execution_count": 127,
      "outputs": [
        {
          "output_type": "execute_result",
          "data": {
            "text/plain": [
              "-0.010000000000218279"
            ]
          },
          "metadata": {},
          "execution_count": 127
        }
      ]
    },
    {
      "cell_type": "code",
      "source": [
        "round(x, 1)"
      ],
      "metadata": {
        "colab": {
          "base_uri": "https://localhost:8080/"
        },
        "id": "tHTa8Doi-mnm",
        "outputId": "aa36025b-9dfe-47d2-8563-c3de7d349ce8"
      },
      "execution_count": 128,
      "outputs": [
        {
          "output_type": "execute_result",
          "data": {
            "text/plain": [
              "10000.0"
            ]
          },
          "metadata": {},
          "execution_count": 128
        }
      ]
    },
    {
      "cell_type": "code",
      "source": [
        "from math import isclose"
      ],
      "metadata": {
        "id": "1zZ9lkJ2-7pb"
      },
      "execution_count": 129,
      "outputs": []
    },
    {
      "cell_type": "code",
      "source": [
        "help(isclose)"
      ],
      "metadata": {
        "colab": {
          "base_uri": "https://localhost:8080/"
        },
        "id": "A75_-F37_Ixn",
        "outputId": "4b088378-2531-49d2-ebd6-6b3f85e1522c"
      },
      "execution_count": 130,
      "outputs": [
        {
          "output_type": "stream",
          "name": "stdout",
          "text": [
            "Help on built-in function isclose in module math:\n",
            "\n",
            "isclose(a, b, *, rel_tol=1e-09, abs_tol=0.0)\n",
            "    Determine whether two floating point numbers are close in value.\n",
            "    \n",
            "      rel_tol\n",
            "        maximum difference for being considered \"close\", relative to the\n",
            "        magnitude of the input values\n",
            "      abs_tol\n",
            "        maximum difference for being considered \"close\", regardless of the\n",
            "        magnitude of the input values\n",
            "    \n",
            "    Return True if a is close in value to b, and False otherwise.\n",
            "    \n",
            "    For the values to be considered close, the difference between them\n",
            "    must be smaller than at least one of the tolerances.\n",
            "    \n",
            "    -inf, inf and NaN behave similarly to the IEEE 754 Standard.  That\n",
            "    is, NaN is not close to anything, even itself.  inf and -inf are\n",
            "    only close to themselves.\n",
            "\n"
          ]
        }
      ]
    },
    {
      "cell_type": "code",
      "source": [
        "x = 0.1 + 0.1 + 0.1\n",
        "y = 0.3"
      ],
      "metadata": {
        "id": "FLeIzHdg_KQh"
      },
      "execution_count": 131,
      "outputs": []
    },
    {
      "cell_type": "code",
      "source": [
        "isclose(x, y)"
      ],
      "metadata": {
        "colab": {
          "base_uri": "https://localhost:8080/"
        },
        "id": "D5-ABeTg_X_y",
        "outputId": "8a6d6e35-2e8d-4d10-981b-1bc5af70d8b6"
      },
      "execution_count": 132,
      "outputs": [
        {
          "output_type": "execute_result",
          "data": {
            "text/plain": [
              "True"
            ]
          },
          "metadata": {},
          "execution_count": 132
        }
      ]
    },
    {
      "cell_type": "code",
      "source": [
        "x = 123456789.01\n",
        "y = 123456789.02\n",
        "isclose(x, y, rel_tol=0.01)"
      ],
      "metadata": {
        "colab": {
          "base_uri": "https://localhost:8080/"
        },
        "id": "vza6uGm6_Zsc",
        "outputId": "c6b8c531-090e-41c3-ae9c-57cea58ff585"
      },
      "execution_count": 133,
      "outputs": [
        {
          "output_type": "execute_result",
          "data": {
            "text/plain": [
              "True"
            ]
          },
          "metadata": {},
          "execution_count": 133
        }
      ]
    },
    {
      "cell_type": "code",
      "source": [
        "x = 0.0000001\n",
        "y = 0.0000002\n",
        "isclose(x, y, rel_tol=0.01)"
      ],
      "metadata": {
        "colab": {
          "base_uri": "https://localhost:8080/"
        },
        "id": "0xgnsMou_iYP",
        "outputId": "64425997-a651-4b82-9590-6c43eefb7384"
      },
      "execution_count": 134,
      "outputs": [
        {
          "output_type": "execute_result",
          "data": {
            "text/plain": [
              "False"
            ]
          },
          "metadata": {},
          "execution_count": 134
        }
      ]
    },
    {
      "cell_type": "code",
      "source": [
        "isclose(x, y, rel_tol=0.01, abs_tol=0.01)"
      ],
      "metadata": {
        "colab": {
          "base_uri": "https://localhost:8080/"
        },
        "id": "jUrWgP0__l-L",
        "outputId": "55ac28c7-b8bd-4723-8246-9b8a45963652"
      },
      "execution_count": 135,
      "outputs": [
        {
          "output_type": "execute_result",
          "data": {
            "text/plain": [
              "True"
            ]
          },
          "metadata": {},
          "execution_count": 135
        }
      ]
    },
    {
      "cell_type": "code",
      "source": [
        "x = 0.0000001\n",
        "y = 0.0000002\n",
        "\n",
        "a = 123456789.01\n",
        "b = 123456789.02\n",
        "\n",
        "print(isclose(x, y, abs_tol=0.0001, rel_tol=0.01))\n",
        "print(isclose(a, b, abs_tol=0.0001, rel_tol=0.01))"
      ],
      "metadata": {
        "colab": {
          "base_uri": "https://localhost:8080/"
        },
        "id": "_4Q_bBe7AxPp",
        "outputId": "a66eaa14-c472-4b8d-c6b6-6fc0010032cf"
      },
      "execution_count": 136,
      "outputs": [
        {
          "output_type": "stream",
          "name": "stdout",
          "text": [
            "True\n",
            "True\n"
          ]
        }
      ]
    },
    {
      "cell_type": "code",
      "source": [
        "from math import trunc"
      ],
      "metadata": {
        "id": "81G_rCT7zFnu"
      },
      "execution_count": 137,
      "outputs": []
    },
    {
      "cell_type": "code",
      "source": [
        "help(trunc)"
      ],
      "metadata": {
        "colab": {
          "base_uri": "https://localhost:8080/"
        },
        "id": "mBWkQzBfzVRx",
        "outputId": "d21d26d5-b8e2-4dd1-c86b-7d78a3bac868"
      },
      "execution_count": 138,
      "outputs": [
        {
          "output_type": "stream",
          "name": "stdout",
          "text": [
            "Help on built-in function trunc in module math:\n",
            "\n",
            "trunc(x, /)\n",
            "    Truncates the Real x to the nearest Integral toward 0.\n",
            "    \n",
            "    Uses the __trunc__ magic method.\n",
            "\n"
          ]
        }
      ]
    },
    {
      "cell_type": "code",
      "source": [
        "trunc(10.3), trunc(10.5), trunc(10.9)"
      ],
      "metadata": {
        "colab": {
          "base_uri": "https://localhost:8080/"
        },
        "id": "bDtHJATSzJ1E",
        "outputId": "ade3b9a7-ff98-485f-a549-06cee4871e6b"
      },
      "execution_count": 139,
      "outputs": [
        {
          "output_type": "execute_result",
          "data": {
            "text/plain": [
              "(10, 10, 10)"
            ]
          },
          "metadata": {},
          "execution_count": 139
        }
      ]
    },
    {
      "cell_type": "code",
      "source": [
        "from math import floor"
      ],
      "metadata": {
        "id": "h1QqZbDFzUi5"
      },
      "execution_count": 140,
      "outputs": []
    },
    {
      "cell_type": "code",
      "source": [
        "help(floor)"
      ],
      "metadata": {
        "colab": {
          "base_uri": "https://localhost:8080/"
        },
        "id": "oPLBDvkxzf9V",
        "outputId": "ddef40a0-60f6-4cf9-b4bc-d3915ddef8fe"
      },
      "execution_count": 141,
      "outputs": [
        {
          "output_type": "stream",
          "name": "stdout",
          "text": [
            "Help on built-in function floor in module math:\n",
            "\n",
            "floor(x, /)\n",
            "    Return the floor of x as an Integral.\n",
            "    \n",
            "    This is the largest integer <= x.\n",
            "\n"
          ]
        }
      ]
    },
    {
      "cell_type": "code",
      "source": [
        "floor(10.3), floor(10.5), floor(10.9)"
      ],
      "metadata": {
        "colab": {
          "base_uri": "https://localhost:8080/"
        },
        "id": "o3oMj-hozhjt",
        "outputId": "11a13976-06c5-464a-afa0-010ae4c1f1f5"
      },
      "execution_count": 142,
      "outputs": [
        {
          "output_type": "execute_result",
          "data": {
            "text/plain": [
              "(10, 10, 10)"
            ]
          },
          "metadata": {},
          "execution_count": 142
        }
      ]
    },
    {
      "cell_type": "code",
      "source": [
        "trunc(-10.4), trunc(-10.5), trunc(-10.9)"
      ],
      "metadata": {
        "colab": {
          "base_uri": "https://localhost:8080/"
        },
        "id": "NGSBPgrIznJJ",
        "outputId": "9c994c44-754e-44b8-b356-d5f60b294536"
      },
      "execution_count": 143,
      "outputs": [
        {
          "output_type": "execute_result",
          "data": {
            "text/plain": [
              "(-10, -10, -10)"
            ]
          },
          "metadata": {},
          "execution_count": 143
        }
      ]
    },
    {
      "cell_type": "code",
      "source": [
        "floor(-10.4), floor(-10.5), floor(-10.9)"
      ],
      "metadata": {
        "colab": {
          "base_uri": "https://localhost:8080/"
        },
        "id": "tfjisGrkztQ5",
        "outputId": "7f6cc0b5-9ca4-4840-dbb6-b9dec3dc6f2a"
      },
      "execution_count": 144,
      "outputs": [
        {
          "output_type": "execute_result",
          "data": {
            "text/plain": [
              "(-11, -11, -11)"
            ]
          },
          "metadata": {},
          "execution_count": 144
        }
      ]
    },
    {
      "cell_type": "code",
      "source": [
        "from math import ceil"
      ],
      "metadata": {
        "id": "S9FUnPupzzBq"
      },
      "execution_count": 145,
      "outputs": []
    },
    {
      "cell_type": "code",
      "source": [
        "help(ceil)"
      ],
      "metadata": {
        "colab": {
          "base_uri": "https://localhost:8080/"
        },
        "id": "QnyVJNn70BN6",
        "outputId": "63b13712-ab69-451d-ec7f-bcaa7ed3d2e1"
      },
      "execution_count": 146,
      "outputs": [
        {
          "output_type": "stream",
          "name": "stdout",
          "text": [
            "Help on built-in function ceil in module math:\n",
            "\n",
            "ceil(x, /)\n",
            "    Return the ceiling of x as an Integral.\n",
            "    \n",
            "    This is the smallest integer >= x.\n",
            "\n"
          ]
        }
      ]
    },
    {
      "cell_type": "code",
      "source": [
        "ceil(-10.4), ceil(-10.5), ceil(-10.9)"
      ],
      "metadata": {
        "colab": {
          "base_uri": "https://localhost:8080/"
        },
        "id": "KiGjiRr80CiQ",
        "outputId": "f0718f11-0f52-43af-91f8-2ce29989a55a"
      },
      "execution_count": 147,
      "outputs": [
        {
          "output_type": "execute_result",
          "data": {
            "text/plain": [
              "(-10, -10, -10)"
            ]
          },
          "metadata": {},
          "execution_count": 147
        }
      ]
    },
    {
      "cell_type": "code",
      "source": [
        "help(round)"
      ],
      "metadata": {
        "colab": {
          "base_uri": "https://localhost:8080/"
        },
        "id": "JRn62RZZ0KyY",
        "outputId": "8e06f5b3-f0ec-47a4-da11-03cae3499b38"
      },
      "execution_count": 148,
      "outputs": [
        {
          "output_type": "stream",
          "name": "stdout",
          "text": [
            "Help on built-in function round in module builtins:\n",
            "\n",
            "round(number, ndigits=None)\n",
            "    Round a number to a given precision in decimal digits.\n",
            "    \n",
            "    The return value is an integer if ndigits is omitted or None.  Otherwise\n",
            "    the return value has the same type as the number.  ndigits may be negative.\n",
            "\n"
          ]
        }
      ]
    },
    {
      "cell_type": "code",
      "source": [
        "a = round(1.9)"
      ],
      "metadata": {
        "id": "jK3Pz56JYbCv"
      },
      "execution_count": 149,
      "outputs": []
    },
    {
      "cell_type": "code",
      "source": [
        "a, type(a)"
      ],
      "metadata": {
        "colab": {
          "base_uri": "https://localhost:8080/"
        },
        "id": "4ar9UegCYfgg",
        "outputId": "ff7d9f9f-8f03-42a9-a7fa-d17eec2a4187"
      },
      "execution_count": 150,
      "outputs": [
        {
          "output_type": "execute_result",
          "data": {
            "text/plain": [
              "(2, int)"
            ]
          },
          "metadata": {},
          "execution_count": 150
        }
      ]
    },
    {
      "cell_type": "code",
      "source": [
        "a = round(1.9, 0)"
      ],
      "metadata": {
        "id": "kyCW66XWYkK3"
      },
      "execution_count": 151,
      "outputs": []
    },
    {
      "cell_type": "code",
      "source": [
        "a, type(a)"
      ],
      "metadata": {
        "colab": {
          "base_uri": "https://localhost:8080/"
        },
        "id": "0a1r6hASYqwt",
        "outputId": "b0c792f6-36da-41fd-d57c-04cc83d7e077"
      },
      "execution_count": 152,
      "outputs": [
        {
          "output_type": "execute_result",
          "data": {
            "text/plain": [
              "(2.0, float)"
            ]
          },
          "metadata": {},
          "execution_count": 152
        }
      ]
    },
    {
      "cell_type": "code",
      "source": [
        "round(1.8888, 3) ,round(1.8888, 2), round(1.8888, 1), round(1.8888, 0)"
      ],
      "metadata": {
        "colab": {
          "base_uri": "https://localhost:8080/"
        },
        "id": "zyJ875xRYtEY",
        "outputId": "6490bc2a-6efd-483d-9d5e-350698441108"
      },
      "execution_count": 153,
      "outputs": [
        {
          "output_type": "execute_result",
          "data": {
            "text/plain": [
              "(1.889, 1.89, 1.9, 2.0)"
            ]
          },
          "metadata": {},
          "execution_count": 153
        }
      ]
    },
    {
      "cell_type": "code",
      "source": [
        "round(888.88, 1), round(888.88, 0), \\\n",
        "round(888.88, -1), round(888.88, -2), round(888.88, -3), round(888.88, -4)"
      ],
      "metadata": {
        "colab": {
          "base_uri": "https://localhost:8080/"
        },
        "id": "1VuSPiGJY4bt",
        "outputId": "a48d53eb-d0da-45ff-d4c0-af2eb4e4a4a4"
      },
      "execution_count": 154,
      "outputs": [
        {
          "output_type": "execute_result",
          "data": {
            "text/plain": [
              "(888.9, 889.0, 890.0, 900.0, 1000.0, 0.0)"
            ]
          },
          "metadata": {},
          "execution_count": 154
        }
      ]
    },
    {
      "cell_type": "code",
      "source": [
        "round(9800, -4)"
      ],
      "metadata": {
        "colab": {
          "base_uri": "https://localhost:8080/"
        },
        "id": "p9N6guK8ZcLQ",
        "outputId": "1caee542-8ff2-436d-e1a5-fc9c9f27c239"
      },
      "execution_count": 155,
      "outputs": [
        {
          "output_type": "execute_result",
          "data": {
            "text/plain": [
              "10000"
            ]
          },
          "metadata": {},
          "execution_count": 155
        }
      ]
    },
    {
      "cell_type": "code",
      "source": [
        "round(1.25, 1)"
      ],
      "metadata": {
        "colab": {
          "base_uri": "https://localhost:8080/"
        },
        "id": "fyjGPaz3ZvM2",
        "outputId": "a9b9a037-bfd3-440f-b4e8-de15d2a83dc1"
      },
      "execution_count": 156,
      "outputs": [
        {
          "output_type": "execute_result",
          "data": {
            "text/plain": [
              "1.2"
            ]
          },
          "metadata": {},
          "execution_count": 156
        }
      ]
    },
    {
      "cell_type": "code",
      "source": [
        "round(1.35, 1)"
      ],
      "metadata": {
        "colab": {
          "base_uri": "https://localhost:8080/"
        },
        "id": "vFJ8zWypaLQj",
        "outputId": "dc54db02-fc1e-401e-963b-e870867d08ae"
      },
      "execution_count": 157,
      "outputs": [
        {
          "output_type": "execute_result",
          "data": {
            "text/plain": [
              "1.4"
            ]
          },
          "metadata": {},
          "execution_count": 157
        }
      ]
    },
    {
      "cell_type": "code",
      "source": [
        "def _round(x):\n",
        "    from math import copysign\n",
        "    return int(x + 0.5 * copysign(1, x))"
      ],
      "metadata": {
        "id": "MA2zilXkaNXu"
      },
      "execution_count": 158,
      "outputs": []
    },
    {
      "cell_type": "code",
      "source": [
        "round(-1.5), _round(-1.5)"
      ],
      "metadata": {
        "colab": {
          "base_uri": "https://localhost:8080/"
        },
        "id": "gGi313ZYa8dz",
        "outputId": "df181e7c-0574-46f7-9919-536ef3da6437"
      },
      "execution_count": 159,
      "outputs": [
        {
          "output_type": "execute_result",
          "data": {
            "text/plain": [
              "(-2, -2)"
            ]
          },
          "metadata": {},
          "execution_count": 159
        }
      ]
    },
    {
      "cell_type": "code",
      "source": [
        "round(-2.5), _round(-2.5)"
      ],
      "metadata": {
        "colab": {
          "base_uri": "https://localhost:8080/"
        },
        "id": "dqRloj4pbAdR",
        "outputId": "9f730ddf-59f3-4c21-cdc1-eb6367b8ab1b"
      },
      "execution_count": 160,
      "outputs": [
        {
          "output_type": "execute_result",
          "data": {
            "text/plain": [
              "(-2, -3)"
            ]
          },
          "metadata": {},
          "execution_count": 160
        }
      ]
    },
    {
      "cell_type": "code",
      "source": [
        "import decimal\n",
        "from decimal import Decimal"
      ],
      "metadata": {
        "id": "gIOxXB42bgTw"
      },
      "execution_count": 161,
      "outputs": []
    },
    {
      "cell_type": "code",
      "source": [
        "decimal.getcontext()"
      ],
      "metadata": {
        "colab": {
          "base_uri": "https://localhost:8080/"
        },
        "id": "n9TGFTlUi6lN",
        "outputId": "2bd52458-7bfa-441f-9e8c-6e5c718ef2ac"
      },
      "execution_count": 162,
      "outputs": [
        {
          "output_type": "execute_result",
          "data": {
            "text/plain": [
              "Context(prec=28, rounding=ROUND_HALF_EVEN, Emin=-999999, Emax=999999, capitals=1, clamp=0, flags=[], traps=[InvalidOperation, DivisionByZero, Overflow])"
            ]
          },
          "metadata": {},
          "execution_count": 162
        }
      ]
    },
    {
      "cell_type": "code",
      "source": [
        "help(Decimal)"
      ],
      "metadata": {
        "colab": {
          "base_uri": "https://localhost:8080/"
        },
        "id": "tnZlIZwCjDvO",
        "outputId": "6a2556a6-4176-4390-d06e-7b212c477568"
      },
      "execution_count": 163,
      "outputs": [
        {
          "output_type": "stream",
          "name": "stdout",
          "text": [
            "Help on class Decimal in module decimal:\n",
            "\n",
            "class Decimal(builtins.object)\n",
            " |  Decimal(value='0', context=None)\n",
            " |  \n",
            " |  Construct a new Decimal object. 'value' can be an integer, string, tuple,\n",
            " |  or another Decimal object. If no value is given, return Decimal('0'). The\n",
            " |  context does not affect the conversion and is only passed to determine if\n",
            " |  the InvalidOperation trap is active.\n",
            " |  \n",
            " |  Methods defined here:\n",
            " |  \n",
            " |  __abs__(self, /)\n",
            " |      abs(self)\n",
            " |  \n",
            " |  __add__(self, value, /)\n",
            " |      Return self+value.\n",
            " |  \n",
            " |  __bool__(self, /)\n",
            " |      self != 0\n",
            " |  \n",
            " |  __ceil__(...)\n",
            " |  \n",
            " |  __complex__(...)\n",
            " |  \n",
            " |  __copy__(...)\n",
            " |  \n",
            " |  __deepcopy__(...)\n",
            " |  \n",
            " |  __divmod__(self, value, /)\n",
            " |      Return divmod(self, value).\n",
            " |  \n",
            " |  __eq__(self, value, /)\n",
            " |      Return self==value.\n",
            " |  \n",
            " |  __float__(self, /)\n",
            " |      float(self)\n",
            " |  \n",
            " |  __floor__(...)\n",
            " |  \n",
            " |  __floordiv__(self, value, /)\n",
            " |      Return self//value.\n",
            " |  \n",
            " |  __format__(...)\n",
            " |      Default object formatter.\n",
            " |  \n",
            " |  __ge__(self, value, /)\n",
            " |      Return self>=value.\n",
            " |  \n",
            " |  __getattribute__(self, name, /)\n",
            " |      Return getattr(self, name).\n",
            " |  \n",
            " |  __gt__(self, value, /)\n",
            " |      Return self>value.\n",
            " |  \n",
            " |  __hash__(self, /)\n",
            " |      Return hash(self).\n",
            " |  \n",
            " |  __int__(self, /)\n",
            " |      int(self)\n",
            " |  \n",
            " |  __le__(self, value, /)\n",
            " |      Return self<=value.\n",
            " |  \n",
            " |  __lt__(self, value, /)\n",
            " |      Return self<value.\n",
            " |  \n",
            " |  __mod__(self, value, /)\n",
            " |      Return self%value.\n",
            " |  \n",
            " |  __mul__(self, value, /)\n",
            " |      Return self*value.\n",
            " |  \n",
            " |  __ne__(self, value, /)\n",
            " |      Return self!=value.\n",
            " |  \n",
            " |  __neg__(self, /)\n",
            " |      -self\n",
            " |  \n",
            " |  __pos__(self, /)\n",
            " |      +self\n",
            " |  \n",
            " |  __pow__(self, value, mod=None, /)\n",
            " |      Return pow(self, value, mod).\n",
            " |  \n",
            " |  __radd__(self, value, /)\n",
            " |      Return value+self.\n",
            " |  \n",
            " |  __rdivmod__(self, value, /)\n",
            " |      Return divmod(value, self).\n",
            " |  \n",
            " |  __reduce__(...)\n",
            " |      Helper for pickle.\n",
            " |  \n",
            " |  __repr__(self, /)\n",
            " |      Return repr(self).\n",
            " |  \n",
            " |  __rfloordiv__(self, value, /)\n",
            " |      Return value//self.\n",
            " |  \n",
            " |  __rmod__(self, value, /)\n",
            " |      Return value%self.\n",
            " |  \n",
            " |  __rmul__(self, value, /)\n",
            " |      Return value*self.\n",
            " |  \n",
            " |  __round__(...)\n",
            " |  \n",
            " |  __rpow__(self, value, mod=None, /)\n",
            " |      Return pow(value, self, mod).\n",
            " |  \n",
            " |  __rsub__(self, value, /)\n",
            " |      Return value-self.\n",
            " |  \n",
            " |  __rtruediv__(self, value, /)\n",
            " |      Return value/self.\n",
            " |  \n",
            " |  __sizeof__(...)\n",
            " |      Size of object in memory, in bytes.\n",
            " |  \n",
            " |  __str__(self, /)\n",
            " |      Return str(self).\n",
            " |  \n",
            " |  __sub__(self, value, /)\n",
            " |      Return self-value.\n",
            " |  \n",
            " |  __truediv__(self, value, /)\n",
            " |      Return self/value.\n",
            " |  \n",
            " |  __trunc__(...)\n",
            " |  \n",
            " |  adjusted(self, /)\n",
            " |      Return the adjusted exponent of the number.  Defined as exp + digits - 1.\n",
            " |  \n",
            " |  as_integer_ratio(self, /)\n",
            " |      Decimal.as_integer_ratio() -> (int, int)\n",
            " |      \n",
            " |      Return a pair of integers, whose ratio is exactly equal to the original\n",
            " |      Decimal and with a positive denominator. The ratio is in lowest terms.\n",
            " |      Raise OverflowError on infinities and a ValueError on NaNs.\n",
            " |  \n",
            " |  as_tuple(self, /)\n",
            " |      Return a tuple representation of the number.\n",
            " |  \n",
            " |  canonical(self, /)\n",
            " |      Return the canonical encoding of the argument.  Currently, the encoding\n",
            " |      of a Decimal instance is always canonical, so this operation returns its\n",
            " |      argument unchanged.\n",
            " |  \n",
            " |  compare(self, /, other, context=None)\n",
            " |      Compare self to other.  Return a decimal value:\n",
            " |      \n",
            " |      a or b is a NaN ==> Decimal('NaN')\n",
            " |      a < b           ==> Decimal('-1')\n",
            " |      a == b          ==> Decimal('0')\n",
            " |      a > b           ==> Decimal('1')\n",
            " |  \n",
            " |  compare_signal(self, /, other, context=None)\n",
            " |      Identical to compare, except that all NaNs signal.\n",
            " |  \n",
            " |  compare_total(self, /, other, context=None)\n",
            " |      Compare two operands using their abstract representation rather than\n",
            " |      their numerical value.  Similar to the compare() method, but the result\n",
            " |      gives a total ordering on Decimal instances.  Two Decimal instances with\n",
            " |      the same numeric value but different representations compare unequal\n",
            " |      in this ordering:\n",
            " |      \n",
            " |          >>> Decimal('12.0').compare_total(Decimal('12'))\n",
            " |          Decimal('-1')\n",
            " |      \n",
            " |      Quiet and signaling NaNs are also included in the total ordering. The result\n",
            " |      of this function is Decimal('0') if both operands have the same representation,\n",
            " |      Decimal('-1') if the first operand is lower in the total order than the second,\n",
            " |      and Decimal('1') if the first operand is higher in the total order than the\n",
            " |      second operand. See the specification for details of the total order.\n",
            " |      \n",
            " |      This operation is unaffected by context and is quiet: no flags are changed\n",
            " |      and no rounding is performed. As an exception, the C version may raise\n",
            " |      InvalidOperation if the second operand cannot be converted exactly.\n",
            " |  \n",
            " |  compare_total_mag(self, /, other, context=None)\n",
            " |      Compare two operands using their abstract representation rather than their\n",
            " |      value as in compare_total(), but ignoring the sign of each operand.\n",
            " |      \n",
            " |      x.compare_total_mag(y) is equivalent to x.copy_abs().compare_total(y.copy_abs()).\n",
            " |      \n",
            " |      This operation is unaffected by context and is quiet: no flags are changed\n",
            " |      and no rounding is performed. As an exception, the C version may raise\n",
            " |      InvalidOperation if the second operand cannot be converted exactly.\n",
            " |  \n",
            " |  conjugate(self, /)\n",
            " |      Return self.\n",
            " |  \n",
            " |  copy_abs(self, /)\n",
            " |      Return the absolute value of the argument.  This operation is unaffected by\n",
            " |      context and is quiet: no flags are changed and no rounding is performed.\n",
            " |  \n",
            " |  copy_negate(self, /)\n",
            " |      Return the negation of the argument.  This operation is unaffected by context\n",
            " |      and is quiet: no flags are changed and no rounding is performed.\n",
            " |  \n",
            " |  copy_sign(self, /, other, context=None)\n",
            " |      Return a copy of the first operand with the sign set to be the same as the\n",
            " |      sign of the second operand. For example:\n",
            " |      \n",
            " |          >>> Decimal('2.3').copy_sign(Decimal('-1.5'))\n",
            " |          Decimal('-2.3')\n",
            " |      \n",
            " |      This operation is unaffected by context and is quiet: no flags are changed\n",
            " |      and no rounding is performed. As an exception, the C version may raise\n",
            " |      InvalidOperation if the second operand cannot be converted exactly.\n",
            " |  \n",
            " |  exp(self, /, context=None)\n",
            " |      Return the value of the (natural) exponential function e**x at the given\n",
            " |      number.  The function always uses the ROUND_HALF_EVEN mode and the result\n",
            " |      is correctly rounded.\n",
            " |  \n",
            " |  fma(self, /, other, third, context=None)\n",
            " |      Fused multiply-add.  Return self*other+third with no rounding of the\n",
            " |      intermediate product self*other.\n",
            " |      \n",
            " |          >>> Decimal(2).fma(3, 5)\n",
            " |          Decimal('11')\n",
            " |  \n",
            " |  is_canonical(self, /)\n",
            " |      Return True if the argument is canonical and False otherwise.  Currently,\n",
            " |      a Decimal instance is always canonical, so this operation always returns\n",
            " |      True.\n",
            " |  \n",
            " |  is_finite(self, /)\n",
            " |      Return True if the argument is a finite number, and False if the argument\n",
            " |      is infinite or a NaN.\n",
            " |  \n",
            " |  is_infinite(self, /)\n",
            " |      Return True if the argument is either positive or negative infinity and\n",
            " |      False otherwise.\n",
            " |  \n",
            " |  is_nan(self, /)\n",
            " |      Return True if the argument is a (quiet or signaling) NaN and False\n",
            " |      otherwise.\n",
            " |  \n",
            " |  is_normal(self, /, context=None)\n",
            " |      Return True if the argument is a normal finite non-zero number with an\n",
            " |      adjusted exponent greater than or equal to Emin. Return False if the\n",
            " |      argument is zero, subnormal, infinite or a NaN.\n",
            " |  \n",
            " |  is_qnan(self, /)\n",
            " |      Return True if the argument is a quiet NaN, and False otherwise.\n",
            " |  \n",
            " |  is_signed(self, /)\n",
            " |      Return True if the argument has a negative sign and False otherwise.\n",
            " |      Note that both zeros and NaNs can carry signs.\n",
            " |  \n",
            " |  is_snan(self, /)\n",
            " |      Return True if the argument is a signaling NaN and False otherwise.\n",
            " |  \n",
            " |  is_subnormal(self, /, context=None)\n",
            " |      Return True if the argument is subnormal, and False otherwise. A number is\n",
            " |      subnormal if it is non-zero, finite, and has an adjusted exponent less\n",
            " |      than Emin.\n",
            " |  \n",
            " |  is_zero(self, /)\n",
            " |      Return True if the argument is a (positive or negative) zero and False\n",
            " |      otherwise.\n",
            " |  \n",
            " |  ln(self, /, context=None)\n",
            " |      Return the natural (base e) logarithm of the operand. The function always\n",
            " |      uses the ROUND_HALF_EVEN mode and the result is correctly rounded.\n",
            " |  \n",
            " |  log10(self, /, context=None)\n",
            " |      Return the base ten logarithm of the operand. The function always uses the\n",
            " |      ROUND_HALF_EVEN mode and the result is correctly rounded.\n",
            " |  \n",
            " |  logb(self, /, context=None)\n",
            " |      For a non-zero number, return the adjusted exponent of the operand as a\n",
            " |      Decimal instance.  If the operand is a zero, then Decimal('-Infinity') is\n",
            " |      returned and the DivisionByZero condition is raised. If the operand is\n",
            " |      an infinity then Decimal('Infinity') is returned.\n",
            " |  \n",
            " |  logical_and(self, /, other, context=None)\n",
            " |      Return the digit-wise 'and' of the two (logical) operands.\n",
            " |  \n",
            " |  logical_invert(self, /, context=None)\n",
            " |      Return the digit-wise inversion of the (logical) operand.\n",
            " |  \n",
            " |  logical_or(self, /, other, context=None)\n",
            " |      Return the digit-wise 'or' of the two (logical) operands.\n",
            " |  \n",
            " |  logical_xor(self, /, other, context=None)\n",
            " |      Return the digit-wise 'exclusive or' of the two (logical) operands.\n",
            " |  \n",
            " |  max(self, /, other, context=None)\n",
            " |      Maximum of self and other.  If one operand is a quiet NaN and the other is\n",
            " |      numeric, the numeric operand is returned.\n",
            " |  \n",
            " |  max_mag(self, /, other, context=None)\n",
            " |      Similar to the max() method, but the comparison is done using the absolute\n",
            " |      values of the operands.\n",
            " |  \n",
            " |  min(self, /, other, context=None)\n",
            " |      Minimum of self and other. If one operand is a quiet NaN and the other is\n",
            " |      numeric, the numeric operand is returned.\n",
            " |  \n",
            " |  min_mag(self, /, other, context=None)\n",
            " |      Similar to the min() method, but the comparison is done using the absolute\n",
            " |      values of the operands.\n",
            " |  \n",
            " |  next_minus(self, /, context=None)\n",
            " |      Return the largest number representable in the given context (or in the\n",
            " |      current default context if no context is given) that is smaller than the\n",
            " |      given operand.\n",
            " |  \n",
            " |  next_plus(self, /, context=None)\n",
            " |      Return the smallest number representable in the given context (or in the\n",
            " |      current default context if no context is given) that is larger than the\n",
            " |      given operand.\n",
            " |  \n",
            " |  next_toward(self, /, other, context=None)\n",
            " |      If the two operands are unequal, return the number closest to the first\n",
            " |      operand in the direction of the second operand.  If both operands are\n",
            " |      numerically equal, return a copy of the first operand with the sign set\n",
            " |      to be the same as the sign of the second operand.\n",
            " |  \n",
            " |  normalize(self, /, context=None)\n",
            " |      Normalize the number by stripping the rightmost trailing zeros and\n",
            " |      converting any result equal to Decimal('0') to Decimal('0e0').  Used\n",
            " |      for producing canonical values for members of an equivalence class.\n",
            " |      For example, Decimal('32.100') and Decimal('0.321000e+2') both normalize\n",
            " |      to the equivalent value Decimal('32.1').\n",
            " |  \n",
            " |  number_class(self, /, context=None)\n",
            " |      Return a string describing the class of the operand.  The returned value\n",
            " |      is one of the following ten strings:\n",
            " |      \n",
            " |          * '-Infinity', indicating that the operand is negative infinity.\n",
            " |          * '-Normal', indicating that the operand is a negative normal number.\n",
            " |          * '-Subnormal', indicating that the operand is negative and subnormal.\n",
            " |          * '-Zero', indicating that the operand is a negative zero.\n",
            " |          * '+Zero', indicating that the operand is a positive zero.\n",
            " |          * '+Subnormal', indicating that the operand is positive and subnormal.\n",
            " |          * '+Normal', indicating that the operand is a positive normal number.\n",
            " |          * '+Infinity', indicating that the operand is positive infinity.\n",
            " |          * 'NaN', indicating that the operand is a quiet NaN (Not a Number).\n",
            " |          * 'sNaN', indicating that the operand is a signaling NaN.\n",
            " |  \n",
            " |  quantize(self, /, exp, rounding=None, context=None)\n",
            " |      Return a value equal to the first operand after rounding and having the\n",
            " |      exponent of the second operand.\n",
            " |      \n",
            " |          >>> Decimal('1.41421356').quantize(Decimal('1.000'))\n",
            " |          Decimal('1.414')\n",
            " |      \n",
            " |      Unlike other operations, if the length of the coefficient after the quantize\n",
            " |      operation would be greater than precision, then an InvalidOperation is signaled.\n",
            " |      This guarantees that, unless there is an error condition, the quantized exponent\n",
            " |      is always equal to that of the right-hand operand.\n",
            " |      \n",
            " |      Also unlike other operations, quantize never signals Underflow, even if the\n",
            " |      result is subnormal and inexact.\n",
            " |      \n",
            " |      If the exponent of the second operand is larger than that of the first, then\n",
            " |      rounding may be necessary. In this case, the rounding mode is determined by the\n",
            " |      rounding argument if given, else by the given context argument; if neither\n",
            " |      argument is given, the rounding mode of the current thread's context is used.\n",
            " |  \n",
            " |  radix(self, /)\n",
            " |      Return Decimal(10), the radix (base) in which the Decimal class does\n",
            " |      all its arithmetic. Included for compatibility with the specification.\n",
            " |  \n",
            " |  remainder_near(self, /, other, context=None)\n",
            " |      Return the remainder from dividing self by other.  This differs from\n",
            " |      self % other in that the sign of the remainder is chosen so as to minimize\n",
            " |      its absolute value. More precisely, the return value is self - n * other\n",
            " |      where n is the integer nearest to the exact value of self / other, and\n",
            " |      if two integers are equally near then the even one is chosen.\n",
            " |      \n",
            " |      If the result is zero then its sign will be the sign of self.\n",
            " |  \n",
            " |  rotate(self, /, other, context=None)\n",
            " |      Return the result of rotating the digits of the first operand by an amount\n",
            " |      specified by the second operand.  The second operand must be an integer in\n",
            " |      the range -precision through precision. The absolute value of the second\n",
            " |      operand gives the number of places to rotate. If the second operand is\n",
            " |      positive then rotation is to the left; otherwise rotation is to the right.\n",
            " |      The coefficient of the first operand is padded on the left with zeros to\n",
            " |      length precision if necessary. The sign and exponent of the first operand are\n",
            " |      unchanged.\n",
            " |  \n",
            " |  same_quantum(self, /, other, context=None)\n",
            " |      Test whether self and other have the same exponent or whether both are NaN.\n",
            " |      \n",
            " |      This operation is unaffected by context and is quiet: no flags are changed\n",
            " |      and no rounding is performed. As an exception, the C version may raise\n",
            " |      InvalidOperation if the second operand cannot be converted exactly.\n",
            " |  \n",
            " |  scaleb(self, /, other, context=None)\n",
            " |      Return the first operand with the exponent adjusted the second.  Equivalently,\n",
            " |      return the first operand multiplied by 10**other. The second operand must be\n",
            " |      an integer.\n",
            " |  \n",
            " |  shift(self, /, other, context=None)\n",
            " |      Return the result of shifting the digits of the first operand by an amount\n",
            " |      specified by the second operand.  The second operand must be an integer in\n",
            " |      the range -precision through precision. The absolute value of the second\n",
            " |      operand gives the number of places to shift. If the second operand is\n",
            " |      positive, then the shift is to the left; otherwise the shift is to the\n",
            " |      right. Digits shifted into the coefficient are zeros. The sign and exponent\n",
            " |      of the first operand are unchanged.\n",
            " |  \n",
            " |  sqrt(self, /, context=None)\n",
            " |      Return the square root of the argument to full precision. The result is\n",
            " |      correctly rounded using the ROUND_HALF_EVEN rounding mode.\n",
            " |  \n",
            " |  to_eng_string(self, /, context=None)\n",
            " |      Convert to an engineering-type string.  Engineering notation has an exponent\n",
            " |      which is a multiple of 3, so there are up to 3 digits left of the decimal\n",
            " |      place. For example, Decimal('123E+1') is converted to Decimal('1.23E+3').\n",
            " |      \n",
            " |      The value of context.capitals determines whether the exponent sign is lower\n",
            " |      or upper case. Otherwise, the context does not affect the operation.\n",
            " |  \n",
            " |  to_integral(self, /, rounding=None, context=None)\n",
            " |      Identical to the to_integral_value() method.  The to_integral() name has been\n",
            " |      kept for compatibility with older versions.\n",
            " |  \n",
            " |  to_integral_exact(self, /, rounding=None, context=None)\n",
            " |      Round to the nearest integer, signaling Inexact or Rounded as appropriate if\n",
            " |      rounding occurs.  The rounding mode is determined by the rounding parameter\n",
            " |      if given, else by the given context. If neither parameter is given, then the\n",
            " |      rounding mode of the current default context is used.\n",
            " |  \n",
            " |  to_integral_value(self, /, rounding=None, context=None)\n",
            " |      Round to the nearest integer without signaling Inexact or Rounded.  The\n",
            " |      rounding mode is determined by the rounding parameter if given, else by\n",
            " |      the given context. If neither parameter is given, then the rounding mode\n",
            " |      of the current default context is used.\n",
            " |  \n",
            " |  ----------------------------------------------------------------------\n",
            " |  Class methods defined here:\n",
            " |  \n",
            " |  from_float(f, /) from builtins.type\n",
            " |      Class method that converts a float to a decimal number, exactly.\n",
            " |      Since 0.1 is not exactly representable in binary floating point,\n",
            " |      Decimal.from_float(0.1) is not the same as Decimal('0.1').\n",
            " |      \n",
            " |          >>> Decimal.from_float(0.1)\n",
            " |          Decimal('0.1000000000000000055511151231257827021181583404541015625')\n",
            " |          >>> Decimal.from_float(float('nan'))\n",
            " |          Decimal('NaN')\n",
            " |          >>> Decimal.from_float(float('inf'))\n",
            " |          Decimal('Infinity')\n",
            " |          >>> Decimal.from_float(float('-inf'))\n",
            " |          Decimal('-Infinity')\n",
            " |  \n",
            " |  ----------------------------------------------------------------------\n",
            " |  Static methods defined here:\n",
            " |  \n",
            " |  __new__(*args, **kwargs) from builtins.type\n",
            " |      Create and return a new object.  See help(type) for accurate signature.\n",
            " |  \n",
            " |  ----------------------------------------------------------------------\n",
            " |  Data descriptors defined here:\n",
            " |  \n",
            " |  imag\n",
            " |  \n",
            " |  real\n",
            "\n"
          ]
        }
      ]
    },
    {
      "cell_type": "code",
      "source": [
        "decimal.getcontext().rounding"
      ],
      "metadata": {
        "colab": {
          "base_uri": "https://localhost:8080/",
          "height": 35
        },
        "id": "MzURjfhHjGfa",
        "outputId": "f1fed66a-7a16-4f09-ca14-235938a21b59"
      },
      "execution_count": 164,
      "outputs": [
        {
          "output_type": "execute_result",
          "data": {
            "text/plain": [
              "'ROUND_HALF_EVEN'"
            ],
            "application/vnd.google.colaboratory.intrinsic+json": {
              "type": "string"
            }
          },
          "metadata": {},
          "execution_count": 164
        }
      ]
    },
    {
      "cell_type": "code",
      "source": [
        "decimal.getcontext().prec = 6"
      ],
      "metadata": {
        "id": "dC0dv0LejWIp"
      },
      "execution_count": 165,
      "outputs": []
    },
    {
      "cell_type": "code",
      "source": [
        "g_ctx = decimal.getcontext()"
      ],
      "metadata": {
        "id": "fwaMtsuAjgnF"
      },
      "execution_count": 166,
      "outputs": []
    },
    {
      "cell_type": "code",
      "source": [
        "g_ctx.rounding = 'ROUND_HALF_UP'"
      ],
      "metadata": {
        "id": "FrhJj4dhjnMn"
      },
      "execution_count": 167,
      "outputs": []
    },
    {
      "cell_type": "code",
      "source": [
        "decimal.getcontext()"
      ],
      "metadata": {
        "colab": {
          "base_uri": "https://localhost:8080/"
        },
        "id": "jzO0cl0Ajw4F",
        "outputId": "e75bb4d8-c678-4274-ddfb-ea6d41f81f7b"
      },
      "execution_count": 168,
      "outputs": [
        {
          "output_type": "execute_result",
          "data": {
            "text/plain": [
              "Context(prec=28, rounding=ROUND_HALF_EVEN, Emin=-999999, Emax=999999, capitals=1, clamp=0, flags=[], traps=[InvalidOperation, DivisionByZero, Overflow])"
            ]
          },
          "metadata": {},
          "execution_count": 168
        }
      ]
    },
    {
      "cell_type": "code",
      "source": [
        "g_ctx.prec = 28\n",
        "g_ctx.rounding = decimal.ROUND_HALF_EVEN"
      ],
      "metadata": {
        "id": "SOGrRHNEj8ts"
      },
      "execution_count": 169,
      "outputs": []
    },
    {
      "cell_type": "code",
      "source": [
        "type(decimal.localcontext())"
      ],
      "metadata": {
        "colab": {
          "base_uri": "https://localhost:8080/"
        },
        "id": "9jgO9G1PkGu8",
        "outputId": "5fccff51-db8a-4a80-bc3a-e707c31ae1d6"
      },
      "execution_count": 170,
      "outputs": [
        {
          "output_type": "execute_result",
          "data": {
            "text/plain": [
              "decimal.ContextManager"
            ]
          },
          "metadata": {},
          "execution_count": 170
        }
      ]
    },
    {
      "cell_type": "code",
      "source": [
        "type(decimal.getcontext())"
      ],
      "metadata": {
        "colab": {
          "base_uri": "https://localhost:8080/"
        },
        "id": "upJxE9TVkktr",
        "outputId": "86180401-886f-44a0-bbc0-8dbc15ac7028"
      },
      "execution_count": 171,
      "outputs": [
        {
          "output_type": "execute_result",
          "data": {
            "text/plain": [
              "decimal.Context"
            ]
          },
          "metadata": {},
          "execution_count": 171
        }
      ]
    },
    {
      "cell_type": "code",
      "source": [
        "with decimal.localcontext() as ctx:\n",
        "    print(type(ctx))\n",
        "    print(ctx)"
      ],
      "metadata": {
        "colab": {
          "base_uri": "https://localhost:8080/"
        },
        "id": "x4Tw9MizkoK6",
        "outputId": "bb347677-0bf6-4a61-87d7-6305e6b52263"
      },
      "execution_count": 172,
      "outputs": [
        {
          "output_type": "stream",
          "name": "stdout",
          "text": [
            "<class 'decimal.Context'>\n",
            "Context(prec=28, rounding=ROUND_HALF_EVEN, Emin=-999999, Emax=999999, capitals=1, clamp=0, flags=[], traps=[InvalidOperation, DivisionByZero, Overflow])\n"
          ]
        }
      ]
    },
    {
      "cell_type": "code",
      "source": [
        "with decimal.localcontext() as ctx:\n",
        "    ctx.prec = 6\n",
        "    ctx.rounding = decimal.ROUND_HALF_UP\n",
        "    print(ctx)\n",
        "    print(decimal.getcontext())\n",
        "    id(ctx) == id(decimal.getcontext())"
      ],
      "metadata": {
        "colab": {
          "base_uri": "https://localhost:8080/"
        },
        "id": "Ec22Wx6hkz09",
        "outputId": "9c253824-ffb3-4fef-8150-98f3b43399c0"
      },
      "execution_count": 173,
      "outputs": [
        {
          "output_type": "stream",
          "name": "stdout",
          "text": [
            "Context(prec=6, rounding=ROUND_HALF_UP, Emin=-999999, Emax=999999, capitals=1, clamp=0, flags=[], traps=[InvalidOperation, DivisionByZero, Overflow])\n",
            "Context(prec=6, rounding=ROUND_HALF_UP, Emin=-999999, Emax=999999, capitals=1, clamp=0, flags=[], traps=[InvalidOperation, DivisionByZero, Overflow])\n"
          ]
        }
      ]
    },
    {
      "cell_type": "code",
      "source": [
        "x = Decimal('1.25')\n",
        "y = Decimal('1.35')\n",
        "\n",
        "with decimal.localcontext() as ctx:\n",
        "    ctx.prec = 6\n",
        "    ctx.rounding = decimal.ROUND_HALF_UP\n",
        "    print(round(x, 1))\n",
        "    print(round(x, 1))\n",
        "\n",
        "print(round(x, 1))\n",
        "print(round(x, 1))"
      ],
      "metadata": {
        "colab": {
          "base_uri": "https://localhost:8080/"
        },
        "id": "ksnQk2T-lExg",
        "outputId": "7d769b24-af67-4b30-db63-2472df6205bb"
      },
      "execution_count": 174,
      "outputs": [
        {
          "output_type": "stream",
          "name": "stdout",
          "text": [
            "1.3\n",
            "1.3\n",
            "1.2\n",
            "1.2\n"
          ]
        }
      ]
    },
    {
      "cell_type": "code",
      "source": [
        "import decimal\n",
        "from decimal import Decimal"
      ],
      "metadata": {
        "id": "gVa5c7MGl0yj"
      },
      "execution_count": 174,
      "outputs": []
    },
    {
      "cell_type": "code",
      "source": [
        "Decimal(10)"
      ],
      "metadata": {
        "colab": {
          "base_uri": "https://localhost:8080/"
        },
        "id": "jbKe0zwDy9zs",
        "outputId": "f0dd0460-a086-48d7-ed26-d60935940b6f"
      },
      "execution_count": 175,
      "outputs": [
        {
          "output_type": "execute_result",
          "data": {
            "text/plain": [
              "Decimal('10')"
            ]
          },
          "metadata": {},
          "execution_count": 175
        }
      ]
    },
    {
      "cell_type": "code",
      "source": [
        "t = (0, (3,1,4,1,5), -4)"
      ],
      "metadata": {
        "id": "mN5x1ew8zAQd"
      },
      "execution_count": 176,
      "outputs": []
    },
    {
      "cell_type": "code",
      "source": [
        "Decimal(t)"
      ],
      "metadata": {
        "colab": {
          "base_uri": "https://localhost:8080/"
        },
        "id": "CzPQBUyNzkCg",
        "outputId": "40e3d87c-07f5-48ea-c14f-a9a7b302f6cc"
      },
      "execution_count": 177,
      "outputs": [
        {
          "output_type": "execute_result",
          "data": {
            "text/plain": [
              "Decimal('3.1415')"
            ]
          },
          "metadata": {},
          "execution_count": 177
        }
      ]
    },
    {
      "cell_type": "code",
      "source": [
        "format(0.1, '.25f')"
      ],
      "metadata": {
        "colab": {
          "base_uri": "https://localhost:8080/",
          "height": 35
        },
        "id": "aT11x1XVzmNX",
        "outputId": "2232eb98-0653-4ab9-aa8d-69261b5b4954"
      },
      "execution_count": 178,
      "outputs": [
        {
          "output_type": "execute_result",
          "data": {
            "text/plain": [
              "'0.1000000000000000055511151'"
            ],
            "application/vnd.google.colaboratory.intrinsic+json": {
              "type": "string"
            }
          },
          "metadata": {},
          "execution_count": 178
        }
      ]
    },
    {
      "cell_type": "code",
      "source": [
        "Decimal(0.1)"
      ],
      "metadata": {
        "colab": {
          "base_uri": "https://localhost:8080/"
        },
        "id": "CqFhhtoVz4Uf",
        "outputId": "67b7ac3b-40ac-44b0-b5e8-efe5830787a9"
      },
      "execution_count": 179,
      "outputs": [
        {
          "output_type": "execute_result",
          "data": {
            "text/plain": [
              "Decimal('0.1000000000000000055511151231257827021181583404541015625')"
            ]
          },
          "metadata": {},
          "execution_count": 179
        }
      ]
    },
    {
      "cell_type": "code",
      "source": [
        "Decimal('0.1')"
      ],
      "metadata": {
        "colab": {
          "base_uri": "https://localhost:8080/"
        },
        "id": "NbYAjsc40D3d",
        "outputId": "a27eb695-8591-41d8-bd55-2f7807343533"
      },
      "execution_count": 180,
      "outputs": [
        {
          "output_type": "execute_result",
          "data": {
            "text/plain": [
              "Decimal('0.1')"
            ]
          },
          "metadata": {},
          "execution_count": 180
        }
      ]
    },
    {
      "cell_type": "code",
      "source": [
        "Decimal('0.1') == Decimal(0.1)"
      ],
      "metadata": {
        "colab": {
          "base_uri": "https://localhost:8080/"
        },
        "id": "U2oIqJL90N8l",
        "outputId": "152d8dbb-2dce-4051-b502-e972f3c4cb2f"
      },
      "execution_count": 181,
      "outputs": [
        {
          "output_type": "execute_result",
          "data": {
            "text/plain": [
              "False"
            ]
          },
          "metadata": {},
          "execution_count": 181
        }
      ]
    },
    {
      "cell_type": "code",
      "source": [
        "decimal.getcontext()"
      ],
      "metadata": {
        "colab": {
          "base_uri": "https://localhost:8080/"
        },
        "id": "5aJYcVE70TrR",
        "outputId": "9916251f-ddbd-4c59-cc68-1d7fbb7d591e"
      },
      "execution_count": 182,
      "outputs": [
        {
          "output_type": "execute_result",
          "data": {
            "text/plain": [
              "Context(prec=28, rounding=ROUND_HALF_EVEN, Emin=-999999, Emax=999999, capitals=1, clamp=0, flags=[], traps=[InvalidOperation, DivisionByZero, Overflow])"
            ]
          },
          "metadata": {},
          "execution_count": 182
        }
      ]
    },
    {
      "cell_type": "code",
      "source": [
        "decimal.getcontext().prec = 2"
      ],
      "metadata": {
        "id": "JQzBDyyj0apb"
      },
      "execution_count": 194,
      "outputs": []
    },
    {
      "cell_type": "code",
      "source": [
        "a = Decimal('0.123456789')\n",
        "b = Decimal('0.123456789')"
      ],
      "metadata": {
        "id": "1ij37VIx0ejt"
      },
      "execution_count": 195,
      "outputs": []
    },
    {
      "cell_type": "code",
      "source": [
        "a, b"
      ],
      "metadata": {
        "colab": {
          "base_uri": "https://localhost:8080/"
        },
        "id": "hJzAJlJB0iEu",
        "outputId": "2a8028e1-7e8e-4ae1-8554-ddebbde84bd0"
      },
      "execution_count": 196,
      "outputs": [
        {
          "output_type": "execute_result",
          "data": {
            "text/plain": [
              "(Decimal('0.123456789'), Decimal('0.123456789'))"
            ]
          },
          "metadata": {},
          "execution_count": 196
        }
      ]
    },
    {
      "cell_type": "code",
      "source": [
        "a + b"
      ],
      "metadata": {
        "colab": {
          "base_uri": "https://localhost:8080/"
        },
        "id": "LeQS4mOV0ibj",
        "outputId": "97920449-cb3f-412f-f3f3-5a58b0b10e39"
      },
      "execution_count": 197,
      "outputs": [
        {
          "output_type": "execute_result",
          "data": {
            "text/plain": [
              "Decimal('0.246913578')"
            ]
          },
          "metadata": {},
          "execution_count": 197
        }
      ]
    },
    {
      "cell_type": "code",
      "source": [
        "a, b\n",
        "with decimal.localcontext() as ctx:\n",
        "    ctx.prec = 2\n",
        "    c = a + b\n",
        "    print('c within local context: {}'.format(c))\n",
        "\n",
        "print('c within global context: {}'.format(c))"
      ],
      "metadata": {
        "colab": {
          "base_uri": "https://localhost:8080/"
        },
        "id": "u0IfN-PH1XbM",
        "outputId": "17baaa74-18ed-455d-98b1-6605a6389d25"
      },
      "execution_count": 201,
      "outputs": [
        {
          "output_type": "stream",
          "name": "stdout",
          "text": [
            "c within local context: 0.25\n",
            "c within global context: 0.25\n"
          ]
        }
      ]
    },
    {
      "cell_type": "code",
      "source": [
        "x = 10\n",
        "y = 3\n",
        "print(x//y, x%y)"
      ],
      "metadata": {
        "colab": {
          "base_uri": "https://localhost:8080/"
        },
        "id": "1X50UGJ911jb",
        "outputId": "8dca6517-39a2-4194-ecb9-6e9d8cf7c376"
      },
      "execution_count": 205,
      "outputs": [
        {
          "output_type": "stream",
          "name": "stdout",
          "text": [
            "3 1\n"
          ]
        }
      ]
    },
    {
      "cell_type": "code",
      "source": [
        "print(divmod(x, y))"
      ],
      "metadata": {
        "colab": {
          "base_uri": "https://localhost:8080/"
        },
        "id": "uNU1sa9L_eKN",
        "outputId": "df6dda62-749f-4e09-a280-0f61a7345704"
      },
      "execution_count": 206,
      "outputs": [
        {
          "output_type": "stream",
          "name": "stdout",
          "text": [
            "(3, 1)\n"
          ]
        }
      ]
    },
    {
      "cell_type": "code",
      "source": [
        "x == y * (x//y) +(x%y)"
      ],
      "metadata": {
        "colab": {
          "base_uri": "https://localhost:8080/"
        },
        "id": "wguLp2P1_iJw",
        "outputId": "f59bc855-a6b0-47c3-da81-eac6aacacc6d"
      },
      "execution_count": 207,
      "outputs": [
        {
          "output_type": "execute_result",
          "data": {
            "text/plain": [
              "True"
            ]
          },
          "metadata": {},
          "execution_count": 207
        }
      ]
    },
    {
      "cell_type": "code",
      "source": [
        "x = -10\n",
        "y = 3\n",
        "print(x//y, x%y)\n",
        "print(divmod(x, y))\n",
        "x == y * (x//y) +(x%y)"
      ],
      "metadata": {
        "colab": {
          "base_uri": "https://localhost:8080/"
        },
        "id": "dCTi_6Wp_nkx",
        "outputId": "10b23b82-832f-4e79-d649-9476f065564e"
      },
      "execution_count": 208,
      "outputs": [
        {
          "output_type": "stream",
          "name": "stdout",
          "text": [
            "-4 2\n",
            "(-4, 2)\n"
          ]
        },
        {
          "output_type": "execute_result",
          "data": {
            "text/plain": [
              "True"
            ]
          },
          "metadata": {},
          "execution_count": 208
        }
      ]
    },
    {
      "cell_type": "code",
      "source": [
        "x = Decimal(-10)\n",
        "y = Decimal(3)\n",
        "print(x//y, x%y)\n",
        "print(divmod(x, y))\n",
        "x == y * (x//y) +(x%y)"
      ],
      "metadata": {
        "colab": {
          "base_uri": "https://localhost:8080/"
        },
        "id": "oS-anCwk_zcG",
        "outputId": "ea88f149-e03c-45ff-9135-d412e81547c8"
      },
      "execution_count": 209,
      "outputs": [
        {
          "output_type": "stream",
          "name": "stdout",
          "text": [
            "-3 -1\n",
            "(Decimal('-3'), Decimal('-1'))\n"
          ]
        },
        {
          "output_type": "execute_result",
          "data": {
            "text/plain": [
              "True"
            ]
          },
          "metadata": {},
          "execution_count": 209
        }
      ]
    },
    {
      "cell_type": "code",
      "source": [
        "help(Decimal)"
      ],
      "metadata": {
        "colab": {
          "base_uri": "https://localhost:8080/"
        },
        "id": "sjws1pvH_5qE",
        "outputId": "ff0aec40-a2f4-4a7a-aa77-3ef88f939222"
      },
      "execution_count": 210,
      "outputs": [
        {
          "output_type": "stream",
          "name": "stdout",
          "text": [
            "Help on class Decimal in module decimal:\n",
            "\n",
            "class Decimal(builtins.object)\n",
            " |  Decimal(value='0', context=None)\n",
            " |  \n",
            " |  Construct a new Decimal object. 'value' can be an integer, string, tuple,\n",
            " |  or another Decimal object. If no value is given, return Decimal('0'). The\n",
            " |  context does not affect the conversion and is only passed to determine if\n",
            " |  the InvalidOperation trap is active.\n",
            " |  \n",
            " |  Methods defined here:\n",
            " |  \n",
            " |  __abs__(self, /)\n",
            " |      abs(self)\n",
            " |  \n",
            " |  __add__(self, value, /)\n",
            " |      Return self+value.\n",
            " |  \n",
            " |  __bool__(self, /)\n",
            " |      self != 0\n",
            " |  \n",
            " |  __ceil__(...)\n",
            " |  \n",
            " |  __complex__(...)\n",
            " |  \n",
            " |  __copy__(...)\n",
            " |  \n",
            " |  __deepcopy__(...)\n",
            " |  \n",
            " |  __divmod__(self, value, /)\n",
            " |      Return divmod(self, value).\n",
            " |  \n",
            " |  __eq__(self, value, /)\n",
            " |      Return self==value.\n",
            " |  \n",
            " |  __float__(self, /)\n",
            " |      float(self)\n",
            " |  \n",
            " |  __floor__(...)\n",
            " |  \n",
            " |  __floordiv__(self, value, /)\n",
            " |      Return self//value.\n",
            " |  \n",
            " |  __format__(...)\n",
            " |      Default object formatter.\n",
            " |  \n",
            " |  __ge__(self, value, /)\n",
            " |      Return self>=value.\n",
            " |  \n",
            " |  __getattribute__(self, name, /)\n",
            " |      Return getattr(self, name).\n",
            " |  \n",
            " |  __gt__(self, value, /)\n",
            " |      Return self>value.\n",
            " |  \n",
            " |  __hash__(self, /)\n",
            " |      Return hash(self).\n",
            " |  \n",
            " |  __int__(self, /)\n",
            " |      int(self)\n",
            " |  \n",
            " |  __le__(self, value, /)\n",
            " |      Return self<=value.\n",
            " |  \n",
            " |  __lt__(self, value, /)\n",
            " |      Return self<value.\n",
            " |  \n",
            " |  __mod__(self, value, /)\n",
            " |      Return self%value.\n",
            " |  \n",
            " |  __mul__(self, value, /)\n",
            " |      Return self*value.\n",
            " |  \n",
            " |  __ne__(self, value, /)\n",
            " |      Return self!=value.\n",
            " |  \n",
            " |  __neg__(self, /)\n",
            " |      -self\n",
            " |  \n",
            " |  __pos__(self, /)\n",
            " |      +self\n",
            " |  \n",
            " |  __pow__(self, value, mod=None, /)\n",
            " |      Return pow(self, value, mod).\n",
            " |  \n",
            " |  __radd__(self, value, /)\n",
            " |      Return value+self.\n",
            " |  \n",
            " |  __rdivmod__(self, value, /)\n",
            " |      Return divmod(value, self).\n",
            " |  \n",
            " |  __reduce__(...)\n",
            " |      Helper for pickle.\n",
            " |  \n",
            " |  __repr__(self, /)\n",
            " |      Return repr(self).\n",
            " |  \n",
            " |  __rfloordiv__(self, value, /)\n",
            " |      Return value//self.\n",
            " |  \n",
            " |  __rmod__(self, value, /)\n",
            " |      Return value%self.\n",
            " |  \n",
            " |  __rmul__(self, value, /)\n",
            " |      Return value*self.\n",
            " |  \n",
            " |  __round__(...)\n",
            " |  \n",
            " |  __rpow__(self, value, mod=None, /)\n",
            " |      Return pow(value, self, mod).\n",
            " |  \n",
            " |  __rsub__(self, value, /)\n",
            " |      Return value-self.\n",
            " |  \n",
            " |  __rtruediv__(self, value, /)\n",
            " |      Return value/self.\n",
            " |  \n",
            " |  __sizeof__(...)\n",
            " |      Size of object in memory, in bytes.\n",
            " |  \n",
            " |  __str__(self, /)\n",
            " |      Return str(self).\n",
            " |  \n",
            " |  __sub__(self, value, /)\n",
            " |      Return self-value.\n",
            " |  \n",
            " |  __truediv__(self, value, /)\n",
            " |      Return self/value.\n",
            " |  \n",
            " |  __trunc__(...)\n",
            " |  \n",
            " |  adjusted(self, /)\n",
            " |      Return the adjusted exponent of the number.  Defined as exp + digits - 1.\n",
            " |  \n",
            " |  as_integer_ratio(self, /)\n",
            " |      Decimal.as_integer_ratio() -> (int, int)\n",
            " |      \n",
            " |      Return a pair of integers, whose ratio is exactly equal to the original\n",
            " |      Decimal and with a positive denominator. The ratio is in lowest terms.\n",
            " |      Raise OverflowError on infinities and a ValueError on NaNs.\n",
            " |  \n",
            " |  as_tuple(self, /)\n",
            " |      Return a tuple representation of the number.\n",
            " |  \n",
            " |  canonical(self, /)\n",
            " |      Return the canonical encoding of the argument.  Currently, the encoding\n",
            " |      of a Decimal instance is always canonical, so this operation returns its\n",
            " |      argument unchanged.\n",
            " |  \n",
            " |  compare(self, /, other, context=None)\n",
            " |      Compare self to other.  Return a decimal value:\n",
            " |      \n",
            " |      a or b is a NaN ==> Decimal('NaN')\n",
            " |      a < b           ==> Decimal('-1')\n",
            " |      a == b          ==> Decimal('0')\n",
            " |      a > b           ==> Decimal('1')\n",
            " |  \n",
            " |  compare_signal(self, /, other, context=None)\n",
            " |      Identical to compare, except that all NaNs signal.\n",
            " |  \n",
            " |  compare_total(self, /, other, context=None)\n",
            " |      Compare two operands using their abstract representation rather than\n",
            " |      their numerical value.  Similar to the compare() method, but the result\n",
            " |      gives a total ordering on Decimal instances.  Two Decimal instances with\n",
            " |      the same numeric value but different representations compare unequal\n",
            " |      in this ordering:\n",
            " |      \n",
            " |          >>> Decimal('12.0').compare_total(Decimal('12'))\n",
            " |          Decimal('-1')\n",
            " |      \n",
            " |      Quiet and signaling NaNs are also included in the total ordering. The result\n",
            " |      of this function is Decimal('0') if both operands have the same representation,\n",
            " |      Decimal('-1') if the first operand is lower in the total order than the second,\n",
            " |      and Decimal('1') if the first operand is higher in the total order than the\n",
            " |      second operand. See the specification for details of the total order.\n",
            " |      \n",
            " |      This operation is unaffected by context and is quiet: no flags are changed\n",
            " |      and no rounding is performed. As an exception, the C version may raise\n",
            " |      InvalidOperation if the second operand cannot be converted exactly.\n",
            " |  \n",
            " |  compare_total_mag(self, /, other, context=None)\n",
            " |      Compare two operands using their abstract representation rather than their\n",
            " |      value as in compare_total(), but ignoring the sign of each operand.\n",
            " |      \n",
            " |      x.compare_total_mag(y) is equivalent to x.copy_abs().compare_total(y.copy_abs()).\n",
            " |      \n",
            " |      This operation is unaffected by context and is quiet: no flags are changed\n",
            " |      and no rounding is performed. As an exception, the C version may raise\n",
            " |      InvalidOperation if the second operand cannot be converted exactly.\n",
            " |  \n",
            " |  conjugate(self, /)\n",
            " |      Return self.\n",
            " |  \n",
            " |  copy_abs(self, /)\n",
            " |      Return the absolute value of the argument.  This operation is unaffected by\n",
            " |      context and is quiet: no flags are changed and no rounding is performed.\n",
            " |  \n",
            " |  copy_negate(self, /)\n",
            " |      Return the negation of the argument.  This operation is unaffected by context\n",
            " |      and is quiet: no flags are changed and no rounding is performed.\n",
            " |  \n",
            " |  copy_sign(self, /, other, context=None)\n",
            " |      Return a copy of the first operand with the sign set to be the same as the\n",
            " |      sign of the second operand. For example:\n",
            " |      \n",
            " |          >>> Decimal('2.3').copy_sign(Decimal('-1.5'))\n",
            " |          Decimal('-2.3')\n",
            " |      \n",
            " |      This operation is unaffected by context and is quiet: no flags are changed\n",
            " |      and no rounding is performed. As an exception, the C version may raise\n",
            " |      InvalidOperation if the second operand cannot be converted exactly.\n",
            " |  \n",
            " |  exp(self, /, context=None)\n",
            " |      Return the value of the (natural) exponential function e**x at the given\n",
            " |      number.  The function always uses the ROUND_HALF_EVEN mode and the result\n",
            " |      is correctly rounded.\n",
            " |  \n",
            " |  fma(self, /, other, third, context=None)\n",
            " |      Fused multiply-add.  Return self*other+third with no rounding of the\n",
            " |      intermediate product self*other.\n",
            " |      \n",
            " |          >>> Decimal(2).fma(3, 5)\n",
            " |          Decimal('11')\n",
            " |  \n",
            " |  is_canonical(self, /)\n",
            " |      Return True if the argument is canonical and False otherwise.  Currently,\n",
            " |      a Decimal instance is always canonical, so this operation always returns\n",
            " |      True.\n",
            " |  \n",
            " |  is_finite(self, /)\n",
            " |      Return True if the argument is a finite number, and False if the argument\n",
            " |      is infinite or a NaN.\n",
            " |  \n",
            " |  is_infinite(self, /)\n",
            " |      Return True if the argument is either positive or negative infinity and\n",
            " |      False otherwise.\n",
            " |  \n",
            " |  is_nan(self, /)\n",
            " |      Return True if the argument is a (quiet or signaling) NaN and False\n",
            " |      otherwise.\n",
            " |  \n",
            " |  is_normal(self, /, context=None)\n",
            " |      Return True if the argument is a normal finite non-zero number with an\n",
            " |      adjusted exponent greater than or equal to Emin. Return False if the\n",
            " |      argument is zero, subnormal, infinite or a NaN.\n",
            " |  \n",
            " |  is_qnan(self, /)\n",
            " |      Return True if the argument is a quiet NaN, and False otherwise.\n",
            " |  \n",
            " |  is_signed(self, /)\n",
            " |      Return True if the argument has a negative sign and False otherwise.\n",
            " |      Note that both zeros and NaNs can carry signs.\n",
            " |  \n",
            " |  is_snan(self, /)\n",
            " |      Return True if the argument is a signaling NaN and False otherwise.\n",
            " |  \n",
            " |  is_subnormal(self, /, context=None)\n",
            " |      Return True if the argument is subnormal, and False otherwise. A number is\n",
            " |      subnormal if it is non-zero, finite, and has an adjusted exponent less\n",
            " |      than Emin.\n",
            " |  \n",
            " |  is_zero(self, /)\n",
            " |      Return True if the argument is a (positive or negative) zero and False\n",
            " |      otherwise.\n",
            " |  \n",
            " |  ln(self, /, context=None)\n",
            " |      Return the natural (base e) logarithm of the operand. The function always\n",
            " |      uses the ROUND_HALF_EVEN mode and the result is correctly rounded.\n",
            " |  \n",
            " |  log10(self, /, context=None)\n",
            " |      Return the base ten logarithm of the operand. The function always uses the\n",
            " |      ROUND_HALF_EVEN mode and the result is correctly rounded.\n",
            " |  \n",
            " |  logb(self, /, context=None)\n",
            " |      For a non-zero number, return the adjusted exponent of the operand as a\n",
            " |      Decimal instance.  If the operand is a zero, then Decimal('-Infinity') is\n",
            " |      returned and the DivisionByZero condition is raised. If the operand is\n",
            " |      an infinity then Decimal('Infinity') is returned.\n",
            " |  \n",
            " |  logical_and(self, /, other, context=None)\n",
            " |      Return the digit-wise 'and' of the two (logical) operands.\n",
            " |  \n",
            " |  logical_invert(self, /, context=None)\n",
            " |      Return the digit-wise inversion of the (logical) operand.\n",
            " |  \n",
            " |  logical_or(self, /, other, context=None)\n",
            " |      Return the digit-wise 'or' of the two (logical) operands.\n",
            " |  \n",
            " |  logical_xor(self, /, other, context=None)\n",
            " |      Return the digit-wise 'exclusive or' of the two (logical) operands.\n",
            " |  \n",
            " |  max(self, /, other, context=None)\n",
            " |      Maximum of self and other.  If one operand is a quiet NaN and the other is\n",
            " |      numeric, the numeric operand is returned.\n",
            " |  \n",
            " |  max_mag(self, /, other, context=None)\n",
            " |      Similar to the max() method, but the comparison is done using the absolute\n",
            " |      values of the operands.\n",
            " |  \n",
            " |  min(self, /, other, context=None)\n",
            " |      Minimum of self and other. If one operand is a quiet NaN and the other is\n",
            " |      numeric, the numeric operand is returned.\n",
            " |  \n",
            " |  min_mag(self, /, other, context=None)\n",
            " |      Similar to the min() method, but the comparison is done using the absolute\n",
            " |      values of the operands.\n",
            " |  \n",
            " |  next_minus(self, /, context=None)\n",
            " |      Return the largest number representable in the given context (or in the\n",
            " |      current default context if no context is given) that is smaller than the\n",
            " |      given operand.\n",
            " |  \n",
            " |  next_plus(self, /, context=None)\n",
            " |      Return the smallest number representable in the given context (or in the\n",
            " |      current default context if no context is given) that is larger than the\n",
            " |      given operand.\n",
            " |  \n",
            " |  next_toward(self, /, other, context=None)\n",
            " |      If the two operands are unequal, return the number closest to the first\n",
            " |      operand in the direction of the second operand.  If both operands are\n",
            " |      numerically equal, return a copy of the first operand with the sign set\n",
            " |      to be the same as the sign of the second operand.\n",
            " |  \n",
            " |  normalize(self, /, context=None)\n",
            " |      Normalize the number by stripping the rightmost trailing zeros and\n",
            " |      converting any result equal to Decimal('0') to Decimal('0e0').  Used\n",
            " |      for producing canonical values for members of an equivalence class.\n",
            " |      For example, Decimal('32.100') and Decimal('0.321000e+2') both normalize\n",
            " |      to the equivalent value Decimal('32.1').\n",
            " |  \n",
            " |  number_class(self, /, context=None)\n",
            " |      Return a string describing the class of the operand.  The returned value\n",
            " |      is one of the following ten strings:\n",
            " |      \n",
            " |          * '-Infinity', indicating that the operand is negative infinity.\n",
            " |          * '-Normal', indicating that the operand is a negative normal number.\n",
            " |          * '-Subnormal', indicating that the operand is negative and subnormal.\n",
            " |          * '-Zero', indicating that the operand is a negative zero.\n",
            " |          * '+Zero', indicating that the operand is a positive zero.\n",
            " |          * '+Subnormal', indicating that the operand is positive and subnormal.\n",
            " |          * '+Normal', indicating that the operand is a positive normal number.\n",
            " |          * '+Infinity', indicating that the operand is positive infinity.\n",
            " |          * 'NaN', indicating that the operand is a quiet NaN (Not a Number).\n",
            " |          * 'sNaN', indicating that the operand is a signaling NaN.\n",
            " |  \n",
            " |  quantize(self, /, exp, rounding=None, context=None)\n",
            " |      Return a value equal to the first operand after rounding and having the\n",
            " |      exponent of the second operand.\n",
            " |      \n",
            " |          >>> Decimal('1.41421356').quantize(Decimal('1.000'))\n",
            " |          Decimal('1.414')\n",
            " |      \n",
            " |      Unlike other operations, if the length of the coefficient after the quantize\n",
            " |      operation would be greater than precision, then an InvalidOperation is signaled.\n",
            " |      This guarantees that, unless there is an error condition, the quantized exponent\n",
            " |      is always equal to that of the right-hand operand.\n",
            " |      \n",
            " |      Also unlike other operations, quantize never signals Underflow, even if the\n",
            " |      result is subnormal and inexact.\n",
            " |      \n",
            " |      If the exponent of the second operand is larger than that of the first, then\n",
            " |      rounding may be necessary. In this case, the rounding mode is determined by the\n",
            " |      rounding argument if given, else by the given context argument; if neither\n",
            " |      argument is given, the rounding mode of the current thread's context is used.\n",
            " |  \n",
            " |  radix(self, /)\n",
            " |      Return Decimal(10), the radix (base) in which the Decimal class does\n",
            " |      all its arithmetic. Included for compatibility with the specification.\n",
            " |  \n",
            " |  remainder_near(self, /, other, context=None)\n",
            " |      Return the remainder from dividing self by other.  This differs from\n",
            " |      self % other in that the sign of the remainder is chosen so as to minimize\n",
            " |      its absolute value. More precisely, the return value is self - n * other\n",
            " |      where n is the integer nearest to the exact value of self / other, and\n",
            " |      if two integers are equally near then the even one is chosen.\n",
            " |      \n",
            " |      If the result is zero then its sign will be the sign of self.\n",
            " |  \n",
            " |  rotate(self, /, other, context=None)\n",
            " |      Return the result of rotating the digits of the first operand by an amount\n",
            " |      specified by the second operand.  The second operand must be an integer in\n",
            " |      the range -precision through precision. The absolute value of the second\n",
            " |      operand gives the number of places to rotate. If the second operand is\n",
            " |      positive then rotation is to the left; otherwise rotation is to the right.\n",
            " |      The coefficient of the first operand is padded on the left with zeros to\n",
            " |      length precision if necessary. The sign and exponent of the first operand are\n",
            " |      unchanged.\n",
            " |  \n",
            " |  same_quantum(self, /, other, context=None)\n",
            " |      Test whether self and other have the same exponent or whether both are NaN.\n",
            " |      \n",
            " |      This operation is unaffected by context and is quiet: no flags are changed\n",
            " |      and no rounding is performed. As an exception, the C version may raise\n",
            " |      InvalidOperation if the second operand cannot be converted exactly.\n",
            " |  \n",
            " |  scaleb(self, /, other, context=None)\n",
            " |      Return the first operand with the exponent adjusted the second.  Equivalently,\n",
            " |      return the first operand multiplied by 10**other. The second operand must be\n",
            " |      an integer.\n",
            " |  \n",
            " |  shift(self, /, other, context=None)\n",
            " |      Return the result of shifting the digits of the first operand by an amount\n",
            " |      specified by the second operand.  The second operand must be an integer in\n",
            " |      the range -precision through precision. The absolute value of the second\n",
            " |      operand gives the number of places to shift. If the second operand is\n",
            " |      positive, then the shift is to the left; otherwise the shift is to the\n",
            " |      right. Digits shifted into the coefficient are zeros. The sign and exponent\n",
            " |      of the first operand are unchanged.\n",
            " |  \n",
            " |  sqrt(self, /, context=None)\n",
            " |      Return the square root of the argument to full precision. The result is\n",
            " |      correctly rounded using the ROUND_HALF_EVEN rounding mode.\n",
            " |  \n",
            " |  to_eng_string(self, /, context=None)\n",
            " |      Convert to an engineering-type string.  Engineering notation has an exponent\n",
            " |      which is a multiple of 3, so there are up to 3 digits left of the decimal\n",
            " |      place. For example, Decimal('123E+1') is converted to Decimal('1.23E+3').\n",
            " |      \n",
            " |      The value of context.capitals determines whether the exponent sign is lower\n",
            " |      or upper case. Otherwise, the context does not affect the operation.\n",
            " |  \n",
            " |  to_integral(self, /, rounding=None, context=None)\n",
            " |      Identical to the to_integral_value() method.  The to_integral() name has been\n",
            " |      kept for compatibility with older versions.\n",
            " |  \n",
            " |  to_integral_exact(self, /, rounding=None, context=None)\n",
            " |      Round to the nearest integer, signaling Inexact or Rounded as appropriate if\n",
            " |      rounding occurs.  The rounding mode is determined by the rounding parameter\n",
            " |      if given, else by the given context. If neither parameter is given, then the\n",
            " |      rounding mode of the current default context is used.\n",
            " |  \n",
            " |  to_integral_value(self, /, rounding=None, context=None)\n",
            " |      Round to the nearest integer without signaling Inexact or Rounded.  The\n",
            " |      rounding mode is determined by the rounding parameter if given, else by\n",
            " |      the given context. If neither parameter is given, then the rounding mode\n",
            " |      of the current default context is used.\n",
            " |  \n",
            " |  ----------------------------------------------------------------------\n",
            " |  Class methods defined here:\n",
            " |  \n",
            " |  from_float(f, /) from builtins.type\n",
            " |      Class method that converts a float to a decimal number, exactly.\n",
            " |      Since 0.1 is not exactly representable in binary floating point,\n",
            " |      Decimal.from_float(0.1) is not the same as Decimal('0.1').\n",
            " |      \n",
            " |          >>> Decimal.from_float(0.1)\n",
            " |          Decimal('0.1000000000000000055511151231257827021181583404541015625')\n",
            " |          >>> Decimal.from_float(float('nan'))\n",
            " |          Decimal('NaN')\n",
            " |          >>> Decimal.from_float(float('inf'))\n",
            " |          Decimal('Infinity')\n",
            " |          >>> Decimal.from_float(float('-inf'))\n",
            " |          Decimal('-Infinity')\n",
            " |  \n",
            " |  ----------------------------------------------------------------------\n",
            " |  Static methods defined here:\n",
            " |  \n",
            " |  __new__(*args, **kwargs) from builtins.type\n",
            " |      Create and return a new object.  See help(type) for accurate signature.\n",
            " |  \n",
            " |  ----------------------------------------------------------------------\n",
            " |  Data descriptors defined here:\n",
            " |  \n",
            " |  imag\n",
            " |  \n",
            " |  real\n",
            "\n"
          ]
        }
      ]
    },
    {
      "cell_type": "code",
      "source": [
        "a = Decimal('1.5')\n",
        "print(a.ln())"
      ],
      "metadata": {
        "colab": {
          "base_uri": "https://localhost:8080/"
        },
        "id": "ELKmdplW__3s",
        "outputId": "a03f47a4-7fb8-441e-8a52-901aa6e4987b"
      },
      "execution_count": 211,
      "outputs": [
        {
          "output_type": "stream",
          "name": "stdout",
          "text": [
            "0.4054651081081643819780131155\n"
          ]
        }
      ]
    },
    {
      "cell_type": "code",
      "source": [
        "print(a.exp())"
      ],
      "metadata": {
        "colab": {
          "base_uri": "https://localhost:8080/"
        },
        "id": "b48WBhebAkS5",
        "outputId": "2b5e84b5-110f-4301-8b2d-eb40aa41415a"
      },
      "execution_count": 212,
      "outputs": [
        {
          "output_type": "stream",
          "name": "stdout",
          "text": [
            "4.481689070338064822602055460\n"
          ]
        }
      ]
    },
    {
      "cell_type": "code",
      "source": [
        "print(a.sqrt())"
      ],
      "metadata": {
        "colab": {
          "base_uri": "https://localhost:8080/"
        },
        "id": "N2v2Jnk9An9B",
        "outputId": "57569ec7-1138-44d1-dd92-20e22daa0980"
      },
      "execution_count": 213,
      "outputs": [
        {
          "output_type": "stream",
          "name": "stdout",
          "text": [
            "1.224744871391589049098642037\n"
          ]
        }
      ]
    },
    {
      "cell_type": "code",
      "source": [
        "import math"
      ],
      "metadata": {
        "id": "Kf61GW53AqG4"
      },
      "execution_count": 214,
      "outputs": []
    },
    {
      "cell_type": "code",
      "source": [
        "math.sqrt(a)"
      ],
      "metadata": {
        "colab": {
          "base_uri": "https://localhost:8080/"
        },
        "id": "eNE6ptQYAv-s",
        "outputId": "4691084f-1d72-4fb5-8d8a-1f72ee15f3a6"
      },
      "execution_count": 215,
      "outputs": [
        {
          "output_type": "execute_result",
          "data": {
            "text/plain": [
              "1.224744871391589"
            ]
          },
          "metadata": {},
          "execution_count": 215
        }
      ]
    },
    {
      "cell_type": "code",
      "source": [
        "x = 0.01\n",
        "x_dec = Decimal('0.01')"
      ],
      "metadata": {
        "id": "_BnoI5Y6AyLp"
      },
      "execution_count": 224,
      "outputs": []
    },
    {
      "cell_type": "code",
      "source": [
        "root_float = math.sqrt(x)\n",
        "root_mixed = math.sqrt(x_dec)\n",
        "root_dec = x_dec.sqrt()"
      ],
      "metadata": {
        "id": "XOWbiXZ3BDyC"
      },
      "execution_count": 225,
      "outputs": []
    },
    {
      "cell_type": "code",
      "source": [
        "print(format(root_float * root_float, '1.27f'))\n",
        "print(format(root_mixed * root_mixed, '1.27f'))\n",
        "print(root_dec * root_dec)"
      ],
      "metadata": {
        "colab": {
          "base_uri": "https://localhost:8080/"
        },
        "id": "f5ES8Q1oBO_M",
        "outputId": "f3029116-9c77-4d26-a1f6-8961df0135ea"
      },
      "execution_count": 226,
      "outputs": [
        {
          "output_type": "stream",
          "name": "stdout",
          "text": [
            "0.010000000000000001942890293\n",
            "0.010000000000000001942890293\n",
            "0.01\n"
          ]
        }
      ]
    },
    {
      "cell_type": "code",
      "source": [
        "import sys"
      ],
      "metadata": {
        "id": "hS8I8pDqBbtx"
      },
      "execution_count": 227,
      "outputs": []
    },
    {
      "cell_type": "code",
      "source": [
        "a = 3.1415\n",
        "b = Decimal('3.1415')"
      ],
      "metadata": {
        "id": "NIUW_0i6DN3l"
      },
      "execution_count": 228,
      "outputs": []
    },
    {
      "cell_type": "code",
      "source": [
        "sys.getsizeof(a)"
      ],
      "metadata": {
        "colab": {
          "base_uri": "https://localhost:8080/"
        },
        "id": "-CUdPnfCDSxK",
        "outputId": "3013e75c-e8e1-46fe-f034-1c9ad1bd2bfa"
      },
      "execution_count": 229,
      "outputs": [
        {
          "output_type": "execute_result",
          "data": {
            "text/plain": [
              "24"
            ]
          },
          "metadata": {},
          "execution_count": 229
        }
      ]
    },
    {
      "cell_type": "code",
      "source": [
        "sys.getsizeof(b)"
      ],
      "metadata": {
        "colab": {
          "base_uri": "https://localhost:8080/"
        },
        "id": "QngdhsUUDVr2",
        "outputId": "ab7ef3d2-7cc9-4add-fc99-6efc2d6eda83"
      },
      "execution_count": 230,
      "outputs": [
        {
          "output_type": "execute_result",
          "data": {
            "text/plain": [
              "104"
            ]
          },
          "metadata": {},
          "execution_count": 230
        }
      ]
    },
    {
      "cell_type": "code",
      "source": [
        "import time"
      ],
      "metadata": {
        "id": "6wMwXF2DDZU5"
      },
      "execution_count": 231,
      "outputs": []
    },
    {
      "cell_type": "code",
      "source": [
        "def run_float(n=1):\n",
        "    for i in range(n):\n",
        "        a = 3.1415\n",
        "\n",
        "def run_decimal(n=1):\n",
        "    for i in range(n):\n",
        "        a = Decimal('3.1415')"
      ],
      "metadata": {
        "id": "ERauzcH0DhfY"
      },
      "execution_count": 232,
      "outputs": []
    },
    {
      "cell_type": "code",
      "source": [
        "n = 10000000"
      ],
      "metadata": {
        "id": "I1Fd8zkYD1vj"
      },
      "execution_count": 233,
      "outputs": []
    },
    {
      "cell_type": "code",
      "source": [
        "start = time.perf_counter()\n",
        "run_float(n)\n",
        "end = time.perf_counter()\n",
        "print('float', end-start)"
      ],
      "metadata": {
        "colab": {
          "base_uri": "https://localhost:8080/"
        },
        "id": "IKCkBqiyD3JN",
        "outputId": "7427f48d-6412-474b-808b-ba435bcc8cc0"
      },
      "execution_count": 234,
      "outputs": [
        {
          "output_type": "stream",
          "name": "stdout",
          "text": [
            "float 0.3850372899996728\n"
          ]
        }
      ]
    },
    {
      "cell_type": "code",
      "source": [
        "start = time.perf_counter()\n",
        "run_decimal(n)\n",
        "end = time.perf_counter()\n",
        "print('Decimal', end-start)"
      ],
      "metadata": {
        "colab": {
          "base_uri": "https://localhost:8080/"
        },
        "id": "b7ab6nVsEGAM",
        "outputId": "439bed62-e1f4-495f-eac7-611bd5dea2c8"
      },
      "execution_count": 235,
      "outputs": [
        {
          "output_type": "stream",
          "name": "stdout",
          "text": [
            "Decimal 3.9579528009999194\n"
          ]
        }
      ]
    },
    {
      "cell_type": "code",
      "source": [
        "def run_float(n=1):\n",
        "    a = 3.1415\n",
        "    for i in range(n):\n",
        "        a + a\n",
        "\n",
        "def run_decimal(n=1):\n",
        "    a = Decimal('3.1415')\n",
        "    for i in range(n):\n",
        "        a + a\n",
        "        "
      ],
      "metadata": {
        "id": "7bBMzP6-ENXS"
      },
      "execution_count": 237,
      "outputs": []
    },
    {
      "cell_type": "code",
      "source": [
        "start = time.perf_counter()\n",
        "run_float(n)\n",
        "end = time.perf_counter()\n",
        "print('float', end-start)"
      ],
      "metadata": {
        "colab": {
          "base_uri": "https://localhost:8080/"
        },
        "id": "q2NoRbfNEUNH",
        "outputId": "038a6af8-cc4d-42d3-e4fe-578c18a3887d"
      },
      "execution_count": 238,
      "outputs": [
        {
          "output_type": "stream",
          "name": "stdout",
          "text": [
            "float 0.9084957790000772\n"
          ]
        }
      ]
    },
    {
      "cell_type": "code",
      "source": [
        "start = time.perf_counter()\n",
        "run_decimal(n)\n",
        "end = time.perf_counter()\n",
        "print('Decimal', end-start)"
      ],
      "metadata": {
        "colab": {
          "base_uri": "https://localhost:8080/"
        },
        "id": "nyaFSgcIEhDT",
        "outputId": "72757162-01dd-4286-d300-86a3285bd8f4"
      },
      "execution_count": 239,
      "outputs": [
        {
          "output_type": "stream",
          "name": "stdout",
          "text": [
            "Decimal 1.1820315089998985\n"
          ]
        }
      ]
    },
    {
      "cell_type": "code",
      "source": [
        "help(complex)"
      ],
      "metadata": {
        "colab": {
          "base_uri": "https://localhost:8080/"
        },
        "id": "7DjT8TRDEjES",
        "outputId": "df626671-4488-4e7e-a040-cce900c8fbce"
      },
      "execution_count": 240,
      "outputs": [
        {
          "output_type": "stream",
          "name": "stdout",
          "text": [
            "Help on class complex in module builtins:\n",
            "\n",
            "class complex(object)\n",
            " |  complex(real=0, imag=0)\n",
            " |  \n",
            " |  Create a complex number from a real part and an optional imaginary part.\n",
            " |  \n",
            " |  This is equivalent to (real + imag*1j) where imag defaults to 0.\n",
            " |  \n",
            " |  Methods defined here:\n",
            " |  \n",
            " |  __abs__(self, /)\n",
            " |      abs(self)\n",
            " |  \n",
            " |  __add__(self, value, /)\n",
            " |      Return self+value.\n",
            " |  \n",
            " |  __bool__(self, /)\n",
            " |      self != 0\n",
            " |  \n",
            " |  __divmod__(self, value, /)\n",
            " |      Return divmod(self, value).\n",
            " |  \n",
            " |  __eq__(self, value, /)\n",
            " |      Return self==value.\n",
            " |  \n",
            " |  __float__(self, /)\n",
            " |      float(self)\n",
            " |  \n",
            " |  __floordiv__(self, value, /)\n",
            " |      Return self//value.\n",
            " |  \n",
            " |  __format__(...)\n",
            " |      complex.__format__() -> str\n",
            " |      \n",
            " |      Convert to a string according to format_spec.\n",
            " |  \n",
            " |  __ge__(self, value, /)\n",
            " |      Return self>=value.\n",
            " |  \n",
            " |  __getattribute__(self, name, /)\n",
            " |      Return getattr(self, name).\n",
            " |  \n",
            " |  __getnewargs__(...)\n",
            " |  \n",
            " |  __gt__(self, value, /)\n",
            " |      Return self>value.\n",
            " |  \n",
            " |  __hash__(self, /)\n",
            " |      Return hash(self).\n",
            " |  \n",
            " |  __int__(self, /)\n",
            " |      int(self)\n",
            " |  \n",
            " |  __le__(self, value, /)\n",
            " |      Return self<=value.\n",
            " |  \n",
            " |  __lt__(self, value, /)\n",
            " |      Return self<value.\n",
            " |  \n",
            " |  __mod__(self, value, /)\n",
            " |      Return self%value.\n",
            " |  \n",
            " |  __mul__(self, value, /)\n",
            " |      Return self*value.\n",
            " |  \n",
            " |  __ne__(self, value, /)\n",
            " |      Return self!=value.\n",
            " |  \n",
            " |  __neg__(self, /)\n",
            " |      -self\n",
            " |  \n",
            " |  __pos__(self, /)\n",
            " |      +self\n",
            " |  \n",
            " |  __pow__(self, value, mod=None, /)\n",
            " |      Return pow(self, value, mod).\n",
            " |  \n",
            " |  __radd__(self, value, /)\n",
            " |      Return value+self.\n",
            " |  \n",
            " |  __rdivmod__(self, value, /)\n",
            " |      Return divmod(value, self).\n",
            " |  \n",
            " |  __repr__(self, /)\n",
            " |      Return repr(self).\n",
            " |  \n",
            " |  __rfloordiv__(self, value, /)\n",
            " |      Return value//self.\n",
            " |  \n",
            " |  __rmod__(self, value, /)\n",
            " |      Return value%self.\n",
            " |  \n",
            " |  __rmul__(self, value, /)\n",
            " |      Return value*self.\n",
            " |  \n",
            " |  __rpow__(self, value, mod=None, /)\n",
            " |      Return pow(value, self, mod).\n",
            " |  \n",
            " |  __rsub__(self, value, /)\n",
            " |      Return value-self.\n",
            " |  \n",
            " |  __rtruediv__(self, value, /)\n",
            " |      Return value/self.\n",
            " |  \n",
            " |  __sub__(self, value, /)\n",
            " |      Return self-value.\n",
            " |  \n",
            " |  __truediv__(self, value, /)\n",
            " |      Return self/value.\n",
            " |  \n",
            " |  conjugate(...)\n",
            " |      complex.conjugate() -> complex\n",
            " |      \n",
            " |      Return the complex conjugate of its argument. (3-4j).conjugate() == 3+4j.\n",
            " |  \n",
            " |  ----------------------------------------------------------------------\n",
            " |  Static methods defined here:\n",
            " |  \n",
            " |  __new__(*args, **kwargs) from builtins.type\n",
            " |      Create and return a new object.  See help(type) for accurate signature.\n",
            " |  \n",
            " |  ----------------------------------------------------------------------\n",
            " |  Data descriptors defined here:\n",
            " |  \n",
            " |  imag\n",
            " |      the imaginary part of a complex number\n",
            " |  \n",
            " |  real\n",
            " |      the real part of a complex number\n",
            "\n"
          ]
        }
      ]
    },
    {
      "cell_type": "code",
      "source": [
        "a = complex(1, 2)"
      ],
      "metadata": {
        "id": "AUjsnIEFJ1r9"
      },
      "execution_count": 241,
      "outputs": []
    },
    {
      "cell_type": "code",
      "source": [
        "b = 1 + 2j"
      ],
      "metadata": {
        "id": "F4cbsQnhJ9zl"
      },
      "execution_count": 242,
      "outputs": []
    },
    {
      "cell_type": "code",
      "source": [
        "a == b"
      ],
      "metadata": {
        "colab": {
          "base_uri": "https://localhost:8080/"
        },
        "id": "7UussBnvKAPV",
        "outputId": "7dbc0255-79c8-468c-d1e5-d757296fd27c"
      },
      "execution_count": 243,
      "outputs": [
        {
          "output_type": "execute_result",
          "data": {
            "text/plain": [
              "True"
            ]
          },
          "metadata": {},
          "execution_count": 243
        }
      ]
    },
    {
      "cell_type": "code",
      "source": [
        "a.real"
      ],
      "metadata": {
        "colab": {
          "base_uri": "https://localhost:8080/"
        },
        "id": "9MkbcMlXKA96",
        "outputId": "085e46d5-a69c-427d-87ef-e1805e19dbc6"
      },
      "execution_count": 244,
      "outputs": [
        {
          "output_type": "execute_result",
          "data": {
            "text/plain": [
              "1.0"
            ]
          },
          "metadata": {},
          "execution_count": 244
        }
      ]
    },
    {
      "cell_type": "code",
      "source": [
        "type(a.real)"
      ],
      "metadata": {
        "colab": {
          "base_uri": "https://localhost:8080/"
        },
        "id": "Ox-u3sIlKDM0",
        "outputId": "c796a8ef-da0d-442c-b1d6-209e1916d79c"
      },
      "execution_count": 245,
      "outputs": [
        {
          "output_type": "execute_result",
          "data": {
            "text/plain": [
              "float"
            ]
          },
          "metadata": {},
          "execution_count": 245
        }
      ]
    },
    {
      "cell_type": "code",
      "source": [
        "a.imag, type(a.imag)"
      ],
      "metadata": {
        "colab": {
          "base_uri": "https://localhost:8080/"
        },
        "id": "nu3OnFOLKGik",
        "outputId": "0b80a124-de76-4059-ed9f-6441a4d70a1c"
      },
      "execution_count": 246,
      "outputs": [
        {
          "output_type": "execute_result",
          "data": {
            "text/plain": [
              "(2.0, float)"
            ]
          },
          "metadata": {},
          "execution_count": 246
        }
      ]
    },
    {
      "cell_type": "code",
      "source": [
        "a.conjugate()"
      ],
      "metadata": {
        "colab": {
          "base_uri": "https://localhost:8080/"
        },
        "id": "l4SAxqGcKNtB",
        "outputId": "6ced6e11-15fb-44c7-d8c1-ef7cc6de553e"
      },
      "execution_count": 247,
      "outputs": [
        {
          "output_type": "execute_result",
          "data": {
            "text/plain": [
              "(1-2j)"
            ]
          },
          "metadata": {},
          "execution_count": 247
        }
      ]
    },
    {
      "cell_type": "code",
      "source": [
        "d = a.conjugate()"
      ],
      "metadata": {
        "id": "lf34AtpQKRy7"
      },
      "execution_count": 248,
      "outputs": []
    },
    {
      "cell_type": "code",
      "source": [
        "d"
      ],
      "metadata": {
        "colab": {
          "base_uri": "https://localhost:8080/"
        },
        "id": "llsShSY0KVjt",
        "outputId": "d6fe2a40-60b6-45c7-f0b4-1776589296d3"
      },
      "execution_count": 249,
      "outputs": [
        {
          "output_type": "execute_result",
          "data": {
            "text/plain": [
              "(1-2j)"
            ]
          },
          "metadata": {},
          "execution_count": 249
        }
      ]
    },
    {
      "cell_type": "code",
      "source": [
        "a"
      ],
      "metadata": {
        "colab": {
          "base_uri": "https://localhost:8080/"
        },
        "id": "G0TSX3BRKV5k",
        "outputId": "0f7b884c-1f5b-45a8-c4bf-7328ef536c33"
      },
      "execution_count": 250,
      "outputs": [
        {
          "output_type": "execute_result",
          "data": {
            "text/plain": [
              "(1+2j)"
            ]
          },
          "metadata": {},
          "execution_count": 250
        }
      ]
    },
    {
      "cell_type": "code",
      "source": [
        "b = 10 + 8j"
      ],
      "metadata": {
        "id": "Us_jFofvKXec"
      },
      "execution_count": 251,
      "outputs": []
    },
    {
      "cell_type": "code",
      "source": [
        "a*b"
      ],
      "metadata": {
        "colab": {
          "base_uri": "https://localhost:8080/"
        },
        "id": "jPOtEzLnKbNh",
        "outputId": "2ad69310-9e68-4724-9f8a-72358fd0db9a"
      },
      "execution_count": 252,
      "outputs": [
        {
          "output_type": "execute_result",
          "data": {
            "text/plain": [
              "(-6+28j)"
            ]
          },
          "metadata": {},
          "execution_count": 252
        }
      ]
    },
    {
      "cell_type": "code",
      "source": [
        "a/b"
      ],
      "metadata": {
        "colab": {
          "base_uri": "https://localhost:8080/"
        },
        "id": "k_VyIEXRKb9B",
        "outputId": "62da6c24-f1c3-40c2-809d-59e6731dc19f"
      },
      "execution_count": 253,
      "outputs": [
        {
          "output_type": "execute_result",
          "data": {
            "text/plain": [
              "(0.1585365853658537+0.07317073170731708j)"
            ]
          },
          "metadata": {},
          "execution_count": 253
        }
      ]
    },
    {
      "cell_type": "code",
      "source": [
        "b/a"
      ],
      "metadata": {
        "colab": {
          "base_uri": "https://localhost:8080/"
        },
        "id": "1PJiHJKCKcmc",
        "outputId": "a8f4063b-3a9b-495a-b75a-95226b196715"
      },
      "execution_count": 254,
      "outputs": [
        {
          "output_type": "execute_result",
          "data": {
            "text/plain": [
              "(5.2-2.4j)"
            ]
          },
          "metadata": {},
          "execution_count": 254
        }
      ]
    },
    {
      "cell_type": "code",
      "source": [
        "a = 0.1j"
      ],
      "metadata": {
        "id": "uBfGYiD7Kei7"
      },
      "execution_count": 255,
      "outputs": []
    },
    {
      "cell_type": "code",
      "source": [
        "format(a.imag, '.25f')"
      ],
      "metadata": {
        "colab": {
          "base_uri": "https://localhost:8080/",
          "height": 35
        },
        "id": "UlMYrCJQKxng",
        "outputId": "ed4077bd-a4ec-4369-c60e-b8586a1fe315"
      },
      "execution_count": 256,
      "outputs": [
        {
          "output_type": "execute_result",
          "data": {
            "text/plain": [
              "'0.1000000000000000055511151'"
            ],
            "application/vnd.google.colaboratory.intrinsic+json": {
              "type": "string"
            }
          },
          "metadata": {},
          "execution_count": 256
        }
      ]
    },
    {
      "cell_type": "code",
      "source": [
        "a + a + a == 0.3j"
      ],
      "metadata": {
        "colab": {
          "base_uri": "https://localhost:8080/"
        },
        "id": "B9RO9ZxtK1mD",
        "outputId": "b178186f-4412-4f54-c1c0-03a352575181"
      },
      "execution_count": 257,
      "outputs": [
        {
          "output_type": "execute_result",
          "data": {
            "text/plain": [
              "False"
            ]
          },
          "metadata": {},
          "execution_count": 257
        }
      ]
    },
    {
      "cell_type": "code",
      "source": [
        "import math"
      ],
      "metadata": {
        "id": "RK8-WDItK6Vd"
      },
      "execution_count": 258,
      "outputs": []
    },
    {
      "cell_type": "code",
      "source": [
        "math.sqrt(2)"
      ],
      "metadata": {
        "colab": {
          "base_uri": "https://localhost:8080/"
        },
        "id": "Y--22_WELMBi",
        "outputId": "88f98d8d-c3d4-4ca2-bea3-29595fe4c342"
      },
      "execution_count": 259,
      "outputs": [
        {
          "output_type": "execute_result",
          "data": {
            "text/plain": [
              "1.4142135623730951"
            ]
          },
          "metadata": {},
          "execution_count": 259
        }
      ]
    },
    {
      "cell_type": "code",
      "source": [
        "math.pi"
      ],
      "metadata": {
        "colab": {
          "base_uri": "https://localhost:8080/"
        },
        "id": "kZu_05mOLNHc",
        "outputId": "ad7665e6-a8ac-4ae8-8921-5bbe72f11c0d"
      },
      "execution_count": 260,
      "outputs": [
        {
          "output_type": "execute_result",
          "data": {
            "text/plain": [
              "3.141592653589793"
            ]
          },
          "metadata": {},
          "execution_count": 260
        }
      ]
    },
    {
      "cell_type": "code",
      "source": [
        "import cmath"
      ],
      "metadata": {
        "id": "_f2kBC8iLQAB"
      },
      "execution_count": 261,
      "outputs": []
    },
    {
      "cell_type": "code",
      "source": [
        "cmath.pi"
      ],
      "metadata": {
        "colab": {
          "base_uri": "https://localhost:8080/"
        },
        "id": "l2Arobq4LRAH",
        "outputId": "5597ec12-5575-4cf4-e4a5-5bee30c10bad"
      },
      "execution_count": 262,
      "outputs": [
        {
          "output_type": "execute_result",
          "data": {
            "text/plain": [
              "3.141592653589793"
            ]
          },
          "metadata": {},
          "execution_count": 262
        }
      ]
    },
    {
      "cell_type": "code",
      "source": [
        "type(cmath.pi)"
      ],
      "metadata": {
        "colab": {
          "base_uri": "https://localhost:8080/"
        },
        "id": "3Vc-RE7kLVMn",
        "outputId": "36a781f7-3991-4a49-e4dc-ce01a4f3034a"
      },
      "execution_count": 263,
      "outputs": [
        {
          "output_type": "execute_result",
          "data": {
            "text/plain": [
              "float"
            ]
          },
          "metadata": {},
          "execution_count": 263
        }
      ]
    },
    {
      "cell_type": "code",
      "source": [
        "cmath.sqrt(a)"
      ],
      "metadata": {
        "colab": {
          "base_uri": "https://localhost:8080/"
        },
        "id": "DWwMajZkLXCC",
        "outputId": "525c94d4-52f0-407e-ef2f-d0f4bdae70a9"
      },
      "execution_count": 264,
      "outputs": [
        {
          "output_type": "execute_result",
          "data": {
            "text/plain": [
              "(0.22360679774997896+0.223606797749979j)"
            ]
          },
          "metadata": {},
          "execution_count": 264
        }
      ]
    },
    {
      "cell_type": "code",
      "source": [
        "cmath.phase(a)"
      ],
      "metadata": {
        "colab": {
          "base_uri": "https://localhost:8080/"
        },
        "id": "iiy94dpgLkkD",
        "outputId": "dc5ec137-9f72-4c88-90a7-97062bbc8357"
      },
      "execution_count": 265,
      "outputs": [
        {
          "output_type": "execute_result",
          "data": {
            "text/plain": [
              "1.5707963267948966"
            ]
          },
          "metadata": {},
          "execution_count": 265
        }
      ]
    },
    {
      "cell_type": "code",
      "source": [
        "abs(a)"
      ],
      "metadata": {
        "colab": {
          "base_uri": "https://localhost:8080/"
        },
        "id": "9y-74dR1MVBO",
        "outputId": "19e50286-963b-42f9-8e20-454fe75e124b"
      },
      "execution_count": 266,
      "outputs": [
        {
          "output_type": "execute_result",
          "data": {
            "text/plain": [
              "0.1"
            ]
          },
          "metadata": {},
          "execution_count": 266
        }
      ]
    },
    {
      "cell_type": "code",
      "source": [
        "cmath.rect(math.sqrt(2), math.pi/4)"
      ],
      "metadata": {
        "colab": {
          "base_uri": "https://localhost:8080/"
        },
        "id": "-u4X7qOZMagz",
        "outputId": "ef4a8a2f-fa8b-4d7a-b65e-34dd781f9b96"
      },
      "execution_count": 267,
      "outputs": [
        {
          "output_type": "execute_result",
          "data": {
            "text/plain": [
              "(1.0000000000000002+1j)"
            ]
          },
          "metadata": {},
          "execution_count": 267
        }
      ]
    },
    {
      "cell_type": "code",
      "source": [
        "RHS = cmath.exp(math.pi * 1j) + 1"
      ],
      "metadata": {
        "id": "1BSmlgSTMiNX"
      },
      "execution_count": 268,
      "outputs": []
    },
    {
      "cell_type": "code",
      "source": [
        "RHS"
      ],
      "metadata": {
        "colab": {
          "base_uri": "https://localhost:8080/"
        },
        "id": "vwoONGiHM73f",
        "outputId": "633ab797-9177-441d-8fbe-9a1f516aa049"
      },
      "execution_count": 269,
      "outputs": [
        {
          "output_type": "execute_result",
          "data": {
            "text/plain": [
              "1.2246467991473532e-16j"
            ]
          },
          "metadata": {},
          "execution_count": 269
        }
      ]
    },
    {
      "cell_type": "code",
      "source": [
        "abs(RHS)"
      ],
      "metadata": {
        "colab": {
          "base_uri": "https://localhost:8080/"
        },
        "id": "XfUbS5RjM8yj",
        "outputId": "ee2754ab-0952-48c3-d619-36082b205fb3"
      },
      "execution_count": 270,
      "outputs": [
        {
          "output_type": "execute_result",
          "data": {
            "text/plain": [
              "1.2246467991473532e-16"
            ]
          },
          "metadata": {},
          "execution_count": 270
        }
      ]
    },
    {
      "cell_type": "code",
      "source": [
        "cmath.isclose(RHS, 0, abs_tol=0.0001)"
      ],
      "metadata": {
        "colab": {
          "base_uri": "https://localhost:8080/"
        },
        "id": "h5DIiEXTNAML",
        "outputId": "57ded1c4-5d2f-4c25-9f2f-5164305c7361"
      },
      "execution_count": 273,
      "outputs": [
        {
          "output_type": "execute_result",
          "data": {
            "text/plain": [
              "True"
            ]
          },
          "metadata": {},
          "execution_count": 273
        }
      ]
    },
    {
      "cell_type": "code",
      "source": [
        "help(cmath.isclose)"
      ],
      "metadata": {
        "colab": {
          "base_uri": "https://localhost:8080/"
        },
        "id": "HxHU8RkXNGi5",
        "outputId": "6f0031fe-63cf-4986-8bea-2555455f1c74"
      },
      "execution_count": 272,
      "outputs": [
        {
          "output_type": "stream",
          "name": "stdout",
          "text": [
            "Help on built-in function isclose in module cmath:\n",
            "\n",
            "isclose(a, b, *, rel_tol=1e-09, abs_tol=0.0)\n",
            "    Determine whether two complex numbers are close in value.\n",
            "    \n",
            "      rel_tol\n",
            "        maximum difference for being considered \"close\", relative to the\n",
            "        magnitude of the input values\n",
            "      abs_tol\n",
            "        maximum difference for being considered \"close\", regardless of the\n",
            "        magnitude of the input values\n",
            "    \n",
            "    Return True if a is close in value to b, and False otherwise.\n",
            "    \n",
            "    For the values to be considered close, the difference between them must be\n",
            "    smaller than at least one of the tolerances.\n",
            "    \n",
            "    -inf, inf and NaN behave similarly to the IEEE 754 Standard. That is, NaN is\n",
            "    not close to anything, even itself. inf and -inf are only close to themselves.\n",
            "\n"
          ]
        }
      ]
    },
    {
      "cell_type": "code",
      "source": [
        "help(bool)"
      ],
      "metadata": {
        "colab": {
          "base_uri": "https://localhost:8080/"
        },
        "id": "LRqXFdHYNMVI",
        "outputId": "03b669a3-95df-4261-9c19-4d72c0584212"
      },
      "execution_count": 274,
      "outputs": [
        {
          "output_type": "stream",
          "name": "stdout",
          "text": [
            "Help on class bool in module builtins:\n",
            "\n",
            "class bool(int)\n",
            " |  bool(x) -> bool\n",
            " |  \n",
            " |  Returns True when the argument x is true, False otherwise.\n",
            " |  The builtins True and False are the only two instances of the class bool.\n",
            " |  The class bool is a subclass of the class int, and cannot be subclassed.\n",
            " |  \n",
            " |  Method resolution order:\n",
            " |      bool\n",
            " |      int\n",
            " |      object\n",
            " |  \n",
            " |  Methods defined here:\n",
            " |  \n",
            " |  __and__(self, value, /)\n",
            " |      Return self&value.\n",
            " |  \n",
            " |  __or__(self, value, /)\n",
            " |      Return self|value.\n",
            " |  \n",
            " |  __rand__(self, value, /)\n",
            " |      Return value&self.\n",
            " |  \n",
            " |  __repr__(self, /)\n",
            " |      Return repr(self).\n",
            " |  \n",
            " |  __ror__(self, value, /)\n",
            " |      Return value|self.\n",
            " |  \n",
            " |  __rxor__(self, value, /)\n",
            " |      Return value^self.\n",
            " |  \n",
            " |  __xor__(self, value, /)\n",
            " |      Return self^value.\n",
            " |  \n",
            " |  ----------------------------------------------------------------------\n",
            " |  Static methods defined here:\n",
            " |  \n",
            " |  __new__(*args, **kwargs) from builtins.type\n",
            " |      Create and return a new object.  See help(type) for accurate signature.\n",
            " |  \n",
            " |  ----------------------------------------------------------------------\n",
            " |  Methods inherited from int:\n",
            " |  \n",
            " |  __abs__(self, /)\n",
            " |      abs(self)\n",
            " |  \n",
            " |  __add__(self, value, /)\n",
            " |      Return self+value.\n",
            " |  \n",
            " |  __bool__(self, /)\n",
            " |      self != 0\n",
            " |  \n",
            " |  __ceil__(...)\n",
            " |      Ceiling of an Integral returns itself.\n",
            " |  \n",
            " |  __divmod__(self, value, /)\n",
            " |      Return divmod(self, value).\n",
            " |  \n",
            " |  __eq__(self, value, /)\n",
            " |      Return self==value.\n",
            " |  \n",
            " |  __float__(self, /)\n",
            " |      float(self)\n",
            " |  \n",
            " |  __floor__(...)\n",
            " |      Flooring an Integral returns itself.\n",
            " |  \n",
            " |  __floordiv__(self, value, /)\n",
            " |      Return self//value.\n",
            " |  \n",
            " |  __format__(self, format_spec, /)\n",
            " |      Default object formatter.\n",
            " |  \n",
            " |  __ge__(self, value, /)\n",
            " |      Return self>=value.\n",
            " |  \n",
            " |  __getattribute__(self, name, /)\n",
            " |      Return getattr(self, name).\n",
            " |  \n",
            " |  __getnewargs__(self, /)\n",
            " |  \n",
            " |  __gt__(self, value, /)\n",
            " |      Return self>value.\n",
            " |  \n",
            " |  __hash__(self, /)\n",
            " |      Return hash(self).\n",
            " |  \n",
            " |  __index__(self, /)\n",
            " |      Return self converted to an integer, if self is suitable for use as an index into a list.\n",
            " |  \n",
            " |  __int__(self, /)\n",
            " |      int(self)\n",
            " |  \n",
            " |  __invert__(self, /)\n",
            " |      ~self\n",
            " |  \n",
            " |  __le__(self, value, /)\n",
            " |      Return self<=value.\n",
            " |  \n",
            " |  __lshift__(self, value, /)\n",
            " |      Return self<<value.\n",
            " |  \n",
            " |  __lt__(self, value, /)\n",
            " |      Return self<value.\n",
            " |  \n",
            " |  __mod__(self, value, /)\n",
            " |      Return self%value.\n",
            " |  \n",
            " |  __mul__(self, value, /)\n",
            " |      Return self*value.\n",
            " |  \n",
            " |  __ne__(self, value, /)\n",
            " |      Return self!=value.\n",
            " |  \n",
            " |  __neg__(self, /)\n",
            " |      -self\n",
            " |  \n",
            " |  __pos__(self, /)\n",
            " |      +self\n",
            " |  \n",
            " |  __pow__(self, value, mod=None, /)\n",
            " |      Return pow(self, value, mod).\n",
            " |  \n",
            " |  __radd__(self, value, /)\n",
            " |      Return value+self.\n",
            " |  \n",
            " |  __rdivmod__(self, value, /)\n",
            " |      Return divmod(value, self).\n",
            " |  \n",
            " |  __rfloordiv__(self, value, /)\n",
            " |      Return value//self.\n",
            " |  \n",
            " |  __rlshift__(self, value, /)\n",
            " |      Return value<<self.\n",
            " |  \n",
            " |  __rmod__(self, value, /)\n",
            " |      Return value%self.\n",
            " |  \n",
            " |  __rmul__(self, value, /)\n",
            " |      Return value*self.\n",
            " |  \n",
            " |  __round__(...)\n",
            " |      Rounding an Integral returns itself.\n",
            " |      Rounding with an ndigits argument also returns an integer.\n",
            " |  \n",
            " |  __rpow__(self, value, mod=None, /)\n",
            " |      Return pow(value, self, mod).\n",
            " |  \n",
            " |  __rrshift__(self, value, /)\n",
            " |      Return value>>self.\n",
            " |  \n",
            " |  __rshift__(self, value, /)\n",
            " |      Return self>>value.\n",
            " |  \n",
            " |  __rsub__(self, value, /)\n",
            " |      Return value-self.\n",
            " |  \n",
            " |  __rtruediv__(self, value, /)\n",
            " |      Return value/self.\n",
            " |  \n",
            " |  __sizeof__(self, /)\n",
            " |      Returns size in memory, in bytes.\n",
            " |  \n",
            " |  __sub__(self, value, /)\n",
            " |      Return self-value.\n",
            " |  \n",
            " |  __truediv__(self, value, /)\n",
            " |      Return self/value.\n",
            " |  \n",
            " |  __trunc__(...)\n",
            " |      Truncating an Integral returns itself.\n",
            " |  \n",
            " |  as_integer_ratio(self, /)\n",
            " |      Return integer ratio.\n",
            " |      \n",
            " |      Return a pair of integers, whose ratio is exactly equal to the original int\n",
            " |      and with a positive denominator.\n",
            " |      \n",
            " |      >>> (10).as_integer_ratio()\n",
            " |      (10, 1)\n",
            " |      >>> (-10).as_integer_ratio()\n",
            " |      (-10, 1)\n",
            " |      >>> (0).as_integer_ratio()\n",
            " |      (0, 1)\n",
            " |  \n",
            " |  bit_length(self, /)\n",
            " |      Number of bits necessary to represent self in binary.\n",
            " |      \n",
            " |      >>> bin(37)\n",
            " |      '0b100101'\n",
            " |      >>> (37).bit_length()\n",
            " |      6\n",
            " |  \n",
            " |  conjugate(...)\n",
            " |      Returns self, the complex conjugate of any int.\n",
            " |  \n",
            " |  to_bytes(self, /, length, byteorder, *, signed=False)\n",
            " |      Return an array of bytes representing an integer.\n",
            " |      \n",
            " |      length\n",
            " |        Length of bytes object to use.  An OverflowError is raised if the\n",
            " |        integer is not representable with the given number of bytes.\n",
            " |      byteorder\n",
            " |        The byte order used to represent the integer.  If byteorder is 'big',\n",
            " |        the most significant byte is at the beginning of the byte array.  If\n",
            " |        byteorder is 'little', the most significant byte is at the end of the\n",
            " |        byte array.  To request the native byte order of the host system, use\n",
            " |        `sys.byteorder' as the byte order value.\n",
            " |      signed\n",
            " |        Determines whether two's complement is used to represent the integer.\n",
            " |        If signed is False and a negative integer is given, an OverflowError\n",
            " |        is raised.\n",
            " |  \n",
            " |  ----------------------------------------------------------------------\n",
            " |  Class methods inherited from int:\n",
            " |  \n",
            " |  from_bytes(bytes, byteorder, *, signed=False) from builtins.type\n",
            " |      Return the integer represented by the given array of bytes.\n",
            " |      \n",
            " |      bytes\n",
            " |        Holds the array of bytes to convert.  The argument must either\n",
            " |        support the buffer protocol or be an iterable object producing bytes.\n",
            " |        Bytes and bytearray are examples of built-in objects that support the\n",
            " |        buffer protocol.\n",
            " |      byteorder\n",
            " |        The byte order used to represent the integer.  If byteorder is 'big',\n",
            " |        the most significant byte is at the beginning of the byte array.  If\n",
            " |        byteorder is 'little', the most significant byte is at the end of the\n",
            " |        byte array.  To request the native byte order of the host system, use\n",
            " |        `sys.byteorder' as the byte order value.\n",
            " |      signed\n",
            " |        Indicates whether two's complement is used to represent the integer.\n",
            " |  \n",
            " |  ----------------------------------------------------------------------\n",
            " |  Data descriptors inherited from int:\n",
            " |  \n",
            " |  denominator\n",
            " |      the denominator of a rational number in lowest terms\n",
            " |  \n",
            " |  imag\n",
            " |      the imaginary part of a complex number\n",
            " |  \n",
            " |  numerator\n",
            " |      the numerator of a rational number in lowest terms\n",
            " |  \n",
            " |  real\n",
            " |      the real part of a complex number\n",
            "\n"
          ]
        }
      ]
    },
    {
      "cell_type": "code",
      "source": [
        "issubclass(bool, int)"
      ],
      "metadata": {
        "colab": {
          "base_uri": "https://localhost:8080/"
        },
        "id": "ySmpRiKnSwAe",
        "outputId": "3276a92e-6f58-46a3-b516-cafdfa6ce246"
      },
      "execution_count": 275,
      "outputs": [
        {
          "output_type": "execute_result",
          "data": {
            "text/plain": [
              "True"
            ]
          },
          "metadata": {},
          "execution_count": 275
        }
      ]
    },
    {
      "cell_type": "code",
      "source": [
        "type(True), id(True), int(True)"
      ],
      "metadata": {
        "colab": {
          "base_uri": "https://localhost:8080/"
        },
        "id": "LC7xv2uVS0R7",
        "outputId": "62b5e506-da39-4c25-9fd1-c38ee1414af4"
      },
      "execution_count": 276,
      "outputs": [
        {
          "output_type": "execute_result",
          "data": {
            "text/plain": [
              "(bool, 9480544, 1)"
            ]
          },
          "metadata": {},
          "execution_count": 276
        }
      ]
    },
    {
      "cell_type": "code",
      "source": [
        "type(False), id(False), int(False)"
      ],
      "metadata": {
        "colab": {
          "base_uri": "https://localhost:8080/"
        },
        "id": "eC_SsrlmTE3X",
        "outputId": "0261b06d-f5b5-4a53-f93c-21b2a814b3e3"
      },
      "execution_count": 278,
      "outputs": [
        {
          "output_type": "execute_result",
          "data": {
            "text/plain": [
              "(bool, 9478112, 0)"
            ]
          },
          "metadata": {},
          "execution_count": 278
        }
      ]
    },
    {
      "cell_type": "code",
      "source": [
        "None is False"
      ],
      "metadata": {
        "colab": {
          "base_uri": "https://localhost:8080/"
        },
        "id": "nBhBNltqTKqK",
        "outputId": "6a8b667d-b342-4e03-e818-5081eebb714f"
      },
      "execution_count": 279,
      "outputs": [
        {
          "output_type": "execute_result",
          "data": {
            "text/plain": [
              "False"
            ]
          },
          "metadata": {},
          "execution_count": 279
        }
      ]
    },
    {
      "cell_type": "code",
      "source": [
        "None is True"
      ],
      "metadata": {
        "colab": {
          "base_uri": "https://localhost:8080/"
        },
        "id": "pzXwk3XMTk_M",
        "outputId": "0e15f544-dee6-4bdc-a338-89a12a199c38"
      },
      "execution_count": 280,
      "outputs": [
        {
          "output_type": "execute_result",
          "data": {
            "text/plain": [
              "False"
            ]
          },
          "metadata": {},
          "execution_count": 280
        }
      ]
    },
    {
      "cell_type": "code",
      "source": [
        "int(True)"
      ],
      "metadata": {
        "colab": {
          "base_uri": "https://localhost:8080/"
        },
        "id": "MCxlWcSgTnM5",
        "outputId": "d1ddd0a2-6e8b-4294-9f44-8ebc404611ea"
      },
      "execution_count": 281,
      "outputs": [
        {
          "output_type": "execute_result",
          "data": {
            "text/plain": [
              "1"
            ]
          },
          "metadata": {},
          "execution_count": 281
        }
      ]
    },
    {
      "cell_type": "code",
      "source": [
        "int(False)"
      ],
      "metadata": {
        "colab": {
          "base_uri": "https://localhost:8080/"
        },
        "id": "DpVTyzw5T9is",
        "outputId": "4109d9c8-64a0-4394-facf-f59cf1f9aa42"
      },
      "execution_count": 282,
      "outputs": [
        {
          "output_type": "execute_result",
          "data": {
            "text/plain": [
              "0"
            ]
          },
          "metadata": {},
          "execution_count": 282
        }
      ]
    },
    {
      "cell_type": "code",
      "source": [
        "bool(0)"
      ],
      "metadata": {
        "colab": {
          "base_uri": "https://localhost:8080/"
        },
        "id": "ePwIdNs9T-y3",
        "outputId": "3e3b3e9c-8770-4700-a825-02364bf39079"
      },
      "execution_count": 283,
      "outputs": [
        {
          "output_type": "execute_result",
          "data": {
            "text/plain": [
              "False"
            ]
          },
          "metadata": {},
          "execution_count": 283
        }
      ]
    },
    {
      "cell_type": "code",
      "source": [
        "bool(1)"
      ],
      "metadata": {
        "colab": {
          "base_uri": "https://localhost:8080/"
        },
        "id": "Q1qqgiY6UbRC",
        "outputId": "3d46bfe4-f99b-4196-e183-188c4f405cbf"
      },
      "execution_count": 284,
      "outputs": [
        {
          "output_type": "execute_result",
          "data": {
            "text/plain": [
              "True"
            ]
          },
          "metadata": {},
          "execution_count": 284
        }
      ]
    },
    {
      "cell_type": "code",
      "source": [
        "bool(10)"
      ],
      "metadata": {
        "colab": {
          "base_uri": "https://localhost:8080/"
        },
        "id": "OovMe0guUb6e",
        "outputId": "e9e60a3a-892a-4928-cdbc-b78087e776ac"
      },
      "execution_count": 285,
      "outputs": [
        {
          "output_type": "execute_result",
          "data": {
            "text/plain": [
              "True"
            ]
          },
          "metadata": {},
          "execution_count": 285
        }
      ]
    },
    {
      "cell_type": "code",
      "source": [
        "bool(-1)"
      ],
      "metadata": {
        "colab": {
          "base_uri": "https://localhost:8080/"
        },
        "id": "IT2awySjUcrv",
        "outputId": "0561b035-178e-43f7-962f-1367a1b00c0f"
      },
      "execution_count": 286,
      "outputs": [
        {
          "output_type": "execute_result",
          "data": {
            "text/plain": [
              "True"
            ]
          },
          "metadata": {},
          "execution_count": 286
        }
      ]
    },
    {
      "cell_type": "code",
      "source": [
        "bool(-10)"
      ],
      "metadata": {
        "colab": {
          "base_uri": "https://localhost:8080/"
        },
        "id": "-BvQQDKqUebi",
        "outputId": "b6b9ab66-9f46-49ba-fdf2-d820431be9cf"
      },
      "execution_count": 289,
      "outputs": [
        {
          "output_type": "execute_result",
          "data": {
            "text/plain": [
              "True"
            ]
          },
          "metadata": {},
          "execution_count": 289
        }
      ]
    },
    {
      "cell_type": "code",
      "source": [
        "bool(x)"
      ],
      "metadata": {
        "colab": {
          "base_uri": "https://localhost:8080/"
        },
        "id": "CFCf6xT9UfqS",
        "outputId": "b6eb0991-149b-455c-be15-51b83de35a2f"
      },
      "execution_count": 290,
      "outputs": [
        {
          "output_type": "execute_result",
          "data": {
            "text/plain": [
              "True"
            ]
          },
          "metadata": {},
          "execution_count": 290
        }
      ]
    },
    {
      "cell_type": "code",
      "source": [
        "x"
      ],
      "metadata": {
        "colab": {
          "base_uri": "https://localhost:8080/"
        },
        "id": "LgLWo_KTchN7",
        "outputId": "a5921566-2af0-4f38-e56b-aa0bbf0b5a19"
      },
      "execution_count": 291,
      "outputs": [
        {
          "output_type": "execute_result",
          "data": {
            "text/plain": [
              "0.01"
            ]
          },
          "metadata": {},
          "execution_count": 291
        }
      ]
    },
    {
      "cell_type": "code",
      "source": [
        "help(int)"
      ],
      "metadata": {
        "colab": {
          "base_uri": "https://localhost:8080/"
        },
        "id": "xjZXpNVRckRB",
        "outputId": "dc230b1f-9aa8-4fde-cdda-b6b6cf007f35"
      },
      "execution_count": 292,
      "outputs": [
        {
          "output_type": "stream",
          "name": "stdout",
          "text": [
            "Help on class int in module builtins:\n",
            "\n",
            "class int(object)\n",
            " |  int([x]) -> integer\n",
            " |  int(x, base=10) -> integer\n",
            " |  \n",
            " |  Convert a number or string to an integer, or return 0 if no arguments\n",
            " |  are given.  If x is a number, return x.__int__().  For floating point\n",
            " |  numbers, this truncates towards zero.\n",
            " |  \n",
            " |  If x is not a number or if base is given, then x must be a string,\n",
            " |  bytes, or bytearray instance representing an integer literal in the\n",
            " |  given base.  The literal can be preceded by '+' or '-' and be surrounded\n",
            " |  by whitespace.  The base defaults to 10.  Valid bases are 0 and 2-36.\n",
            " |  Base 0 means to interpret the base from the string as an integer literal.\n",
            " |  >>> int('0b100', base=0)\n",
            " |  4\n",
            " |  \n",
            " |  Built-in subclasses:\n",
            " |      bool\n",
            " |  \n",
            " |  Methods defined here:\n",
            " |  \n",
            " |  __abs__(self, /)\n",
            " |      abs(self)\n",
            " |  \n",
            " |  __add__(self, value, /)\n",
            " |      Return self+value.\n",
            " |  \n",
            " |  __and__(self, value, /)\n",
            " |      Return self&value.\n",
            " |  \n",
            " |  __bool__(self, /)\n",
            " |      self != 0\n",
            " |  \n",
            " |  __ceil__(...)\n",
            " |      Ceiling of an Integral returns itself.\n",
            " |  \n",
            " |  __divmod__(self, value, /)\n",
            " |      Return divmod(self, value).\n",
            " |  \n",
            " |  __eq__(self, value, /)\n",
            " |      Return self==value.\n",
            " |  \n",
            " |  __float__(self, /)\n",
            " |      float(self)\n",
            " |  \n",
            " |  __floor__(...)\n",
            " |      Flooring an Integral returns itself.\n",
            " |  \n",
            " |  __floordiv__(self, value, /)\n",
            " |      Return self//value.\n",
            " |  \n",
            " |  __format__(self, format_spec, /)\n",
            " |      Default object formatter.\n",
            " |  \n",
            " |  __ge__(self, value, /)\n",
            " |      Return self>=value.\n",
            " |  \n",
            " |  __getattribute__(self, name, /)\n",
            " |      Return getattr(self, name).\n",
            " |  \n",
            " |  __getnewargs__(self, /)\n",
            " |  \n",
            " |  __gt__(self, value, /)\n",
            " |      Return self>value.\n",
            " |  \n",
            " |  __hash__(self, /)\n",
            " |      Return hash(self).\n",
            " |  \n",
            " |  __index__(self, /)\n",
            " |      Return self converted to an integer, if self is suitable for use as an index into a list.\n",
            " |  \n",
            " |  __int__(self, /)\n",
            " |      int(self)\n",
            " |  \n",
            " |  __invert__(self, /)\n",
            " |      ~self\n",
            " |  \n",
            " |  __le__(self, value, /)\n",
            " |      Return self<=value.\n",
            " |  \n",
            " |  __lshift__(self, value, /)\n",
            " |      Return self<<value.\n",
            " |  \n",
            " |  __lt__(self, value, /)\n",
            " |      Return self<value.\n",
            " |  \n",
            " |  __mod__(self, value, /)\n",
            " |      Return self%value.\n",
            " |  \n",
            " |  __mul__(self, value, /)\n",
            " |      Return self*value.\n",
            " |  \n",
            " |  __ne__(self, value, /)\n",
            " |      Return self!=value.\n",
            " |  \n",
            " |  __neg__(self, /)\n",
            " |      -self\n",
            " |  \n",
            " |  __or__(self, value, /)\n",
            " |      Return self|value.\n",
            " |  \n",
            " |  __pos__(self, /)\n",
            " |      +self\n",
            " |  \n",
            " |  __pow__(self, value, mod=None, /)\n",
            " |      Return pow(self, value, mod).\n",
            " |  \n",
            " |  __radd__(self, value, /)\n",
            " |      Return value+self.\n",
            " |  \n",
            " |  __rand__(self, value, /)\n",
            " |      Return value&self.\n",
            " |  \n",
            " |  __rdivmod__(self, value, /)\n",
            " |      Return divmod(value, self).\n",
            " |  \n",
            " |  __repr__(self, /)\n",
            " |      Return repr(self).\n",
            " |  \n",
            " |  __rfloordiv__(self, value, /)\n",
            " |      Return value//self.\n",
            " |  \n",
            " |  __rlshift__(self, value, /)\n",
            " |      Return value<<self.\n",
            " |  \n",
            " |  __rmod__(self, value, /)\n",
            " |      Return value%self.\n",
            " |  \n",
            " |  __rmul__(self, value, /)\n",
            " |      Return value*self.\n",
            " |  \n",
            " |  __ror__(self, value, /)\n",
            " |      Return value|self.\n",
            " |  \n",
            " |  __round__(...)\n",
            " |      Rounding an Integral returns itself.\n",
            " |      Rounding with an ndigits argument also returns an integer.\n",
            " |  \n",
            " |  __rpow__(self, value, mod=None, /)\n",
            " |      Return pow(value, self, mod).\n",
            " |  \n",
            " |  __rrshift__(self, value, /)\n",
            " |      Return value>>self.\n",
            " |  \n",
            " |  __rshift__(self, value, /)\n",
            " |      Return self>>value.\n",
            " |  \n",
            " |  __rsub__(self, value, /)\n",
            " |      Return value-self.\n",
            " |  \n",
            " |  __rtruediv__(self, value, /)\n",
            " |      Return value/self.\n",
            " |  \n",
            " |  __rxor__(self, value, /)\n",
            " |      Return value^self.\n",
            " |  \n",
            " |  __sizeof__(self, /)\n",
            " |      Returns size in memory, in bytes.\n",
            " |  \n",
            " |  __sub__(self, value, /)\n",
            " |      Return self-value.\n",
            " |  \n",
            " |  __truediv__(self, value, /)\n",
            " |      Return self/value.\n",
            " |  \n",
            " |  __trunc__(...)\n",
            " |      Truncating an Integral returns itself.\n",
            " |  \n",
            " |  __xor__(self, value, /)\n",
            " |      Return self^value.\n",
            " |  \n",
            " |  as_integer_ratio(self, /)\n",
            " |      Return integer ratio.\n",
            " |      \n",
            " |      Return a pair of integers, whose ratio is exactly equal to the original int\n",
            " |      and with a positive denominator.\n",
            " |      \n",
            " |      >>> (10).as_integer_ratio()\n",
            " |      (10, 1)\n",
            " |      >>> (-10).as_integer_ratio()\n",
            " |      (-10, 1)\n",
            " |      >>> (0).as_integer_ratio()\n",
            " |      (0, 1)\n",
            " |  \n",
            " |  bit_length(self, /)\n",
            " |      Number of bits necessary to represent self in binary.\n",
            " |      \n",
            " |      >>> bin(37)\n",
            " |      '0b100101'\n",
            " |      >>> (37).bit_length()\n",
            " |      6\n",
            " |  \n",
            " |  conjugate(...)\n",
            " |      Returns self, the complex conjugate of any int.\n",
            " |  \n",
            " |  to_bytes(self, /, length, byteorder, *, signed=False)\n",
            " |      Return an array of bytes representing an integer.\n",
            " |      \n",
            " |      length\n",
            " |        Length of bytes object to use.  An OverflowError is raised if the\n",
            " |        integer is not representable with the given number of bytes.\n",
            " |      byteorder\n",
            " |        The byte order used to represent the integer.  If byteorder is 'big',\n",
            " |        the most significant byte is at the beginning of the byte array.  If\n",
            " |        byteorder is 'little', the most significant byte is at the end of the\n",
            " |        byte array.  To request the native byte order of the host system, use\n",
            " |        `sys.byteorder' as the byte order value.\n",
            " |      signed\n",
            " |        Determines whether two's complement is used to represent the integer.\n",
            " |        If signed is False and a negative integer is given, an OverflowError\n",
            " |        is raised.\n",
            " |  \n",
            " |  ----------------------------------------------------------------------\n",
            " |  Class methods defined here:\n",
            " |  \n",
            " |  from_bytes(bytes, byteorder, *, signed=False) from builtins.type\n",
            " |      Return the integer represented by the given array of bytes.\n",
            " |      \n",
            " |      bytes\n",
            " |        Holds the array of bytes to convert.  The argument must either\n",
            " |        support the buffer protocol or be an iterable object producing bytes.\n",
            " |        Bytes and bytearray are examples of built-in objects that support the\n",
            " |        buffer protocol.\n",
            " |      byteorder\n",
            " |        The byte order used to represent the integer.  If byteorder is 'big',\n",
            " |        the most significant byte is at the beginning of the byte array.  If\n",
            " |        byteorder is 'little', the most significant byte is at the end of the\n",
            " |        byte array.  To request the native byte order of the host system, use\n",
            " |        `sys.byteorder' as the byte order value.\n",
            " |      signed\n",
            " |        Indicates whether two's complement is used to represent the integer.\n",
            " |  \n",
            " |  ----------------------------------------------------------------------\n",
            " |  Static methods defined here:\n",
            " |  \n",
            " |  __new__(*args, **kwargs) from builtins.type\n",
            " |      Create and return a new object.  See help(type) for accurate signature.\n",
            " |  \n",
            " |  ----------------------------------------------------------------------\n",
            " |  Data descriptors defined here:\n",
            " |  \n",
            " |  denominator\n",
            " |      the denominator of a rational number in lowest terms\n",
            " |  \n",
            " |  imag\n",
            " |      the imaginary part of a complex number\n",
            " |  \n",
            " |  numerator\n",
            " |      the numerator of a rational number in lowest terms\n",
            " |  \n",
            " |  real\n",
            " |      the real part of a complex number\n",
            "\n"
          ]
        }
      ]
    },
    {
      "cell_type": "code",
      "source": [
        "True.__bool__()"
      ],
      "metadata": {
        "colab": {
          "base_uri": "https://localhost:8080/"
        },
        "id": "48ANlBd4cr3n",
        "outputId": "ae9688fe-b23d-47de-f184-c48ee9ea4c49"
      },
      "execution_count": 293,
      "outputs": [
        {
          "output_type": "execute_result",
          "data": {
            "text/plain": [
              "True"
            ]
          },
          "metadata": {},
          "execution_count": 293
        }
      ]
    },
    {
      "cell_type": "code",
      "source": [
        "(0).__bool__()"
      ],
      "metadata": {
        "colab": {
          "base_uri": "https://localhost:8080/"
        },
        "id": "FD40WwfRdLVX",
        "outputId": "34d251a7-18bc-4481-b2a0-7610dd9fdfda"
      },
      "execution_count": 295,
      "outputs": [
        {
          "output_type": "execute_result",
          "data": {
            "text/plain": [
              "False"
            ]
          },
          "metadata": {},
          "execution_count": 295
        }
      ]
    },
    {
      "cell_type": "code",
      "source": [
        "help(list)"
      ],
      "metadata": {
        "colab": {
          "base_uri": "https://localhost:8080/"
        },
        "id": "E4qDwECadOvp",
        "outputId": "4679752a-2376-4715-ed93-ed6bfcee6b76"
      },
      "execution_count": 296,
      "outputs": [
        {
          "output_type": "stream",
          "name": "stdout",
          "text": [
            "Help on class list in module builtins:\n",
            "\n",
            "class list(object)\n",
            " |  list(iterable=(), /)\n",
            " |  \n",
            " |  Built-in mutable sequence.\n",
            " |  \n",
            " |  If no argument is given, the constructor creates a new empty list.\n",
            " |  The argument must be an iterable if specified.\n",
            " |  \n",
            " |  Methods defined here:\n",
            " |  \n",
            " |  __add__(self, value, /)\n",
            " |      Return self+value.\n",
            " |  \n",
            " |  __contains__(self, key, /)\n",
            " |      Return key in self.\n",
            " |  \n",
            " |  __delitem__(self, key, /)\n",
            " |      Delete self[key].\n",
            " |  \n",
            " |  __eq__(self, value, /)\n",
            " |      Return self==value.\n",
            " |  \n",
            " |  __ge__(self, value, /)\n",
            " |      Return self>=value.\n",
            " |  \n",
            " |  __getattribute__(self, name, /)\n",
            " |      Return getattr(self, name).\n",
            " |  \n",
            " |  __getitem__(...)\n",
            " |      x.__getitem__(y) <==> x[y]\n",
            " |  \n",
            " |  __gt__(self, value, /)\n",
            " |      Return self>value.\n",
            " |  \n",
            " |  __iadd__(self, value, /)\n",
            " |      Implement self+=value.\n",
            " |  \n",
            " |  __imul__(self, value, /)\n",
            " |      Implement self*=value.\n",
            " |  \n",
            " |  __init__(self, /, *args, **kwargs)\n",
            " |      Initialize self.  See help(type(self)) for accurate signature.\n",
            " |  \n",
            " |  __iter__(self, /)\n",
            " |      Implement iter(self).\n",
            " |  \n",
            " |  __le__(self, value, /)\n",
            " |      Return self<=value.\n",
            " |  \n",
            " |  __len__(self, /)\n",
            " |      Return len(self).\n",
            " |  \n",
            " |  __lt__(self, value, /)\n",
            " |      Return self<value.\n",
            " |  \n",
            " |  __mul__(self, value, /)\n",
            " |      Return self*value.\n",
            " |  \n",
            " |  __ne__(self, value, /)\n",
            " |      Return self!=value.\n",
            " |  \n",
            " |  __repr__(self, /)\n",
            " |      Return repr(self).\n",
            " |  \n",
            " |  __reversed__(self, /)\n",
            " |      Return a reverse iterator over the list.\n",
            " |  \n",
            " |  __rmul__(self, value, /)\n",
            " |      Return value*self.\n",
            " |  \n",
            " |  __setitem__(self, key, value, /)\n",
            " |      Set self[key] to value.\n",
            " |  \n",
            " |  __sizeof__(self, /)\n",
            " |      Return the size of the list in memory, in bytes.\n",
            " |  \n",
            " |  append(self, object, /)\n",
            " |      Append object to the end of the list.\n",
            " |  \n",
            " |  clear(self, /)\n",
            " |      Remove all items from list.\n",
            " |  \n",
            " |  copy(self, /)\n",
            " |      Return a shallow copy of the list.\n",
            " |  \n",
            " |  count(self, value, /)\n",
            " |      Return number of occurrences of value.\n",
            " |  \n",
            " |  extend(self, iterable, /)\n",
            " |      Extend list by appending elements from the iterable.\n",
            " |  \n",
            " |  index(self, value, start=0, stop=9223372036854775807, /)\n",
            " |      Return first index of value.\n",
            " |      \n",
            " |      Raises ValueError if the value is not present.\n",
            " |  \n",
            " |  insert(self, index, object, /)\n",
            " |      Insert object before index.\n",
            " |  \n",
            " |  pop(self, index=-1, /)\n",
            " |      Remove and return item at index (default last).\n",
            " |      \n",
            " |      Raises IndexError if list is empty or index is out of range.\n",
            " |  \n",
            " |  remove(self, value, /)\n",
            " |      Remove first occurrence of value.\n",
            " |      \n",
            " |      Raises ValueError if the value is not present.\n",
            " |  \n",
            " |  reverse(self, /)\n",
            " |      Reverse *IN PLACE*.\n",
            " |  \n",
            " |  sort(self, /, *, key=None, reverse=False)\n",
            " |      Sort the list in ascending order and return None.\n",
            " |      \n",
            " |      The sort is in-place (i.e. the list itself is modified) and stable (i.e. the\n",
            " |      order of two equal elements is maintained).\n",
            " |      \n",
            " |      If a key function is given, apply it once to each list item and sort them,\n",
            " |      ascending or descending, according to their function values.\n",
            " |      \n",
            " |      The reverse flag can be set to sort in descending order.\n",
            " |  \n",
            " |  ----------------------------------------------------------------------\n",
            " |  Static methods defined here:\n",
            " |  \n",
            " |  __new__(*args, **kwargs) from builtins.type\n",
            " |      Create and return a new object.  See help(type) for accurate signature.\n",
            " |  \n",
            " |  ----------------------------------------------------------------------\n",
            " |  Data and other attributes defined here:\n",
            " |  \n",
            " |  __hash__ = None\n",
            "\n"
          ]
        }
      ]
    },
    {
      "cell_type": "code",
      "source": [
        "a = []\n",
        "bool(a)"
      ],
      "metadata": {
        "colab": {
          "base_uri": "https://localhost:8080/"
        },
        "id": "AdiC63PQdUEp",
        "outputId": "ac19773b-734b-4049-89d4-933945c609f8"
      },
      "execution_count": 297,
      "outputs": [
        {
          "output_type": "execute_result",
          "data": {
            "text/plain": [
              "False"
            ]
          },
          "metadata": {},
          "execution_count": 297
        }
      ]
    },
    {
      "cell_type": "code",
      "source": [
        "a.__len__()"
      ],
      "metadata": {
        "colab": {
          "base_uri": "https://localhost:8080/"
        },
        "id": "lSs--gSRddCH",
        "outputId": "b7119988-02cf-4fc6-dcf7-aa07375ec1ac"
      },
      "execution_count": 298,
      "outputs": [
        {
          "output_type": "execute_result",
          "data": {
            "text/plain": [
              "0"
            ]
          },
          "metadata": {},
          "execution_count": 298
        }
      ]
    },
    {
      "cell_type": "code",
      "source": [
        "bool(a.__len__())"
      ],
      "metadata": {
        "colab": {
          "base_uri": "https://localhost:8080/"
        },
        "id": "r1FRHSX3dgh-",
        "outputId": "5015ed79-e4d3-412f-ed1b-a14b35b15cd3"
      },
      "execution_count": 299,
      "outputs": [
        {
          "output_type": "execute_result",
          "data": {
            "text/plain": [
              "False"
            ]
          },
          "metadata": {},
          "execution_count": 299
        }
      ]
    },
    {
      "cell_type": "code",
      "source": [
        "bool(0.0)"
      ],
      "metadata": {
        "colab": {
          "base_uri": "https://localhost:8080/"
        },
        "id": "tw-TdDimdk3Z",
        "outputId": "820f3054-9ef8-42a3-cf2d-3c6e6df42ddb"
      },
      "execution_count": 301,
      "outputs": [
        {
          "output_type": "execute_result",
          "data": {
            "text/plain": [
              "False"
            ]
          },
          "metadata": {},
          "execution_count": 301
        }
      ]
    },
    {
      "cell_type": "code",
      "source": [
        "from fractions import Fraction"
      ],
      "metadata": {
        "id": "jxoenraMdsVe"
      },
      "execution_count": 303,
      "outputs": []
    },
    {
      "cell_type": "code",
      "source": [
        "bool(Fraction(0, 1)), bool(Decimal('0.0'))"
      ],
      "metadata": {
        "colab": {
          "base_uri": "https://localhost:8080/"
        },
        "id": "j58jcb2LdzzP",
        "outputId": "b8b434e0-f898-49f7-f704-819988df3af5"
      },
      "execution_count": 304,
      "outputs": [
        {
          "output_type": "execute_result",
          "data": {
            "text/plain": [
              "(False, False)"
            ]
          },
          "metadata": {},
          "execution_count": 304
        }
      ]
    },
    {
      "cell_type": "code",
      "source": [
        "bool(1j), bool(Fraction(1, 2))"
      ],
      "metadata": {
        "colab": {
          "base_uri": "https://localhost:8080/"
        },
        "id": "4CqwR9zLd862",
        "outputId": "710add0a-6690-4ffb-a723-af938c19c233"
      },
      "execution_count": 305,
      "outputs": [
        {
          "output_type": "execute_result",
          "data": {
            "text/plain": [
              "(True, True)"
            ]
          },
          "metadata": {},
          "execution_count": 305
        }
      ]
    },
    {
      "cell_type": "code",
      "source": [
        "a = []\n",
        "b = ''\n",
        "c = ()"
      ],
      "metadata": {
        "id": "j0KQwwqZeBxR"
      },
      "execution_count": 306,
      "outputs": []
    },
    {
      "cell_type": "code",
      "source": [
        "bool(a), bool(b), bool(c)"
      ],
      "metadata": {
        "colab": {
          "base_uri": "https://localhost:8080/"
        },
        "id": "SBBQ08vieJUu",
        "outputId": "a80c4bba-d439-46b3-c825-69afcf2f4061"
      },
      "execution_count": 307,
      "outputs": [
        {
          "output_type": "execute_result",
          "data": {
            "text/plain": [
              "(False, False, False)"
            ]
          },
          "metadata": {},
          "execution_count": 307
        }
      ]
    },
    {
      "cell_type": "code",
      "source": [
        "a = [1, 2]\n",
        "b = 'abc'\n",
        "c = (1, 2)"
      ],
      "metadata": {
        "id": "38ZdvH1_eMpX"
      },
      "execution_count": 308,
      "outputs": []
    },
    {
      "cell_type": "code",
      "source": [
        "bool(a), bool(b), bool(c)"
      ],
      "metadata": {
        "colab": {
          "base_uri": "https://localhost:8080/"
        },
        "id": "0kAgzwNDeRWo",
        "outputId": "a2450508-7733-4949-9b89-4eccdb1138bb"
      },
      "execution_count": 309,
      "outputs": [
        {
          "output_type": "execute_result",
          "data": {
            "text/plain": [
              "(True, True, True)"
            ]
          },
          "metadata": {},
          "execution_count": 309
        }
      ]
    },
    {
      "cell_type": "code",
      "source": [
        "a = {}\n",
        "b = set()"
      ],
      "metadata": {
        "id": "-ZFcWySceULX"
      },
      "execution_count": 310,
      "outputs": []
    },
    {
      "cell_type": "code",
      "source": [
        "a, b"
      ],
      "metadata": {
        "colab": {
          "base_uri": "https://localhost:8080/"
        },
        "id": "U5RroIKReZ4Q",
        "outputId": "1ea8c972-b548-4a47-cbaf-8472658a0539"
      },
      "execution_count": 311,
      "outputs": [
        {
          "output_type": "execute_result",
          "data": {
            "text/plain": [
              "({}, set())"
            ]
          },
          "metadata": {},
          "execution_count": 311
        }
      ]
    },
    {
      "cell_type": "code",
      "source": [
        "bool(a), bool(b)"
      ],
      "metadata": {
        "colab": {
          "base_uri": "https://localhost:8080/"
        },
        "id": "d-PwYtsdeahD",
        "outputId": "edb83ea4-99a5-421c-dd7f-a9d54a3cc62b"
      },
      "execution_count": 312,
      "outputs": [
        {
          "output_type": "execute_result",
          "data": {
            "text/plain": [
              "(False, False)"
            ]
          },
          "metadata": {},
          "execution_count": 312
        }
      ]
    },
    {
      "cell_type": "code",
      "source": [
        "a = {'a': 1}\n",
        "b = {1, 2}"
      ],
      "metadata": {
        "id": "kWrVgtbzecUB"
      },
      "execution_count": 313,
      "outputs": []
    },
    {
      "cell_type": "code",
      "source": [
        "bool(a), bool(b)"
      ],
      "metadata": {
        "colab": {
          "base_uri": "https://localhost:8080/"
        },
        "id": "AjNEFdZVejwZ",
        "outputId": "99e18335-07db-4f72-a986-342a1519c57a"
      },
      "execution_count": 314,
      "outputs": [
        {
          "output_type": "execute_result",
          "data": {
            "text/plain": [
              "(True, True)"
            ]
          },
          "metadata": {},
          "execution_count": 314
        }
      ]
    },
    {
      "cell_type": "code",
      "source": [
        "bool(None)"
      ],
      "metadata": {
        "colab": {
          "base_uri": "https://localhost:8080/"
        },
        "id": "ljGTG0jLelRw",
        "outputId": "273c69a5-fea5-4f4a-bf1c-aa50930bf4bb"
      },
      "execution_count": 315,
      "outputs": [
        {
          "output_type": "execute_result",
          "data": {
            "text/plain": [
              "False"
            ]
          },
          "metadata": {},
          "execution_count": 315
        }
      ]
    },
    {
      "cell_type": "code",
      "source": [
        "a = [1, 2, 3]\n",
        "if a is not None and len(a) > 0:\n",
        "    print(a[0])\n",
        "else:\n",
        "    print('Nothing to see here...')"
      ],
      "metadata": {
        "colab": {
          "base_uri": "https://localhost:8080/"
        },
        "id": "E1x7yu2CemSc",
        "outputId": "0ac826ec-5481-41e1-9483-078d3e2882c3"
      },
      "execution_count": 316,
      "outputs": [
        {
          "output_type": "stream",
          "name": "stdout",
          "text": [
            "1\n"
          ]
        }
      ]
    },
    {
      "cell_type": "code",
      "source": [
        "a = []\n",
        "if a:\n",
        "    print(a[0])\n",
        "else:\n",
        "    print('Nothing to see here...')"
      ],
      "metadata": {
        "colab": {
          "base_uri": "https://localhost:8080/"
        },
        "id": "gFu3bHsUe_Ad",
        "outputId": "1fadbe8c-f737-44a0-8fef-d50168f5a7ed"
      },
      "execution_count": 320,
      "outputs": [
        {
          "output_type": "stream",
          "name": "stdout",
          "text": [
            "Nothing to see here...\n"
          ]
        }
      ]
    },
    {
      "cell_type": "code",
      "source": [
        "import string"
      ],
      "metadata": {
        "id": "jQm_EIXMfE2Q"
      },
      "execution_count": 322,
      "outputs": []
    },
    {
      "cell_type": "code",
      "source": [
        "string.digits"
      ],
      "metadata": {
        "colab": {
          "base_uri": "https://localhost:8080/",
          "height": 35
        },
        "id": "llxYKA9An8Bs",
        "outputId": "ac5bdb63-7c95-42ef-95c3-0ba50b9e74ae"
      },
      "execution_count": 323,
      "outputs": [
        {
          "output_type": "execute_result",
          "data": {
            "text/plain": [
              "'0123456789'"
            ],
            "application/vnd.google.colaboratory.intrinsic+json": {
              "type": "string"
            }
          },
          "metadata": {},
          "execution_count": 323
        }
      ]
    },
    {
      "cell_type": "code",
      "source": [
        "help(string)"
      ],
      "metadata": {
        "colab": {
          "base_uri": "https://localhost:8080/"
        },
        "id": "5CSBrgfYoAKC",
        "outputId": "9ed7f11b-d83f-467c-aca1-0587313a5502"
      },
      "execution_count": 325,
      "outputs": [
        {
          "output_type": "stream",
          "name": "stdout",
          "text": [
            "Help on module string:\n",
            "\n",
            "NAME\n",
            "    string - A collection of string constants.\n",
            "\n",
            "MODULE REFERENCE\n",
            "    https://docs.python.org/3.8/library/string\n",
            "    \n",
            "    The following documentation is automatically generated from the Python\n",
            "    source files.  It may be incomplete, incorrect or include features that\n",
            "    are considered implementation detail and may vary between Python\n",
            "    implementations.  When in doubt, consult the module reference at the\n",
            "    location listed above.\n",
            "\n",
            "DESCRIPTION\n",
            "    Public module variables:\n",
            "    \n",
            "    whitespace -- a string containing all ASCII whitespace\n",
            "    ascii_lowercase -- a string containing all ASCII lowercase letters\n",
            "    ascii_uppercase -- a string containing all ASCII uppercase letters\n",
            "    ascii_letters -- a string containing all ASCII letters\n",
            "    digits -- a string containing all ASCII decimal digits\n",
            "    hexdigits -- a string containing all ASCII hexadecimal digits\n",
            "    octdigits -- a string containing all ASCII octal digits\n",
            "    punctuation -- a string containing all ASCII punctuation characters\n",
            "    printable -- a string containing all ASCII characters considered printable\n",
            "\n",
            "CLASSES\n",
            "    builtins.object\n",
            "        Formatter\n",
            "        Template\n",
            "    \n",
            "    class Formatter(builtins.object)\n",
            "     |  Methods defined here:\n",
            "     |  \n",
            "     |  check_unused_args(self, used_args, args, kwargs)\n",
            "     |  \n",
            "     |  convert_field(self, value, conversion)\n",
            "     |  \n",
            "     |  format(self, format_string, /, *args, **kwargs)\n",
            "     |  \n",
            "     |  format_field(self, value, format_spec)\n",
            "     |  \n",
            "     |  get_field(self, field_name, args, kwargs)\n",
            "     |      # given a field_name, find the object it references.\n",
            "     |      #  field_name:   the field being looked up, e.g. \"0.name\"\n",
            "     |      #                 or \"lookup[3]\"\n",
            "     |      #  used_args:    a set of which args have been used\n",
            "     |      #  args, kwargs: as passed in to vformat\n",
            "     |  \n",
            "     |  get_value(self, key, args, kwargs)\n",
            "     |  \n",
            "     |  parse(self, format_string)\n",
            "     |      # returns an iterable that contains tuples of the form:\n",
            "     |      # (literal_text, field_name, format_spec, conversion)\n",
            "     |      # literal_text can be zero length\n",
            "     |      # field_name can be None, in which case there's no\n",
            "     |      #  object to format and output\n",
            "     |      # if field_name is not None, it is looked up, formatted\n",
            "     |      #  with format_spec and conversion and then used\n",
            "     |  \n",
            "     |  vformat(self, format_string, args, kwargs)\n",
            "     |  \n",
            "     |  ----------------------------------------------------------------------\n",
            "     |  Data descriptors defined here:\n",
            "     |  \n",
            "     |  __dict__\n",
            "     |      dictionary for instance variables (if defined)\n",
            "     |  \n",
            "     |  __weakref__\n",
            "     |      list of weak references to the object (if defined)\n",
            "    \n",
            "    class Template(builtins.object)\n",
            "     |  Template(template)\n",
            "     |  \n",
            "     |  A string class for supporting $-substitutions.\n",
            "     |  \n",
            "     |  Methods defined here:\n",
            "     |  \n",
            "     |  __init__(self, template)\n",
            "     |      Initialize self.  See help(type(self)) for accurate signature.\n",
            "     |  \n",
            "     |  safe_substitute(self, mapping={}, /, **kws)\n",
            "     |  \n",
            "     |  substitute(self, mapping={}, /, **kws)\n",
            "     |  \n",
            "     |  ----------------------------------------------------------------------\n",
            "     |  Data descriptors defined here:\n",
            "     |  \n",
            "     |  __dict__\n",
            "     |      dictionary for instance variables (if defined)\n",
            "     |  \n",
            "     |  __weakref__\n",
            "     |      list of weak references to the object (if defined)\n",
            "     |  \n",
            "     |  ----------------------------------------------------------------------\n",
            "     |  Data and other attributes defined here:\n",
            "     |  \n",
            "     |  braceidpattern = None\n",
            "     |  \n",
            "     |  delimiter = '$'\n",
            "     |  \n",
            "     |  flags = re.IGNORECASE\n",
            "     |  \n",
            "     |  idpattern = '(?a:[_a-z][_a-z0-9]*)'\n",
            "     |  \n",
            "     |  pattern = re.compile('\\n    \\\\$(?:\\n      (?P<escaped>\\\\$)...ced>(?a:[...\n",
            "\n",
            "FUNCTIONS\n",
            "    capwords(s, sep=None)\n",
            "        capwords(s [,sep]) -> string\n",
            "        \n",
            "        Split the argument into words using split, capitalize each\n",
            "        word using capitalize, and join the capitalized words using\n",
            "        join.  If the optional second argument sep is absent or None,\n",
            "        runs of whitespace characters are replaced by a single space\n",
            "        and leading and trailing whitespace are removed, otherwise\n",
            "        sep is used to split and join the words.\n",
            "\n",
            "DATA\n",
            "    __all__ = ['ascii_letters', 'ascii_lowercase', 'ascii_uppercase', 'cap...\n",
            "    ascii_letters = 'abcdefghijklmnopqrstuvwxyzABCDEFGHIJKLMNOPQRSTUVWXYZ'\n",
            "    ascii_lowercase = 'abcdefghijklmnopqrstuvwxyz'\n",
            "    ascii_uppercase = 'ABCDEFGHIJKLMNOPQRSTUVWXYZ'\n",
            "    digits = '0123456789'\n",
            "    hexdigits = '0123456789abcdefABCDEF'\n",
            "    octdigits = '01234567'\n",
            "    printable = '0123456789abcdefghijklmnopqrstuvwxyzABCDEFGHIJKLMNOPQRSTU...\n",
            "    punctuation = '!\"#$%&\\'()*+,-./:;<=>?@[\\\\]^_`{|}~'\n",
            "    whitespace = ' \\t\\n\\r\\x0b\\x0c'\n",
            "\n",
            "FILE\n",
            "    /usr/lib/python3.8/string.py\n",
            "\n",
            "\n"
          ]
        }
      ]
    },
    {
      "cell_type": "code",
      "source": [
        "a = 1"
      ],
      "metadata": {
        "id": "l7HglvHRoC5G"
      },
      "execution_count": 326,
      "outputs": []
    },
    {
      "cell_type": "code",
      "source": [
        "True or True or False"
      ],
      "metadata": {
        "colab": {
          "base_uri": "https://localhost:8080/"
        },
        "id": "DHSfMdW4tHl7",
        "outputId": "1880ac76-6ec8-4db2-b535-827969f89fac"
      },
      "execution_count": 327,
      "outputs": [
        {
          "output_type": "execute_result",
          "data": {
            "text/plain": [
              "True"
            ]
          },
          "metadata": {},
          "execution_count": 327
        }
      ]
    },
    {
      "cell_type": "code",
      "source": [
        "string.punctuation"
      ],
      "metadata": {
        "colab": {
          "base_uri": "https://localhost:8080/",
          "height": 35
        },
        "id": "w3Y12CzLtO_C",
        "outputId": "42c48982-1506-4c45-b8b5-d019a4ab3544"
      },
      "execution_count": 328,
      "outputs": [
        {
          "output_type": "execute_result",
          "data": {
            "text/plain": [
              "'!\"#$%&\\'()*+,-./:;<=>?@[\\\\]^_`{|}~'"
            ],
            "application/vnd.google.colaboratory.intrinsic+json": {
              "type": "string"
            }
          },
          "metadata": {},
          "execution_count": 328
        }
      ]
    },
    {
      "cell_type": "code",
      "source": [
        "if b and a/b > 2:\n",
        "        print('a is bigger')"
      ],
      "metadata": {
        "id": "hUGatCn7uNmK"
      },
      "execution_count": 335,
      "outputs": []
    },
    {
      "cell_type": "code",
      "source": [
        "a = 'c'\n",
        "a in string.ascii_uppercase"
      ],
      "metadata": {
        "colab": {
          "base_uri": "https://localhost:8080/"
        },
        "id": "0ZntqP0LudIX",
        "outputId": "ef2d8eb5-3c59-4059-9265-8d3df9157a0a"
      },
      "execution_count": 336,
      "outputs": [
        {
          "output_type": "execute_result",
          "data": {
            "text/plain": [
              "False"
            ]
          },
          "metadata": {},
          "execution_count": 336
        }
      ]
    },
    {
      "cell_type": "code",
      "source": [
        "string.ascii_uppercase"
      ],
      "metadata": {
        "colab": {
          "base_uri": "https://localhost:8080/",
          "height": 35
        },
        "id": "JqVFY_bSvKwG",
        "outputId": "bc02abcb-8232-4a68-9b13-698a7369969a"
      },
      "execution_count": 337,
      "outputs": [
        {
          "output_type": "execute_result",
          "data": {
            "text/plain": [
              "'ABCDEFGHIJKLMNOPQRSTUVWXYZ'"
            ],
            "application/vnd.google.colaboratory.intrinsic+json": {
              "type": "string"
            }
          },
          "metadata": {},
          "execution_count": 337
        }
      ]
    },
    {
      "cell_type": "code",
      "source": [
        "string.ascii_letters"
      ],
      "metadata": {
        "colab": {
          "base_uri": "https://localhost:8080/",
          "height": 35
        },
        "id": "48K1dOGvvOZK",
        "outputId": "f5db89c4-57fa-4571-bab7-b822b9b28347"
      },
      "execution_count": 339,
      "outputs": [
        {
          "output_type": "execute_result",
          "data": {
            "text/plain": [
              "'abcdefghijklmnopqrstuvwxyzABCDEFGHIJKLMNOPQRSTUVWXYZ'"
            ],
            "application/vnd.google.colaboratory.intrinsic+json": {
              "type": "string"
            }
          },
          "metadata": {},
          "execution_count": 339
        }
      ]
    },
    {
      "cell_type": "code",
      "source": [
        "name = \"\"\n",
        "\n",
        "if name and name[0] in string.digits:\n",
        "    print('Name cannot start with a digit')"
      ],
      "metadata": {
        "id": "145uJOtqvRdW"
      },
      "execution_count": 347,
      "outputs": []
    },
    {
      "cell_type": "code",
      "source": [
        "name = 'abc'\n",
        "bool(name)"
      ],
      "metadata": {
        "colab": {
          "base_uri": "https://localhost:8080/"
        },
        "id": "mSsMu4X_vcgY",
        "outputId": "bd74a1ed-10d1-4f2f-dd36-00029d1148a9"
      },
      "execution_count": 346,
      "outputs": [
        {
          "output_type": "execute_result",
          "data": {
            "text/plain": [
              "True"
            ]
          },
          "metadata": {},
          "execution_count": 346
        }
      ]
    },
    {
      "cell_type": "code",
      "source": [],
      "metadata": {
        "id": "JVVKeK0WwBmy"
      },
      "execution_count": null,
      "outputs": []
    }
  ]
}